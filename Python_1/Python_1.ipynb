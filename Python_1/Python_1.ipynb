{
 "cells": [
  {
   "cell_type": "markdown",
   "metadata": {
    "id": "iF3-viujmhJh"
   },
   "source": [
    "# Introduction to Python (giới thiệu lập trình Python)\n",
    "\n",
    "Authors: Khanh Vu (UCI), Duc Hoang (MIT), Trinh Chau, Thien Bui, Trung Pham. Adapted from: Google - https://github.com/google/applied-data-structures-algorithms/tree/main\n",
    "\n",
    "# Python 1: Welcome\n",
    "\n",
    "Welcome to the first practical work of the week! In this practical, we will learn about the programming language Python as well as NumPy and Matplotlib, two fundamental tools for data science and machine learning in Python.\n",
    "\n",
    "Chào mừng đến với bài thực hành đầu tiên của tuần! Trong bài thực hành này, chúng mình sẽ tìm hiểu về ngôn ngữ lập trình Python cũng như NumPy và Matplotlib, hai công cụ cơ bản cho khoa học dữ liệu và học máy (machine learning).\n",
    "\n",
    "This week, we will use Jupyter notebooks and Google colab as the primary way to practice machine learning. Notebooks are a great way to mix executable code with rich contents (HTML, images, equations written in LaTeX). Colab allows to run notebooks on the cloud for free without any prior installation, while leveraging the power of [GPUs](https://en.wikipedia.org/wiki/Graphics_processing_unit).\n",
    "\n",
    "Tuần này, chúng mình sẽ sử dụng Jupyter Notebooks và Google Colab làm phương thức chính để thực hành học máy (machine learning). Notebooks là một cách tuyệt vời để kết hợp code có thể thực thi với nội dung phong phú (HTML, hình ảnh, các phương trình viết bằng LaTeX). Colab cho phép chạy notebooks trên đám mây miễn phí mà không cần cài đặt trước, trong khi vẫn tận dụng sức mạnh của GPUs."
   ]
  },
  {
   "cell_type": "markdown",
   "metadata": {
    "id": "owssHQMS46_e"
   },
   "source": [
    "# Introduction to Colab (Giới thiệu về Colab)"
   ]
  },
  {
   "cell_type": "markdown",
   "metadata": {
    "id": "9rjDwpik5AHq"
   },
   "source": [
    "## Lesson Overview (Tổng quan bài học)"
   ]
  },
  {
   "cell_type": "markdown",
   "metadata": {
    "id": "lyay5WUK5BpI"
   },
   "source": [
    "Welcome to Colab! All of the lessons in this collection (including this one) are written as Colab notebooks, an interactive interface for Python. Colab is very similar to Jupyter, another publicly available platform for iPython notebooks."
   ]
  },
  {
   "cell_type": "markdown",
   "id": "fdf2b3ae",
   "metadata": {},
   "source": [
    "Chào bạn đến với Colab! Tất cả các bài học trong bộ sưu tập này (bao gồm cả bài này) được viết dưới dạng Colab notebooks, một giao diện tương tác cho Python. Colab rất giống với Jupyter, một nền tảng công khai khác dành cho iPython notebooks."
   ]
  },
  {
   "cell_type": "markdown",
   "metadata": {
    "id": "Fi4bJayw66nP"
   },
   "source": [
    "### Cells"
   ]
  },
  {
   "cell_type": "markdown",
   "metadata": {
    "id": "TrwuzWAr7Akh"
   },
   "source": [
    "The core component of a Colab notebook is a **cell**. A cell is a block of text or code. This cell is an example of a text cell.\n",
    "\n",
    "- **Text cells** contain editable [markdown](https://www.markdownguide.org/basic-syntax/) text. In general, it won't be required to edit any text cells, only code cells.\n",
    "\n",
    "- **Code cells** contain editable and runnable Python code. Code cells generally support all of the standard Python functionality. Code cells can be run by either:\n",
    "\n",
    "  - Clicking in the code cell and typing `command+enter` (Mac) or `control+enter` (PC)\n",
    "  - Clicking the code cell's \"Run\" button"
   ]
  },
  {
   "cell_type": "markdown",
   "id": "a09fad79",
   "metadata": {},
   "source": [
    "Thành phần cốt lõi của một Colab notebook là một **cell** (**ô**). Một cell là một khối văn bản hoặc code. Cell này là một ví dụ về text cell.\n",
    "\n",
    "- **Text cells** chứa văn bản [markdown](https://www.markdownguide.org/basic-syntax/) có thể chỉnh sửa được. Thông thường, bạn sẽ không cần phải chỉnh sửa text cells, mà chỉ cần chỉnh sửa code cells thôi.\n",
    "\n",
    "- **Code cells** chứa code Python có thể chỉnh sửa và chạy được. Code cells thường hỗ trợ tất cả các chức năng Python tiêu chuẩn. Code cells có thể được chạy bằng một trong hai cách:\n",
    "\n",
    "  - Nhấp vào code cell và gõ `command+enter` (Mac) hoặc `control+enter` (PC)\n",
    "  - Nhấp vào nút \"Run\" của code cell"
   ]
  },
  {
   "cell_type": "markdown",
   "metadata": {
    "id": "UZMpykn28Vnk"
   },
   "source": [
    "![3hvyuuXmGGTDqdF.png](data:image/png;base64,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)"
   ]
  },
  {
   "cell_type": "markdown",
   "metadata": {
    "id": "v_q7PSur8ZtW"
   },
   "source": [
    "Try running the cell below."
   ]
  },
  {
   "cell_type": "markdown",
   "id": "e352f4ff",
   "metadata": {},
   "source": [
    "Hãy thử chạy code cell bên dưới nhé."
   ]
  },
  {
   "cell_type": "code",
   "execution_count": null,
   "metadata": {
    "id": "Qr3LLd8K8bMT"
   },
   "outputs": [],
   "source": [
    "print('hello world')"
   ]
  },
  {
   "cell_type": "markdown",
   "metadata": {
    "id": "94N7OUxz_F43"
   },
   "source": [
    "When the cell has an output, Colab will print the output below the cell."
   ]
  },
  {
   "cell_type": "markdown",
   "id": "bb2384d8",
   "metadata": {},
   "source": [
    "Khi code cell có kết quả đầu ra, Colab sẽ hiển thị kết quả đó ngay bên dưới cell."
   ]
  },
  {
   "cell_type": "code",
   "execution_count": null,
   "metadata": {
    "id": "3SsPK9W4_Jw2"
   },
   "outputs": [],
   "source": [
    "print(1 + 1)"
   ]
  },
  {
   "cell_type": "markdown",
   "metadata": {
    "id": "fDJwt_h-8rUs"
   },
   "source": [
    "### Code cell dependencies (Phụ thuộc giữa các ô code)"
   ]
  },
  {
   "cell_type": "markdown",
   "metadata": {
    "id": "6N0PQvwZ8t7V"
   },
   "source": [
    "Code can depend on code within the same cell, or even code in another cell. Code cells must be run in the correct order for the dependencies to work.\n",
    "\n",
    "For example, suppose *Cell B* depends on *Cell A*. If you try to run *Cell B* before *Cell A*, Colab won't have the code from *Cell A* in its system yet, so *Cell B* will crash. If you run *Cell B* after you run *Cell A*, *Cell B* will run as intended.\n",
    "\n",
    "Below, try running *Cell B*, then *Cell A*, then *Cell B* again."
   ]
  },
  {
   "cell_type": "markdown",
   "id": "f5d18b04",
   "metadata": {},
   "source": [
    "Code có thể phụ thuộc vào code trong cùng một cell, hoặc thậm chí code trong một cell khác. Code cells phải được chạy theo đúng thứ tự để các phụ thuộc hoạt động đúng.\n",
    "\n",
    "Ví dụ, giả sử *Cell B* phụ thuộc vào *Cell A*. Nếu bạn thử chạy *Cell B* trước *Cell A*, Colab sẽ chưa có code từ *Cell A* trong hệ thống của nó, nên *Cell B* sẽ bị lỗi. Nếu bạn chạy *Cell B* sau khi chạy *Cell A*, *Cell B* sẽ chạy như mong muốn.\n",
    "\n",
    "Bên dưới, hãy thử chạy *Cell B*, sau đó *Cell A*, rồi *Cell B* một lần nữa nhé."
   ]
  },
  {
   "cell_type": "code",
   "execution_count": null,
   "metadata": {
    "id": "5eS976yM-Jnk"
   },
   "outputs": [],
   "source": [
    "# Cell B\n",
    "print(x)"
   ]
  },
  {
   "cell_type": "code",
   "execution_count": null,
   "metadata": {
    "id": "u19VhuYZ-IHj"
   },
   "outputs": [],
   "source": [
    "# Cell A\n",
    "x = 0"
   ]
  },
  {
   "cell_type": "markdown",
   "metadata": {
    "id": "0SWHxR4xyW5x"
   },
   "source": [
    "The output of a code cell can also be impacted by future code cells. Try running *Cell B*, then *Cell A*, then *Cell B* again. (Make sure to run the cells above first.)"
   ]
  },
  {
   "cell_type": "markdown",
   "id": "e365da92",
   "metadata": {},
   "source": [
    "Kết quả của một code cell cũng có thể bị ảnh hưởng bởi các code cells trong tương lai. Hãy thử chạy *Cell B*, sau đó *Cell A*, rồi *Cell B* một lần nữa nhé. (Nhớ chạy các cells ở trên trước.)"
   ]
  },
  {
   "cell_type": "code",
   "execution_count": null,
   "metadata": {
    "id": "zXlmo2v2yqC2"
   },
   "outputs": [],
   "source": [
    "# Cell B\n",
    "y = x\n",
    "print(y)"
   ]
  },
  {
   "cell_type": "code",
   "execution_count": null,
   "metadata": {
    "id": "9kmME6Isy3e1"
   },
   "outputs": [],
   "source": [
    "# Cell A\n",
    "x += 1"
   ]
  },
  {
   "cell_type": "markdown",
   "metadata": {
    "id": "SU8teW3x-Oyx"
   },
   "source": [
    "In general, it is best to structure notebooks such that a cell dependent on another cell comes after the latter cell. That way, if the notebook is run from top to bottom, there will be no dependency errors."
   ]
  },
  {
   "cell_type": "markdown",
   "id": "46ace691",
   "metadata": {},
   "source": [
    "Nói chung, tốt nhất là nên cấu trúc notebooks sao cho một cell phụ thuộc vào cell khác sẽ được đặt sau cell đó. Bằng cách này, nếu notebook được chạy từ trên xuống dưới, sẽ không có lỗi phụ thuộc nào xảy ra."
   ]
  },
  {
   "cell_type": "markdown",
   "metadata": {
    "id": "Fq9afNMG-m-w"
   },
   "source": [
    "### Hiding sections (Ẩn các phần)"
   ]
  },
  {
   "cell_type": "markdown",
   "metadata": {
    "id": "91DoH4c5-o_f"
   },
   "source": [
    "You can hide and unhide entire sections in Colab by clicking the arrow next to the section header."
   ]
  },
  {
   "cell_type": "markdown",
   "id": "74981680",
   "metadata": {},
   "source": [
    "Bạn có thể ẩn và hiện toàn bộ các phần trong Colab bằng cách nhấp vào mũi tên bên cạnh tiêu đề phần."
   ]
  },
  {
   "cell_type": "markdown",
   "metadata": {
    "id": "TgGXJV9_-8RZ"
   },
   "source": [
    "![3WEjiBDfc3bdNzF.png](data:image/png;base64,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)"
   ]
  },
  {
   "cell_type": "markdown",
   "metadata": {
    "id": "MrRVIjDe-_Mb"
   },
   "source": [
    "Try hiding and unhiding this section (the section called *Hiding sections*)."
   ]
  },
  {
   "cell_type": "markdown",
   "id": "27c49ed1",
   "metadata": {},
   "source": [
    "Hãy thử ẩn và hiện phần này (phần có tên là *Hiding sections*)."
   ]
  },
  {
   "cell_type": "markdown",
   "metadata": {
    "id": "vZRcz7zkunEj"
   },
   "source": [
    "### Lesson structure (Cấu trúc bài học)"
   ]
  },
  {
   "cell_type": "markdown",
   "metadata": {
    "id": "egu4oZaXu8qx"
   },
   "source": [
    "All lessons have a single **lesson overview** followed by multiple **questions**. The lesson overview covers the fundamental material of the topic, and the questions test and add to this knowledge.\n",
    "\n",
    "There are three types of questions:\n",
    "\n",
    "1. Multiple choice questions, in which you need to choose the correct answer(s) from a list\n",
    "\n",
    "1. Short answer questions, in which your answer should be one or more sentences\n",
    "\n",
    "1. Coding questions, in which you need to write or complete a block of code\n",
    "\n",
    "All questions have a **solution** that you can expand by unhiding. As is often the case in computer science, the solution is not the only solution!\n",
    "\n",
    "Some questions may have a **hint** that you can unhide to help if you are stuck. Coding questions may also include **unit tests**, a few test cases to check whether your answer is working as intended. Once you have written an answer, you can unhide the unit tests and run the cell to check if your answer passes the test cases. We recommend trying to pass all unit tests for each question."
   ]
  },
  {
   "cell_type": "markdown",
   "id": "9e5fb4ad",
   "metadata": {},
   "source": [
    "Tất cả các bài học đều có một phần **tổng quan bài học** và sau đó là nhiều **câu hỏi**. Phần tổng quan bài học bao gồm các kiến thức cơ bản của chủ đề, và các câu hỏi sẽ kiểm tra và bổ sung cho kiến thức này.\n",
    "\n",
    "Có ba loại câu hỏi:\n",
    "\n",
    "1. Câu hỏi trắc nghiệm, trong đó bạn cần chọn (các) câu trả lời đúng từ một danh sách\n",
    "\n",
    "1. Câu hỏi trả lời ngắn, trong đó câu trả lời của bạn nên là một hoặc nhiều câu\n",
    "\n",
    "1. Câu hỏi code, trong đó bạn cần viết hoặc hoàn thành một đoạn code\n",
    "\n",
    "Tất cả các câu hỏi đều có phần **giải pháp** mà bạn có thể mở rộng bằng cách bỏ ẩn. Như thường thấy trong khoa học máy tính, giải pháp đưa ra không phải là giải pháp duy nhất!\n",
    "\n",
    "Một số câu hỏi có thể có phần **gợi ý** mà bạn có thể bỏ ẩn để được giúp đỡ khi bạn bị mắc kẹt. Các câu hỏi code cũng có thể bao gồm **unit tests**, một số test case để kiểm tra xem câu trả lời của bạn có hoạt động đúng như dự định hay không. Sau khi bạn đã viết câu trả lời, bạn có thể bỏ ẩn unit tests và chạy cell để kiểm tra xem câu trả lời của bạn có vượt qua các test case hay không. Chúng mình khuyên bạn nên cố gắng vượt qua tất cả unit tests cho mỗi câu hỏi."
   ]
  },
  {
   "cell_type": "markdown",
   "metadata": {
    "id": "XgmSvBtVxAg0"
   },
   "source": [
    "## Question 1 (Câu hỏi 1)"
   ]
  },
  {
   "cell_type": "markdown",
   "metadata": {
    "id": "95fD3BXyxCMI"
   },
   "source": [
    "Which of the following would work to make the cell below run? There may be more than one correct response."
   ]
  },
  {
   "cell_type": "markdown",
   "id": "46a81ba5",
   "metadata": {},
   "source": [
    "Cách nào sau đây sẽ giúp cell bên dưới chạy được? Có thể có nhiều hơn một câu trả lời đúng."
   ]
  },
  {
   "cell_type": "code",
   "execution_count": null,
   "metadata": {
    "id": "19WcCdCuxeM2"
   },
   "outputs": [],
   "source": [
    "print(x + 1)\n",
    "x = 2"
   ]
  },
  {
   "cell_type": "markdown",
   "metadata": {
    "id": "lej49OVNxgi4"
   },
   "source": [
    "**a)** The cell already runs\n",
    "\n",
    "**b)** Switch lines 1 and 2\n",
    "\n",
    "**c)** Separate each line into a separate cell\n",
    "\n",
    "**d)** Separate each line into a separate cell and move the `x = 2` cell before the `print(x + 1)` cell"
   ]
  },
  {
   "cell_type": "markdown",
   "metadata": {},
   "source": [
    "**a)** Cell đã chạy được\n",
    "\n",
    "**b)** Đổi chỗ dòng 1 và 2\n",
    "\n",
    "**c)** Tách mỗi dòng thành một cell riêng\n",
    "\n",
    "**d)** Tách mỗi dòng thành một cell riêng và di chuyển cell `x = 2` lên trước cell `print(x + 1)`"
   ]
  },
  {
   "cell_type": "markdown",
   "metadata": {
    "id": "Rd7QQEzAzWvt"
   },
   "source": [
    "### Solution (Giải pháp)"
   ]
  },
  {
   "cell_type": "markdown",
   "metadata": {
    "id": "Gy64N-34zYlg"
   },
   "source": [
    "The correct answers are **b)** and **d)**."
   ]
  },
  {
   "cell_type": "markdown",
   "metadata": {},
   "source": [
    "Câu trả lời đúng là **b)** và **d)**."
   ]
  },
  {
   "cell_type": "markdown",
   "metadata": {
    "id": "SZHyaAm6z_id"
   },
   "source": [
    "## Question 2"
   ]
  },
  {
   "cell_type": "markdown",
   "metadata": {
    "id": "sWatppVW0Amg"
   },
   "source": [
    "Run the following cell. What is the output? (You don't need to understand what is happening in the cell, just find the output.)"
   ]
  },
  {
   "cell_type": "code",
   "execution_count": null,
   "metadata": {
    "id": "Jc4JCijH0E_h"
   },
   "outputs": [],
   "source": [
    "import math\n",
    "\n",
    "print(math.gamma(12.3456))"
   ]
  },
  {
   "cell_type": "markdown",
   "metadata": {
    "id": "JV45amby1URV"
   },
   "source": [
    "**a)** 12.3456\n",
    "\n",
    "**b)** 364910.1746\n",
    "\n",
    "**c)** 1029574\n",
    "\n",
    "**d)** 93327961.6394276\n",
    "\n",
    "**e)** 62823.194"
   ]
  },
  {
   "cell_type": "markdown",
   "id": "2e79a410",
   "metadata": {},
   "source": [
    "**a)** 12.3456\n",
    "\n",
    "**b)** 364910.1746\n",
    "\n",
    "**c)** 1029574\n",
    "\n",
    "**d)** 93327961.6394276\n",
    "\n",
    "**e)** 62823.194"
   ]
  },
  {
   "cell_type": "markdown",
   "metadata": {
    "id": "cgQOiuSE1mNC"
   },
   "source": [
    "### Solution (Giải pháp)"
   ]
  },
  {
   "cell_type": "markdown",
   "metadata": {
    "id": "iHIDsozC1ncV"
   },
   "source": [
    "The correct answer is **d)**."
   ]
  },
  {
   "cell_type": "markdown",
   "id": "a536be2a",
   "metadata": {},
   "source": [
    "Câu trả lời đúng là **d)**."
   ]
  },
  {
   "cell_type": "markdown",
   "metadata": {
    "id": "Pic8r3n4AWWu"
   },
   "source": [
    "# Conditionals (Câu lệnh điều kiện)"
   ]
  },
  {
   "cell_type": "markdown",
   "metadata": {
    "id": "40klIjfB3g0H"
   },
   "source": [
    "## Lesson Overview (Tổng quan bài học)"
   ]
  },
  {
   "cell_type": "markdown",
   "metadata": {
    "id": "8WWPuZ6JxE5L"
   },
   "source": [
    "A well-implemented program may have points where functionality needs to branch down multiple paths, depending on the input. Rather than build a completely separate program for each possible path, we can add ways to allow the code to branch down these paths via **conditionals**, or code constructs designed to change program flow based on some criteria."
   ]
  },
  {
   "cell_type": "markdown",
   "id": "c6d4bd13",
   "metadata": {},
   "source": [
    "Một chương trình được triển khai tốt có thể có những điểm mà chức năng cần phải rẽ nhánh theo nhiều đường khác nhau, tùy thuộc vào đầu vào. Thay vì xây dựng một chương trình hoàn toàn riêng biệt cho mỗi đường đi có thể, chúng mình có thể thêm các cách để cho phép code rẽ nhánh theo các đường đi này thông qua **conditionals** (câu lệnh điều kiện), hay các cấu trúc code được thiết kế để thay đổi luồng chương trình dựa trên một số tiêu chí."
   ]
  },
  {
   "cell_type": "markdown",
   "metadata": {
    "id": "24FzSdqzmP3q"
   },
   "source": [
    "### If statements (Câu lệnh If)"
   ]
  },
  {
   "cell_type": "markdown",
   "metadata": {
    "id": "0udwObR3YNs9"
   },
   "source": [
    "Just like in English, an **if statement** can be used to express a conditional, which will allow additional (or different) code to be executed in the case that the conditional's criteria is met. Generally, an `if` statement is a block of code with some criteria that executes if that criteria evaluates to `True`. Take this code, for example, which uses the [Fahrenheit](https://en.wikipedia.org/wiki/Fahrenheit) temperature scale:"
   ]
  },
  {
   "cell_type": "markdown",
   "id": "79c3dd01",
   "metadata": {},
   "source": [
    "Giống như trong tiếng Anh, một **if statement** (câu lệnh if) có thể được sử dụng để biểu thị một điều kiện, cho phép thực thi code bổ sung (hoặc khác) trong trường hợp điều kiện được thỏa mãn. Nói chung, một câu lệnh `if` là một khối code với một số tiêu chí sẽ được thực thi nếu tiêu chí đó được đánh giá là `True`. Ví dụ, hãy xem đoạn code này, sử dụng thang nhiệt độ [Fahrenheit](https://en.wikipedia.org/wiki/Fahrenheit):"
   ]
  },
  {
   "cell_type": "code",
   "execution_count": null,
   "metadata": {
    "id": "n_uFmpISmfeO"
   },
   "outputs": [],
   "source": [
    "freezer_temperature = 40 # Fahrenheit\n",
    "if freezer_temperature > 32:\n",
    "  print('My ice cream is melting!')"
   ]
  },
  {
   "cell_type": "markdown",
   "metadata": {
    "id": "raGs97Lbm5gu"
   },
   "source": [
    "In this code snippet, we print `'My ice cream is melting!'` if the temperature of the freezer is higher than the freezing point of water (32 degrees Fahrenheit). Our conditional criteria is `freezer_temperature > 32`, which evaluates to `True` since `freezer_temperature` is 40. If the freezer temperature is lower than 32, there's no problem; the ice cream is safe. Programs can have more than one `if` statement, as well; let's try that with this example, which uses the [Celsius](https://en.wikipedia.org/wiki/Celsius) temperature scale:"
   ]
  },
  {
   "cell_type": "markdown",
   "id": "2ee2f370",
   "metadata": {},
   "source": [
    "Trong đoạn code này, chúng mình in ra `'My ice cream is melting!'` nếu nhiệt độ của tủ lạnh cao hơn điểm đóng băng của nước (32 độ Fahrenheit). Tiêu chí điều kiện của chúng mình là `freezer_temperature > 32`, được đánh giá là `True` vì `freezer_temperature` là 40. Nếu nhiệt độ tủ lạnh thấp hơn 32, không có vấn đề gì; kem vẫn an toàn. Các chương trình có thể có nhiều hơn một câu lệnh `if`; hãy thử điều đó với ví dụ này, sử dụng thang nhiệt độ [Celsius](https://en.wikipedia.org/wiki/Celsius):"
   ]
  },
  {
   "cell_type": "code",
   "execution_count": null,
   "metadata": {
    "id": "XzCjGPwsC4-I"
   },
   "outputs": [],
   "source": [
    "freezer_temperature = -300 # Celcius\n",
    "if freezer_temperature > 0:\n",
    "  print('My ice cream is melting!')\n",
    "if freezer_temperature < -273.15: # Absolute zero, in Celsius.\n",
    "  print('The freezer has achieved a temperature below absolute zero!')"
   ]
  },
  {
   "cell_type": "markdown",
   "metadata": {
    "id": "cQ_fFf0wDHO_"
   },
   "source": [
    "In this case, since the freezer temperature is not above 0, it bypasses the first `if` statement (which checks to see if the temperature is greater than 0). The next `if` statement checks to see if the current temperature is below absolute zero, and prints a warning statement if it is. `if` statements are not mutually exclusive, however; multiple consecutive `if` statements can be activated during program flow. This example uses the [Rankine](https://en.wikipedia.org/wiki/Rankine_scale) temperature scale to show how multiple consecutive `if` statements can activate if their criteria are both met, even if they reference the same variable:"
   ]
  },
  {
   "cell_type": "markdown",
   "id": "5a8bc668",
   "metadata": {},
   "source": [
    "Trong trường hợp này, vì nhiệt độ tủ lạnh không cao hơn 0, nó bỏ qua câu lệnh `if` đầu tiên (kiểm tra xem nhiệt độ có lớn hơn 0 không). Câu lệnh `if` tiếp theo kiểm tra xem nhiệt độ hiện tại có thấp hơn không độ tuyệt đối không, và in ra một cảnh báo nếu có. Tuy nhiên, các câu lệnh `if` không loại trừ lẫn nhau; nhiều câu lệnh `if` liên tiếp có thể được kích hoạt trong quá trình chạy chương trình. Ví dụ này sử dụng thang nhiệt độ [Rankine](https://en.wikipedia.org/wiki/Rankine_scale) để cho thấy cách nhiều câu lệnh `if` liên tiếp có thể được kích hoạt nếu tiêu chí của chúng đều được thỏa mãn, ngay cả khi chúng tham chiếu đến cùng một biến:"
   ]
  },
  {
   "cell_type": "code",
   "execution_count": null,
   "metadata": {
    "id": "l0l-ET14DkSd"
   },
   "outputs": [],
   "source": [
    "freezer_temperature = 474.67 # Rankine\n",
    "if freezer_temperature < 491.67:\n",
    "  print('My ice cream is cold, I think? Is almost 500 degrees cold?')\n",
    "if freezer_temperature < 479.67:\n",
    "  print('Yeah, I am pretty sure my ice cream is cold.')"
   ]
  },
  {
   "cell_type": "markdown",
   "metadata": {
    "id": "mo6StVKMD-l-"
   },
   "source": [
    "Here, the freezer temperature is below both thresholds set by the two `if` statements, and so both statements will print. `if` statements are often used to add extra functionality or flexibility to code or to skip over sections that should not execute in certain circumstances."
   ]
  },
  {
   "cell_type": "markdown",
   "id": "5d68f51c",
   "metadata": {},
   "source": [
    "Ở đây, nhiệt độ tủ lạnh thấp hơn cả hai ngưỡng được đặt bởi hai câu lệnh `if`, và vì vậy cả hai câu lệnh đều sẽ in ra. Câu lệnh `if` thường được sử dụng để thêm chức năng hoặc tính linh hoạt cho code hoặc để bỏ qua các phần không nên thực thi trong một số trường hợp nhất định."
   ]
  },
  {
   "cell_type": "markdown",
   "metadata": {
    "id": "CoZnoYhYqFYr"
   },
   "source": [
    "### Else statements (Câu lệnh Else)"
   ]
  },
  {
   "cell_type": "markdown",
   "metadata": {
    "id": "b7uCyqP5uQWp"
   },
   "source": [
    "An `if` statement alone isn't necessarily enough to create two completely mutually exclusive segments of code. Say we were building a program to let students know there was a snow day (an event in which school is cancelled due to snow making most roads impassable). If there are ten inches of snow or more outside, then we cancel school. This code may seem like it works, but try running it to see the result:"
   ]
  },
  {
   "cell_type": "markdown",
   "id": "71d29ee2",
   "metadata": {},
   "source": [
    "Một câu lệnh `if` đơn lẻ không nhất thiết đủ để tạo ra hai phần code hoàn toàn loại trừ lẫn nhau. Giả sử chúng mình đang xây dựng một chương trình để thông báo cho học sinh biết có ngày nghỉ tuyết hay không (một sự kiện mà trường học bị đóng cửa do tuyết khiến hầu hết các con đường không thể đi lại được). Nếu có từ mười inch tuyết trở lên bên ngoài, thì chúng mình sẽ đóng cửa trường. Code này có vẻ như hoạt động, nhưng hãy thử chạy nó để xem kết quả:"
   ]
  },
  {
   "cell_type": "code",
   "execution_count": null,
   "metadata": {
    "id": "ooZGcB9nFk0E"
   },
   "outputs": [],
   "source": [
    "inches_of_snow = 5\n",
    "if inches_of_snow >= 10:\n",
    "  print('School is cancelled! Snow day!')\n",
    "print('School is still on!')"
   ]
  },
  {
   "cell_type": "markdown",
   "metadata": {
    "id": "mDDB_bmx1t3e"
   },
   "source": [
    "When looking at that code, there's some temptation to say that since it prints the correct statement when `inches_of_snow` is greater than or equal to 10, that it works correctly. However, try changing `inches_of_snow` to 15 and re-running the code."
   ]
  },
  {
   "cell_type": "markdown",
   "id": "506db95f",
   "metadata": {},
   "source": [
    "Khi nhìn vào đoạn code đó, có thể bạn sẽ nghĩ rằng vì nó in ra câu lệnh đúng khi `inches_of_snow` lớn hơn hoặc bằng 10, nên nó hoạt động đúng. Tuy nhiên, hãy thử thay đổi `inches_of_snow` thành 15 và chạy lại code."
   ]
  },
  {
   "cell_type": "code",
   "execution_count": null,
   "metadata": {
    "id": "Tk0adUh6GEK0"
   },
   "outputs": [],
   "source": [
    "inches_of_snow = 15\n",
    "if inches_of_snow >= 10:\n",
    "  print('School is cancelled! Snow day!')\n",
    "print('School is still on!')"
   ]
  },
  {
   "cell_type": "markdown",
   "metadata": {
    "id": "3bP02GIxGFYW"
   },
   "source": [
    "Our program now prints *both* statements, rather than just the correct snow day statement. This is where an `else` statement will come in handy; it allows us to move the second `print` statement into its own segment of code, so that it only runs if `inches_of_snow` is less than 10 (so the first `if` statement's condition isn't met). Generally, an **else statement** is a block of code that is paired with an `if` statement and executes if the `if` statement's criteria evaluates to `False`."
   ]
  },
  {
   "cell_type": "markdown",
   "id": "2f7c9a5e",
   "metadata": {},
   "source": [
    "Chương trình của chúng mình bây giờ in ra *cả hai* câu lệnh, thay vì chỉ in ra câu lệnh ngày nghỉ tuyết đúng. Đây là lúc câu lệnh `else` sẽ hữu ích; nó cho phép chúng mình chuyển câu lệnh `print` thứ hai vào một phần code riêng, để nó chỉ chạy khi `inches_of_snow` nhỏ hơn 10 (nghĩa là điều kiện của câu lệnh `if` đầu tiên không được thỏa mãn). Nói chung, một **else statement** (câu lệnh else) là một khối code được ghép nối với một câu lệnh `if` và được thực thi nếu tiêu chí của câu lệnh `if` được đánh giá là `False`."
   ]
  },
  {
   "cell_type": "code",
   "execution_count": null,
   "metadata": {
    "id": "2-DwHjHqGJMF"
   },
   "outputs": [],
   "source": [
    "inches_of_snow = 15\n",
    "if inches_of_snow >= 10:\n",
    "  print('School is cancelled! Snow day!')\n",
    "else:\n",
    "  print('School is still on!')"
   ]
  },
  {
   "cell_type": "markdown",
   "metadata": {
    "id": "bf80tccDHAHu"
   },
   "source": [
    "Changing `inches_of_snow` to 5 or 15 means that in either case, only one statement will print. That's the expected functionality. `else` statements must always be paired with a corresponding `if` statement, otherwise it's considered a syntax error."
   ]
  },
  {
   "cell_type": "markdown",
   "id": "e1c5350c",
   "metadata": {},
   "source": [
    "Thay đổi `inches_of_snow` thành 5 hoặc 15 có nghĩa là trong cả hai trường hợp, chỉ một câu lệnh sẽ được in ra. Đó là chức năng mong đợi. Câu lệnh `else` phải luôn được ghép nối với một câu lệnh `if` tương ứng, nếu không nó sẽ được coi là lỗi cú pháp."
   ]
  },
  {
   "cell_type": "markdown",
   "metadata": {
    "id": "yJPGGvQy6y_c"
   },
   "source": [
    "### Elif statements (Câu lệnh Elif)"
   ]
  },
  {
   "cell_type": "markdown",
   "metadata": {
    "id": "kzFXD49a68P4"
   },
   "source": [
    "The final type of conditional statement that Python supports is an `elif` statement. Typically, this is used for conditionals that have more than two cases, such as this one:\n"
   ]
  },
  {
   "cell_type": "markdown",
   "id": "69e69550",
   "metadata": {},
   "source": [
    "Loại câu lệnh điều kiện cuối cùng mà Python hỗ trợ là câu lệnh `elif`. Thông thường, câu lệnh này được sử dụng cho các điều kiện có nhiều hơn hai trường hợp, như ví dụ sau:"
   ]
  },
  {
   "cell_type": "code",
   "execution_count": null,
   "metadata": {
    "id": "vpETZEn-M_3p"
   },
   "outputs": [],
   "source": [
    "inches_of_snow = 5\n",
    "if inches_of_snow >= 10:\n",
    "  print('School is cancelled! Snow day!')\n",
    "elif inches_of_snow >= 5:\n",
    "  print('School is delayed two hours to allow the snow time to melt.')\n",
    "else:\n",
    "  print('School is still on!')"
   ]
  },
  {
   "cell_type": "markdown",
   "metadata": {
    "id": "Y1RkJlAiNJb2"
   },
   "source": [
    "This code allows for three cases: `inches_of_snow` is 10 or more, more than 5 but less than 10, or less than 5. This produces three different outcomes"
   ]
  },
  {
   "cell_type": "markdown",
   "id": "3367d5ab",
   "metadata": {},
   "source": [
    "Code này cho phép ba trường hợp: `inches_of_snow` từ 10 trở lên, lớn hơn 5 nhưng nhỏ hơn 10, hoặc nhỏ hơn 5. Điều này tạo ra ba kết quả khác nhau."
   ]
  },
  {
   "cell_type": "markdown",
   "metadata": {
    "id": "GH9OWx3wjhTE"
   },
   "source": [
    "## Question 1 (Câu hỏi 1)"
   ]
  },
  {
   "cell_type": "markdown",
   "metadata": {
    "id": "YjLrLVfvikwZ"
   },
   "source": [
    "Consider the following code."
   ]
  },
  {
   "cell_type": "markdown",
   "id": "a5854ba0",
   "metadata": {},
   "source": [
    "Hãy xem xét đoạn code sau."
   ]
  },
  {
   "cell_type": "markdown",
   "metadata": {
    "id": "IpMTvcMoiWud"
   },
   "source": [
    "```python\n",
    "value = 5\n",
    "if value > 2:\n",
    "  value += 4\n",
    "elif value < 0:\n",
    "  value = -1 * value\n",
    "else:\n",
    "  value = 3\n",
    "if value == 9:\n",
    "  value -= 9\n",
    "else:\n",
    "  value = 3\n",
    "value += 5\n",
    "```"
   ]
  },
  {
   "cell_type": "markdown",
   "metadata": {
    "id": "ootP2MVBis6I"
   },
   "source": [
    "What will `value` equal after the code's completion?"
   ]
  },
  {
   "cell_type": "markdown",
   "id": "716ba9fd",
   "metadata": {},
   "source": [
    "`value` sẽ bằng bao nhiêu sau khi code hoàn thành?"
   ]
  },
  {
   "cell_type": "markdown",
   "metadata": {
    "id": "5NdGphqGi6vz"
   },
   "source": [
    "**a)** 9\n",
    "\n",
    "**b)** 8\n",
    "\n",
    "**c)** 6\n",
    "\n",
    "**d)** 5\n",
    "\n",
    "**e)** 0"
   ]
  },
  {
   "cell_type": "markdown",
   "id": "d212bf7e",
   "metadata": {},
   "source": [
    "**a)** 9\n",
    "\n",
    "**b)** 8\n",
    "\n",
    "**c)** 6\n",
    "\n",
    "**d)** 5\n",
    "\n",
    "**e)** 0"
   ]
  },
  {
   "cell_type": "markdown",
   "metadata": {
    "id": "FkNJ2Wghi6v0"
   },
   "source": [
    "### Solution (Giải pháp)"
   ]
  },
  {
   "cell_type": "markdown",
   "metadata": {
    "id": "Kn3LHu90i6v0"
   },
   "source": [
    "The correct answer is **d)**.\n",
    "\n",
    "**a)** After the first `if` statement, `value` is indeed equal to 9. However, after the second `if` statement it will be set to 0 and then incremented to 5.\n",
    "\n",
    "**b)** This is almost correct. After the final `if` statement, if `value` had not been 9, it would have been set to 3 and incremented to 8. However, since `value` was equal to 9, it was set to 0 and then incremented to 5.\n",
    "\n",
    "**c)** No matter what, `value` will increase by 5 at the end of this block of code. To end up as 6, `value` would have to be 1 after the second `if` statement, and it can only be 0 or 3.\n",
    "\n",
    "**e)** This would be correct, but the final line of the program is `value += 5`, which will increment `value` (currently 0) to 5."
   ]
  },
  {
   "cell_type": "markdown",
   "id": "ccacc3e8",
   "metadata": {},
   "source": [
    "Câu trả lời đúng là **d)**.\n",
    "\n",
    "**a)** Sau câu lệnh `if` đầu tiên, `value` đúng là bằng 9. Tuy nhiên, sau câu lệnh `if` thứ hai, nó sẽ được đặt thành 0 và sau đó tăng lên thành 5.\n",
    "\n",
    "**b)** Điều này gần như đúng. Sau câu lệnh `if` cuối cùng, nếu `value` không phải là 9, nó sẽ được đặt thành 3 và tăng lên thành 8. Tuy nhiên, vì `value` bằng 9, nó đã được đặt thành 0 và sau đó tăng lên thành 5.\n",
    "\n",
    "**c)** Dù thế nào đi nữa, `value` sẽ tăng thêm 5 ở cuối khối code này. Để kết thúc là 6, `value` phải là 1 sau câu lệnh `if` thứ hai, và nó chỉ có thể là 0 hoặc 3.\n",
    "\n",
    "**e)** Điều này sẽ đúng, nhưng dòng cuối cùng của chương trình là `value += 5`, sẽ tăng `value` (hiện tại là 0) lên thành 5."
   ]
  },
  {
   "cell_type": "markdown",
   "metadata": {
    "id": "oP1jK3mkdgK-"
   },
   "source": [
    "## Question 4 (Câu hỏi 4)"
   ]
  },
  {
   "cell_type": "markdown",
   "metadata": {
    "id": "9YqAudhuSxJg"
   },
   "source": [
    "In Python, the **modulo** operator allows you to calculate the remainder of integer division of two numbers. For instance, `5 % 3` is equal to 2, the remainder of `5 // 3` (where `//` is the integer division operator, equal to the greatest integer less than or equal to `5/3`). We can use that to create a way to determine if a number is even or odd, as any integer % 2 is either 0 (no remainder, so it is even) or 1 (it is odd). Use this to fill in an `odd_or_even` function that, given a number, will print `'even'` or `'odd'`.\n",
    "\n",
    "If you're not familiar with function syntax, don't worry! Just fill in the code below `def odd_or_even(number)` and assume that `number` is the number to be checked."
   ]
  },
  {
   "cell_type": "markdown",
   "id": "5fd4f953",
   "metadata": {},
   "source": [
    "Trong Python, toán tử **modulo** cho phép bạn tính phần dư của phép chia số nguyên giữa hai số. Ví dụ, `5 % 3` bằng 2, là phần dư của `5 // 3` (trong đó `//` là toán tử chia số nguyên, bằng số nguyên lớn nhất nhỏ hơn hoặc bằng `5/3`). Chúng mình có thể sử dụng điều đó để tạo ra cách xác định xem một số là chẵn hay lẻ, vì bất kỳ số nguyên % 2 đều là 0 (không có phần dư, nên là số chẵn) hoặc 1 (là số lẻ). Hãy sử dụng điều này để điền vào hàm `odd_or_even` mà khi được cung cấp một số, sẽ in ra `'even'` hoặc `'odd'`.\n",
    "\n",
    "Nếu bạn không quen với cú pháp hàm, đừng lo! Chỉ cần điền code bên dưới `def odd_or_even(number)` và giả sử rằng `number` là số cần kiểm tra."
   ]
  },
  {
   "cell_type": "code",
   "execution_count": null,
   "metadata": {
    "id": "fpem4YpVCm4i"
   },
   "outputs": [],
   "source": [
    "def odd_or_even(number):\n",
    "  # Fill in your code here.\n",
    "  # number will be available for you to use in your code.\n",
    "  # Don't forget to indent by two spaces! Line your code up with these comments.\n"
   ]
  },
  {
   "cell_type": "markdown",
   "metadata": {
    "id": "nPptDV2feEs2"
   },
   "source": [
    "### Hint (Gợi ý)"
   ]
  },
  {
   "cell_type": "markdown",
   "metadata": {
    "id": "QyjfzTDJeDOT"
   },
   "source": [
    "It can be challenging to use the modulo operator if you're not familiar with it; here's an example of how to use it in practice."
   ]
  },
  {
   "cell_type": "markdown",
   "id": "ef2315d1",
   "metadata": {},
   "source": [
    "Có thể khó sử dụng toán tử modulo nếu bạn không quen với nó; đây là một ví dụ về cách sử dụng nó trong thực tế."
   ]
  },
  {
   "cell_type": "code",
   "execution_count": null,
   "metadata": {
    "id": "tjj-VKkQUvo8"
   },
   "outputs": [],
   "source": [
    "number = 55\n",
    "if number % 10 == 5:\n",
    "  print('The remainder of this division is 5!')"
   ]
  },
  {
   "cell_type": "markdown",
   "metadata": {
    "id": "KBNIQ3UtTsBQ"
   },
   "source": [
    "### Unit Tests\n",
    "\n",
    "Run the following cell to check your answer against some unit tests."
   ]
  },
  {
   "cell_type": "markdown",
   "id": "c3446cb7",
   "metadata": {},
   "source": [
    "### Unit Tests (Kiểm thử đơn vị)\n",
    "\n",
    "Chạy cell sau để kiểm tra câu trả lời của bạn với một số unit tests."
   ]
  },
  {
   "cell_type": "code",
   "execution_count": null,
   "metadata": {
    "id": "z1KV2VTVTsBS"
   },
   "outputs": [],
   "source": [
    "odd_or_even(5)\n",
    "# Should print: odd\n",
    "\n",
    "odd_or_even(10)\n",
    "# Should print: even\n",
    "\n",
    "odd_or_even(0)\n",
    "# Should print: even"
   ]
  },
  {
   "cell_type": "markdown",
   "metadata": {
    "id": "opB3JcMWeZQy"
   },
   "source": [
    "### Solution (Giải pháp)"
   ]
  },
  {
   "cell_type": "markdown",
   "metadata": {
    "id": "V7VW50KYUi2j"
   },
   "source": [
    "If you want to be explicit, you can write `elif number % 2 == 1` instead of using an `else` statement, but given that there are only two cases to check for, an `else` statement is perfectly fine."
   ]
  },
  {
   "cell_type": "markdown",
   "id": "0f95a905",
   "metadata": {},
   "source": [
    "Nếu bạn muốn rõ ràng hơn, bạn có thể viết `elif number % 2 == 1` thay vì sử dụng câu lệnh `else`, nhưng vì chỉ có hai trường hợp cần kiểm tra, nên câu lệnh `else` là hoàn toàn phù hợp."
   ]
  },
  {
   "cell_type": "code",
   "execution_count": null,
   "metadata": {
    "id": "ef2LL4VST_9Z"
   },
   "outputs": [],
   "source": [
    "def odd_or_even(number):\n",
    "  if number % 2 == 0:\n",
    "    print('even')\n",
    "  else:\n",
    "    print('odd')"
   ]
  },
  {
   "cell_type": "markdown",
   "metadata": {
    "id": "ehqluUn62Eew"
   },
   "source": [
    "# Loops (Vòng lặp)"
   ]
  },
  {
   "cell_type": "markdown",
   "metadata": {
    "id": "SmKpfPWm2Eew"
   },
   "source": [
    "## Lesson Overview (Tổng quan bài học)"
   ]
  },
  {
   "cell_type": "markdown",
   "metadata": {
    "id": "xb7BKxP12Eex"
   },
   "source": [
    "Often, patterns or sections of code need to run more than one time during a program's execution. While copying and pasting code is an easy way to ensure that said code executes repeatedly, that additional code can make the program harder to read, and any changes that need to be made to the code then have to be made to each copy of that code. Instead, most coding languages support **loops**, or control structures that allow blocks of code to be repeated more than once."
   ]
  },
  {
   "cell_type": "markdown",
   "id": "92a62fd8",
   "metadata": {},
   "source": [
    "Thường thì các mẫu hoặc phần code cần chạy nhiều lần trong quá trình thực thi chương trình. Mặc dù sao chép và dán code là một cách dễ dàng để đảm bảo code đó được thực thi lặp đi lặp lại, nhưng code bổ sung đó có thể khiến chương trình khó đọc hơn, và bất kỳ thay đổi nào cần thực hiện với code đều phải được thực hiện với từng bản sao của code đó. Thay vào đó, hầu hết các ngôn ngữ lập trình đều hỗ trợ **loops** (vòng lặp), hay các cấu trúc điều khiển cho phép các khối code được lặp lại nhiều lần."
   ]
  },
  {
   "cell_type": "markdown",
   "metadata": {
    "id": "tqvgFhSI2Eex"
   },
   "source": [
    "### While loops (Vòng lặp While)"
   ]
  },
  {
   "cell_type": "markdown",
   "metadata": {
    "id": "ATOSsPdvZ2ES"
   },
   "source": [
    "One type of loop is a **while loop**, or a loop that continues repeating a block of code while some criteria is `True`. After executing the block of code, the criteria is checked again, and while that criteria continues to evaluate to `True`, the loop continues. Here's an example."
   ]
  },
  {
   "cell_type": "markdown",
   "id": "946f29de",
   "metadata": {},
   "source": [
    "Một loại vòng lặp là **while loop** (vòng lặp while), hay một vòng lặp tiếp tục lặp lại một khối code trong khi một tiêu chí nào đó là `True`. Sau khi thực thi khối code, tiêu chí được kiểm tra lại, và trong khi tiêu chí đó tiếp tục được đánh giá là `True`, vòng lặp sẽ tiếp tục. Đây là một ví dụ."
   ]
  },
  {
   "cell_type": "code",
   "execution_count": null,
   "metadata": {
    "id": "V5FS5JvhaGmU"
   },
   "outputs": [],
   "source": [
    "countdown = 5\n",
    "while countdown > 0:\n",
    "  print(countdown)\n",
    "  countdown -= 1\n",
    "print('Happy New Year!')"
   ]
  },
  {
   "cell_type": "markdown",
   "metadata": {
    "id": "6GbrQ3zVaTgO"
   },
   "source": [
    "In this loop, `countdown` starts at 5, and decreases by 1 every time the loop is run. After 5 iterations of the loop, `countdown` will be 0. Since `0 > 0` evaluates to `False`, the loop stops and `'Happy New Year!'` is printed.\n",
    "\n",
    "Note that the loop criteria is only checked at the top of the loop; even if a variable is changed such that the loop criteria would otherwise evaluate to `False`, if it is modified again before the top of the loop, the loop will continue."
   ]
  },
  {
   "cell_type": "markdown",
   "id": "624c8b34",
   "metadata": {},
   "source": [
    "Trong vòng lặp này, `countdown` bắt đầu từ 5, và giảm đi 1 mỗi lần vòng lặp được chạy. Sau 5 lần lặp, `countdown` sẽ là 0. Vì `0 > 0` được đánh giá là `False`, vòng lặp dừng lại và `'Happy New Year!'` được in ra.\n",
    "\n",
    "Lưu ý rằng tiêu chí vòng lặp chỉ được kiểm tra ở đầu vòng lặp; ngay cả khi một biến được thay đổi sao cho tiêu chí vòng lặp sẽ được đánh giá là `False`, nếu nó được sửa đổi lại trước khi đến đầu vòng lặp, vòng lặp sẽ tiếp tục."
   ]
  },
  {
   "cell_type": "code",
   "execution_count": null,
   "metadata": {
    "id": "yK5xajFkazVL"
   },
   "outputs": [],
   "source": [
    "countdown = 5\n",
    "while countdown > 0:\n",
    "  if countdown == 3:\n",
    "    countdown = -5\n",
    "  print(countdown)\n",
    "  if countdown == -5:\n",
    "    countdown = 3\n",
    "  countdown -= 1\n",
    "print('Happy New Year!')"
   ]
  },
  {
   "cell_type": "markdown",
   "metadata": {
    "id": "i-sLVP4ia9LD"
   },
   "source": [
    "Even though `countdown` was changed to be less than 0 during the loop where `countdown == 3`, the body of the loop continued since the criteria is only checked at the start of each iteration. By the next iteration, `countdown` had changed to be above 0 again.\n",
    "\n",
    "In addition to loops based on a criteria, there are also **infinite loops**, or code that would continue forever (unless stopped by some other process). This code, for instance, is an infinite loop:\n",
    "\n",
    "```python\n",
    "while True:\n",
    "  print('loop')\n",
    "```\n",
    "\n",
    "This code will just print `'loop'` over and over, as the criteria is always `True`. Your code will crash, at some point (to prevent an infinite execution), but running code that loops infinitely can cause errors or undefined behavior."
   ]
  },
  {
   "cell_type": "markdown",
   "id": "6835d1cf",
   "metadata": {},
   "source": [
    "Mặc dù `countdown` đã được thay đổi để nhỏ hơn 0 trong vòng lặp khi `countdown == 3`, phần thân của vòng lặp vẫn tiếp tục vì tiêu chí chỉ được kiểm tra ở đầu mỗi lần lặp. Đến lần lặp tiếp theo, `countdown` đã thay đổi để lớn hơn 0 một lần nữa.\n",
    "\n",
    "Ngoài các vòng lặp dựa trên tiêu chí, còn có **infinite loops** (vòng lặp vô hạn), hay code sẽ tiếp tục mãi mãi (trừ khi bị dừng bởi một quá trình khác). Code này, ví dụ, là một vòng lặp vô hạn:\n",
    "\n",
    "```python\n",
    "while True:\n",
    "  print('loop')\n",
    "```\n",
    "\n",
    "Code này sẽ chỉ in ra `'loop'` liên tục, vì tiêu chí luôn là `True`. Code của bạn sẽ bị crash tại một thời điểm nào đó (để ngăn chặn việc thực thi vô hạn), nhưng việc chạy code lặp vô hạn có thể gây ra lỗi hoặc hành vi không xác định."
   ]
  },
  {
   "cell_type": "markdown",
   "metadata": {
    "id": "FIXsI2AWYlEI"
   },
   "source": [
    "### Break and continue (Break và continue)"
   ]
  },
  {
   "cell_type": "markdown",
   "metadata": {
    "id": "PaPEeL3Cboly"
   },
   "source": [
    "Two reserved words in Python can be used to control program flow within a loop. The reserved word `break` allows a loop to be cancelled prematurely, and the reserved word `continue` allows a single iteration of a loop to be skipped."
   ]
  },
  {
   "cell_type": "markdown",
   "id": "c60aa4c8",
   "metadata": {},
   "source": [
    "Hai từ khóa trong Python có thể được sử dụng để điều khiển luồng chương trình trong một vòng lặp. Từ khóa `break` cho phép một vòng lặp bị hủy sớm, và từ khóa `continue` cho phép bỏ qua một lần lặp đơn lẻ của vòng lặp."
   ]
  },
  {
   "cell_type": "code",
   "execution_count": null,
   "metadata": {
    "id": "v1WnXzhXb8Qf"
   },
   "outputs": [],
   "source": [
    "countdown = 5\n",
    "while countdown > 0:\n",
    "  print(countdown)\n",
    "  if countdown == 3:\n",
    "    break\n",
    "  countdown -= 1\n",
    "print('Happy New Year!')"
   ]
  },
  {
   "cell_type": "markdown",
   "metadata": {
    "id": "ED8jG2qHcGE_"
   },
   "source": [
    "In this code, `countdown` equals 3 after two iterations of the loop, so halfway through the third iteration, the `break` statement exits the loop, allowing the code to print `Happy New Year!`. At this point in the code, `countdown` is still 3, as well. A `break` statement can also be used to exit from the `while True` loop from earlier:"
   ]
  },
  {
   "cell_type": "markdown",
   "id": "5c80582c",
   "metadata": {},
   "source": [
    "Trong code này, `countdown` bằng 3 sau hai lần lặp của vòng lặp, vì vậy ở giữa lần lặp thứ ba, câu lệnh `break` thoát khỏi vòng lặp, cho phép code in ra `Happy New Year!`. Tại thời điểm này trong code, `countdown` vẫn là 3. Một câu lệnh `break` cũng có thể được sử dụng để thoát khỏi vòng lặp `while True` từ trước:"
   ]
  },
  {
   "cell_type": "code",
   "execution_count": null,
   "metadata": {
    "id": "6sS_l89mcZES"
   },
   "outputs": [],
   "source": [
    "countdown = 5\n",
    "while True:\n",
    "  print(countdown)\n",
    "  countdown -= 1\n",
    "  if countdown == 0:\n",
    "    break\n",
    "print('Happy New Year!')"
   ]
  },
  {
   "cell_type": "markdown",
   "metadata": {
    "id": "0luhF-3Rcm8Y"
   },
   "source": [
    "Without the `break` keyword, the loop would continue infinitely, but since our conditional statement checks `countdown` and breaks when `countdown` is 0, our loop functions identically to the loops from earlier in the lesson."
   ]
  },
  {
   "cell_type": "markdown",
   "id": "b4996b14",
   "metadata": {},
   "source": [
    "Nếu không có từ khóa `break`, vòng lặp sẽ tiếp tục vô hạn, nhưng vì câu lệnh điều kiện của chúng mình kiểm tra `countdown` và thoát khi `countdown` là 0, vòng lặp của chúng mình hoạt động giống hệt với các vòng lặp từ đầu bài học."
   ]
  },
  {
   "cell_type": "markdown",
   "metadata": {
    "id": "F7HIs56LczxB"
   },
   "source": [
    "Instead of breaking out of a loop entirely, a `continue` statement will skip the current iteration of the loop and move on to the next one. Take this example, which prints all even numbers between 0 and 20:"
   ]
  },
  {
   "cell_type": "markdown",
   "id": "c6551341",
   "metadata": {},
   "source": [
    "Thay vì thoát khỏi vòng lặp hoàn toàn, câu lệnh `continue` sẽ bỏ qua lần lặp hiện tại của vòng lặp và chuyển sang lần lặp tiếp theo. Hãy xem ví dụ này, in ra tất cả các số chẵn từ 0 đến 20:"
   ]
  },
  {
   "cell_type": "code",
   "execution_count": null,
   "metadata": {
    "id": "1M91OmbAdq6R"
   },
   "outputs": [],
   "source": [
    "number = -1\n",
    "while number <= 20:\n",
    "  number += 1\n",
    "  if number % 2 == 1:\n",
    "    continue\n",
    "  print(number)"
   ]
  },
  {
   "cell_type": "markdown",
   "metadata": {
    "id": "xUUqqmbDejVg"
   },
   "source": [
    "Without the `continue` statement, `number` would get printed every time. With more complicated code, `continue` can also be used to skip code blocks that shouldn't be run and prevent errors or crashes."
   ]
  },
  {
   "cell_type": "markdown",
   "id": "84c747f3",
   "metadata": {},
   "source": [
    "Nếu không có câu lệnh `continue`, `number` sẽ được in ra mỗi lần. Với code phức tạp hơn, `continue` cũng có thể được sử dụng để bỏ qua các khối code không nên chạy và ngăn chặn lỗi hoặc crash."
   ]
  },
  {
   "cell_type": "markdown",
   "metadata": {
    "id": "YitsASwT2Ee1"
   },
   "source": [
    "### For loops (Vòng lặp For)"
   ]
  },
  {
   "cell_type": "markdown",
   "metadata": {
    "id": "0G73zNasexIX"
   },
   "source": [
    "Generally, while loops run until some criteria is met, but they force the person writing the code to consider how to exit the loop so that the loop doesn't continue infinitely. `for` loops, on the other hand, include a built-in advancement so that the loop will continue until a built-in criteria is met. To accomplish this, many `for` loops use the `range` function. The `range` function allows the user to set a start value, a stop value, and a step, or how much the range will increase with every iteration. This allows range to be used in a variety of ways. To use `range` in conjunction with a `for` loop, use this syntax:"
   ]
  },
  {
   "cell_type": "markdown",
   "id": "7c2f8e4e",
   "metadata": {},
   "source": [
    "Thông thường, vòng lặp while chạy cho đến khi một tiêu chí nào đó được thỏa mãn, nhưng chúng buộc người viết code phải xem xét cách thoát khỏi vòng lặp để vòng lặp không tiếp tục vô hạn. Mặt khác, vòng lặp `for` bao gồm một bước tiến tích hợp sẵn để vòng lặp sẽ tiếp tục cho đến khi một tiêu chí tích hợp sẵn được thỏa mãn. Để thực hiện điều này, nhiều vòng lặp `for` sử dụng hàm `range`. Hàm `range` cho phép người dùng đặt giá trị bắt đầu, giá trị kết thúc và bước nhảy, hay mức tăng của range trong mỗi lần lặp. Điều này cho phép range được sử dụng theo nhiều cách khác nhau. Để sử dụng `range` kết hợp với vòng lặp `for`, hãy sử dụng cú pháp này:"
   ]
  },
  {
   "cell_type": "code",
   "execution_count": null,
   "metadata": {
    "id": "9e0PjUeefQRC"
   },
   "outputs": [],
   "source": [
    "for i in range(0, 5, 1):\n",
    "  print(i)"
   ]
  },
  {
   "cell_type": "markdown",
   "metadata": {
    "id": "lLkZpaSDfpS2"
   },
   "source": [
    "This code prints every value between 0 and 5, excluding 5. In computer science, things are 0-indexed, meaning that counting starts from 0, rather than 1.\n",
    "\n",
    "`range` typically uses 3 values: the `start` value (0, by default), the `stop` value (5, in this case), and a `step` value (1, by default). The `stop` value of `range` is **exclusive**, so `range(0, 5, 1)` does not include 5, only 0 through 4. `range` also assumes, by default, that if `range(x)` is called, that the desired outcome is `range(0, x, 1)`, or the range of values from 0 to `x`, excluding `x`, incrementing by 1 each time. That means the code above is also equivalent to this:"
   ]
  },
  {
   "cell_type": "markdown",
   "id": "87a6cb24",
   "metadata": {},
   "source": [
    "Code này in ra mọi giá trị từ 0 đến 5, không bao gồm 5. Trong khoa học máy tính, mọi thứ được đánh số từ 0 (0-indexed), nghĩa là việc đếm bắt đầu từ 0, thay vì 1.\n",
    "\n",
    "`range` thường sử dụng 3 giá trị: giá trị `start` (mặc định là 0), giá trị `stop` (trong trường hợp này là 5), và giá trị `step` (mặc định là 1). Giá trị `stop` của `range` là **không bao gồm**, vì vậy `range(0, 5, 1)` không bao gồm 5, chỉ từ 0 đến 4. `range` cũng giả định, theo mặc định, rằng nếu `range(x)` được gọi, kết quả mong muốn là `range(0, x, 1)`, hoặc dãy các giá trị từ 0 đến `x`, không bao gồm `x`, tăng lên 1 mỗi lần. Điều đó có nghĩa là code trên cũng tương đương với:"
   ]
  },
  {
   "cell_type": "code",
   "execution_count": null,
   "metadata": {
    "id": "fCdOV09bgKkY"
   },
   "outputs": [],
   "source": [
    "for i in range(5):\n",
    "  print(i)"
   ]
  },
  {
   "cell_type": "markdown",
   "metadata": {
    "id": "tiw2V_cigRdV"
   },
   "source": [
    "`range(0, 5, 1)`, `range(0, 5)` and `range(5)` are all equivalent statements, in Python. The variable `i` is updated every iteration of the loop with the next value in `range`. Once `range` has no more additional values, the loop ends. Here are some more examples of `range` in practice:"
   ]
  },
  {
   "cell_type": "markdown",
   "id": "ce0e3b3a",
   "metadata": {},
   "source": [
    "`range(0, 5, 1)`, `range(0, 5)` và `range(5)` đều là các câu lệnh tương đương trong Python. Biến `i` được cập nhật mỗi lần lặp của vòng lặp với giá trị tiếp theo trong `range`. Khi `range` không còn giá trị bổ sung nào nữa, vòng lặp kết thúc. Đây là một số ví dụ khác về `range` trong thực tế:"
   ]
  },
  {
   "cell_type": "code",
   "execution_count": null,
   "metadata": {
    "id": "UCYwMG3Tgidm"
   },
   "outputs": [],
   "source": [
    "for i in range(1, 5, 2):\n",
    "  print(i)"
   ]
  },
  {
   "cell_type": "code",
   "execution_count": null,
   "metadata": {
    "id": "ms0_-xF8giiW"
   },
   "outputs": [],
   "source": [
    "for i in range(10, 5, -1):\n",
    "  print(i)"
   ]
  },
  {
   "cell_type": "code",
   "execution_count": null,
   "metadata": {
    "id": "UvV9aQ3Fgimu"
   },
   "outputs": [],
   "source": [
    "for i in range(10, -25, -5):\n",
    "  print(i)"
   ]
  },
  {
   "cell_type": "markdown",
   "metadata": {
    "id": "fHsIBfNDg21h"
   },
   "source": [
    "This loop is very functionally similar to a `while` loop. In fact, `while` loops and `for` loops can produce identical results, if they're written correctly. Here's an example:"
   ]
  },
  {
   "cell_type": "markdown",
   "id": "82532585",
   "metadata": {},
   "source": [
    "Vòng lặp này về mặt chức năng rất giống với vòng lặp `while`. Thực tế, vòng lặp `while` và vòng lặp `for` có thể tạo ra kết quả giống hệt nhau, nếu chúng được viết đúng cách. Đây là một ví dụ:"
   ]
  },
  {
   "cell_type": "code",
   "execution_count": null,
   "metadata": {
    "id": "djlOIuCKhPR4"
   },
   "outputs": [],
   "source": [
    "countdown = 5\n",
    "while countdown > 0:\n",
    "  print(countdown)\n",
    "  countdown -= 1\n",
    "print('Happy New Year!')"
   ]
  },
  {
   "cell_type": "code",
   "execution_count": null,
   "metadata": {
    "id": "yBuISgI-hY4C"
   },
   "outputs": [],
   "source": [
    "for i in range(5, 0, -1):\n",
    "  print(i)\n",
    "print('Happy New Year!')"
   ]
  },
  {
   "cell_type": "markdown",
   "metadata": {
    "id": "wlEM5LZqhZds"
   },
   "source": [
    "Both code blocks have the same output. `i` can even be changed to `countdown` to make this more clear:"
   ]
  },
  {
   "cell_type": "markdown",
   "id": "f6d4c7af",
   "metadata": {},
   "source": [
    "Cả hai khối code đều có cùng kết quả đầu ra. `i` thậm chí có thể được đổi thành `countdown` để làm cho điều này rõ ràng hơn:"
   ]
  },
  {
   "cell_type": "code",
   "execution_count": null,
   "metadata": {
    "id": "Zdcmwl4lhgzB"
   },
   "outputs": [],
   "source": [
    "for countdown in range(5, 0, -1):\n",
    "  print(countdown)\n",
    "print('Happy New Year!')"
   ]
  },
  {
   "cell_type": "markdown",
   "metadata": {
    "id": "-MmA-PJ2hmDr"
   },
   "source": [
    "The `break` and `continue` statements can both be used with `for` loops, as well."
   ]
  },
  {
   "cell_type": "markdown",
   "id": "c53423ee",
   "metadata": {},
   "source": [
    "Các câu lệnh `break` và `continue` cũng có thể được sử dụng với vòng lặp `for`."
   ]
  },
  {
   "cell_type": "code",
   "execution_count": null,
   "metadata": {
    "id": "KvqnU9K2htdK"
   },
   "outputs": [],
   "source": [
    "for countdown in range(5, 0, -1):\n",
    "  print(countdown)\n",
    "  if countdown == 3:\n",
    "    break\n",
    "print('Happy New Year!')"
   ]
  },
  {
   "cell_type": "code",
   "execution_count": null,
   "metadata": {
    "id": "cvrLO83Jh0UN"
   },
   "outputs": [],
   "source": [
    "for number in range(0, 21):\n",
    "  if number % 2 == 1:\n",
    "    continue\n",
    "  print(number)"
   ]
  },
  {
   "cell_type": "markdown",
   "metadata": {
    "id": "DfcvU0kWh9ps"
   },
   "source": [
    "Note that to include 20, `range` had to be set from 0 to 21 (since `range` excludes its `stop` value). While both loops are mostly interchangeable, different use cases or coding styles may dictate whether a `for` loop or a `while` loop is better in the moment."
   ]
  },
  {
   "cell_type": "markdown",
   "id": "e937877b",
   "metadata": {},
   "source": [
    "Lưu ý rằng để bao gồm 20, `range` phải được đặt từ 0 đến 21 (vì `range` không bao gồm giá trị `stop`). Mặc dù cả hai loại vòng lặp hầu như có thể thay thế cho nhau, các trường hợp sử dụng hoặc phong cách code khác nhau có thể quyết định liệu vòng lặp `for` hay vòng lặp `while` tốt hơn trong thời điểm đó."
   ]
  },
  {
   "cell_type": "markdown",
   "metadata": {
    "id": "gyWd6yKN2Ee6"
   },
   "source": [
    "### Nesting loops (Lồng các vòng lặp)"
   ]
  },
  {
   "cell_type": "markdown",
   "metadata": {
    "id": "Q_76vHcqiOKK"
   },
   "source": [
    "Like conditionals, loops can also be nested. This can be as simple as placing a `for` loop inside of another `for` loop, a `while` loop inside of another `while` loop, or mixing it up. Take this code, which prints all the perfect squares from $1^2$ to $10^2$:"
   ]
  },
  {
   "cell_type": "markdown",
   "id": "dbe4a281",
   "metadata": {},
   "source": [
    "Tương tự như câu lệnh điều kiện, các vòng lặp cũng có thể được lồng vào nhau. Điều này có thể đơn giản như đặt một vòng lặp `for` bên trong một vòng lặp `for` khác, một vòng lặp `while` bên trong một vòng lặp `while` khác, hoặc kết hợp chúng với nhau. Hãy xem đoạn code này, nó in ra tất cả các số chính phương từ $1^2$ đến $10^2$:"
   ]
  },
  {
   "cell_type": "code",
   "execution_count": null,
   "metadata": {
    "id": "MJMkNMCOikbG"
   },
   "outputs": [],
   "source": [
    "for i in range(1, 11):\n",
    "  for j in range(1, 11):\n",
    "    if i == j:\n",
    "      print(i * j)"
   ]
  },
  {
   "cell_type": "markdown",
   "metadata": {
    "id": "RFr7pS2zi2cI"
   },
   "source": [
    "Generally `i` is used as the first choice for an index, `j` is used as the second choice, `k` is used as the third choice, etc. While this example uses a `for` loop, a `while` loop can have similar functionality."
   ]
  },
  {
   "cell_type": "markdown",
   "id": "b58143b6",
   "metadata": {},
   "source": [
    "Thông thường, `i` được sử dụng là lựa chọn đầu tiên cho một chỉ số, `j` được sử dụng là lựa chọn thứ hai, `k` được sử dụng là lựa chọn thứ ba, v.v. Mặc dù ví dụ này sử dụng vòng lặp `for`, vòng lặp `while` cũng có thể có chức năng tương tự."
   ]
  },
  {
   "cell_type": "code",
   "execution_count": null,
   "metadata": {
    "id": "_-eb6B3FD4z5"
   },
   "outputs": [],
   "source": [
    "i = 1\n",
    "j = 1\n",
    "while i < 11:\n",
    "  while j < 11:\n",
    "    if i == j:\n",
    "      print(i * j)\n",
    "    j += 1\n",
    "  i += 1\n",
    "  j = 1"
   ]
  },
  {
   "cell_type": "markdown",
   "metadata": {
    "id": "gBlkbPot2Ee7"
   },
   "source": [
    "## Question 1 (Câu hỏi 1)"
   ]
  },
  {
   "cell_type": "markdown",
   "metadata": {
    "id": "w2skefCc2Ee8"
   },
   "source": [
    "Consider the following code."
   ]
  },
  {
   "cell_type": "markdown",
   "id": "b635dede",
   "metadata": {},
   "source": [
    "Xem xét đoạn code sau."
   ]
  },
  {
   "cell_type": "markdown",
   "metadata": {
    "id": "igGG9wyU2Ee8"
   },
   "source": [
    "```python\n",
    "countdown = 10\n",
    "while True:\n",
    "  countdown -= 1\n",
    "print('Happy New Year!')\n",
    "```"
   ]
  },
  {
   "cell_type": "markdown",
   "metadata": {
    "id": "7x7ApaC42Ee8"
   },
   "source": [
    "When running this code, what will be printed?"
   ]
  },
  {
   "cell_type": "markdown",
   "id": "f574e3c9",
   "metadata": {},
   "source": [
    "Khi chạy đoạn code này, điều gì sẽ được in ra?"
   ]
  },
  {
   "cell_type": "markdown",
   "metadata": {
    "id": "IIC-LAxL2Ee8"
   },
   "source": [
    "**a)** The numbers 10 through 1, then 'Happy New Year!'.\n",
    "\n",
    "**b)** 'Happy New Year!'\n",
    "\n",
    "**c)** Increasingly negative numbers and then a program crash.\n",
    "\n",
    "**d)** Nothing; this program will crash without printing anything."
   ]
  },
  {
   "cell_type": "markdown",
   "id": "e3f8cd72",
   "metadata": {},
   "source": [
    "**a)** Các số từ 10 đến 1, sau đó là 'Happy New Year!'.\n",
    "\n",
    "**b)** 'Happy New Year!'\n",
    "\n",
    "**c)** Các số âm ngày càng tăng và sau đó chương trình bị lỗi.\n",
    "\n",
    "**d)** Không có gì; chương trình này sẽ bị lỗi mà không in ra bất cứ thứ gì."
   ]
  },
  {
   "cell_type": "markdown",
   "metadata": {
    "id": "yEGI7v2v2Ee9"
   },
   "source": [
    "### Solution (Giải pháp)"
   ]
  },
  {
   "cell_type": "markdown",
   "metadata": {
    "id": "2UJWyM4s2Ee9"
   },
   "source": [
    "The correct answer is **d)**.\n",
    "\n",
    "**a)** There is no `print` statement inside the loop, but also, when does the loop terminate?\n",
    "\n",
    "**b)** This loop is a `while True` loop with no termination condition, so the `'Happy New Year'` `print` statement is never reached.\n",
    "\n",
    "**c)** There is no `print` statement inside the loop, but this answer is almost correct."
   ]
  },
  {
   "cell_type": "markdown",
   "id": "7ec53599",
   "metadata": {},
   "source": [
    "Câu trả lời đúng là **d)**.\n",
    "\n",
    "**a)** Không có câu lệnh `print` bên trong vòng lặp, và hơn nữa, khi nào vòng lặp kết thúc?\n",
    "\n",
    "**b)** Vòng lặp này là vòng lặp `while True` không có điều kiện kết thúc, vì vậy câu lệnh `print` chứa `'Happy New Year'` không bao giờ được thực thi.\n",
    "\n",
    "**c)** Không có câu lệnh `print` bên trong vòng lặp, nhưng câu trả lời này gần đúng."
   ]
  },
  {
   "cell_type": "markdown",
   "metadata": {
    "id": "2FUqsgnyqgGU"
   },
   "source": [
    "## Question 2 (Câu hỏi 2)"
   ]
  },
  {
   "cell_type": "markdown",
   "metadata": {
    "id": "Tw9YdiHsMorw"
   },
   "source": [
    "Consider the following code."
   ]
  },
  {
   "cell_type": "markdown",
   "id": "9c63f4be",
   "metadata": {},
   "source": [
    "Xem xét đoạn code sau."
   ]
  },
  {
   "cell_type": "markdown",
   "metadata": {
    "id": "m3-PUWTyMor8"
   },
   "source": [
    "```python\n",
    "num_iterations = 0\n",
    "for i in range(0, 18, 3):\n",
    "  num_iterations += 1\n",
    "  if num_iterations == 3:\n",
    "    num_iterations = 0\n",
    "    continue\n",
    "  print(i)\n",
    "```"
   ]
  },
  {
   "cell_type": "markdown",
   "metadata": {
    "id": "lhlBkYlGMor8"
   },
   "source": [
    "When running this code, what will be printed?"
   ]
  },
  {
   "cell_type": "markdown",
   "id": "3d5e2ffc",
   "metadata": {},
   "source": [
    "Khi chạy đoạn code này, điều gì sẽ được in ra?"
   ]
  },
  {
   "cell_type": "markdown",
   "metadata": {
    "id": "cg6KiBDuMor8"
   },
   "source": [
    "**a)** 0, 3, 9, 12\n",
    "\n",
    "**b)** 0, 3, 9, 12, 18\n",
    "\n",
    "**c)** 3, 9, 12, 18\n",
    "\n",
    "**d)** 0, 1, 3, 4, 6, 7, 9, 10, 12, 13, 15, 16, 18"
   ]
  },
  {
   "cell_type": "markdown",
   "id": "2121eeb6",
   "metadata": {},
   "source": [
    "**a)** 0, 3, 9, 12\n",
    "\n",
    "**b)** 0, 3, 9, 12, 18\n",
    "\n",
    "**c)** 3, 9, 12, 18\n",
    "\n",
    "**d)** 0, 1, 3, 4, 6, 7, 9, 10, 12, 13, 15, 16, 18"
   ]
  },
  {
   "cell_type": "markdown",
   "metadata": {
    "id": "2qIy2BsrMor8"
   },
   "source": [
    "### Solution (Giải pháp)"
   ]
  },
  {
   "cell_type": "markdown",
   "metadata": {
    "id": "xUxf2PY6Mor8"
   },
   "source": [
    "The correct answer is **a)**.\n",
    "\n",
    "**b)** `range` is exclusive of its `stop` value, so `i` will never be 18.\n",
    "\n",
    "**c)** `range` is *inclusive* of its `start` value and *exclusive* of its `stop` value, so it should include 0 and not 18.\n",
    "\n",
    "**d)** Check `range`'s `step` value. Since `step` is 3, every third value will be printed, so this option has too many values in it."
   ]
  },
  {
   "cell_type": "markdown",
   "id": "6040d65f",
   "metadata": {},
   "source": [
    "Câu trả lời đúng là **a)**.\n",
    "\n",
    "**b)** `range` không bao gồm giá trị `stop`, vì vậy `i` sẽ không bao giờ là 18.\n",
    "\n",
    "**c)** `range` *bao gồm* giá trị `start` và *không bao gồm* giá trị `stop`, vì vậy nó sẽ bao gồm 0 và không bao gồm 18.\n",
    "\n",
    "**d)** Kiểm tra giá trị `step` của `range`. Vì `step` là 3, cứ mỗi giá trị thứ ba sẽ được in ra, vì vậy tùy chọn này có quá nhiều giá trị."
   ]
  },
  {
   "cell_type": "markdown",
   "metadata": {
    "id": "TefxHWdYlmuI"
   },
   "source": [
    "## Question 3 (Câu hỏi 3)"
   ]
  },
  {
   "cell_type": "markdown",
   "metadata": {
    "id": "0GS4AdN-lmuU"
   },
   "source": [
    "Consider the following code."
   ]
  },
  {
   "cell_type": "markdown",
   "id": "d27f467f",
   "metadata": {},
   "source": [
    "Xem xét đoạn code sau."
   ]
  },
  {
   "cell_type": "markdown",
   "metadata": {
    "id": "RjwcpN_mlmuU"
   },
   "source": [
    "```python\n",
    "for i in range(1, 3):\n",
    "  for j in range(0, 3, i):\n",
    "    print(i + j)\n",
    "```"
   ]
  },
  {
   "cell_type": "markdown",
   "metadata": {
    "id": "eoY-nFP4lmuV"
   },
   "source": [
    "When running this code, what will be printed?"
   ]
  },
  {
   "cell_type": "markdown",
   "id": "a0233fc1",
   "metadata": {},
   "source": [
    "Khi chạy đoạn code này, điều gì sẽ được in ra?"
   ]
  },
  {
   "cell_type": "markdown",
   "metadata": {
    "id": "nXg0xHRGlmuV"
   },
   "source": [
    "**a)** 1, 2, 3, 2, 3, 4\n",
    "\n",
    "**b)** 1, 2, 3, 2, 4\n",
    "\n",
    "**c)** 0, 1, 2, 1, 2, 3, 2, 3, 4\n",
    "\n",
    "**d)** This code will not run."
   ]
  },
  {
   "cell_type": "markdown",
   "id": "06cff4f2",
   "metadata": {},
   "source": [
    "**a)** 1, 2, 3, 2, 3, 4\n",
    "\n",
    "**b)** 1, 2, 3, 2, 4\n",
    "\n",
    "**c)** 0, 1, 2, 1, 2, 3, 2, 3, 4\n",
    "\n",
    "**d)** Đoạn code này sẽ không chạy được."
   ]
  },
  {
   "cell_type": "markdown",
   "metadata": {
    "id": "bnnfwX1WlmuV"
   },
   "source": [
    "### Solution (Giải pháp)"
   ]
  },
  {
   "cell_type": "markdown",
   "metadata": {
    "id": "jGHwj8QdlmuV"
   },
   "source": [
    "The correct answer is **b)**.\n",
    "\n",
    "**a)** Note that `i` is the `step` value for the second `range`. This means that the second loop will run with `step` equal to 2, or every other value between 0 and 3 (0 and 2).\n",
    "\n",
    "**c)** Check `step` again. This result corresponds to a `step` value of 1. If `step` is not 1, what happens in each iteration of the outer loop? It may help to use a sheet of paper to walk through each loop.\n",
    "\n",
    "**d)** This code is fine: `i` is a variable that holds some value during each iteration of the loop; it just happens to be a *different* value during each iteration of the loop."
   ]
  },
  {
   "cell_type": "markdown",
   "id": "2ebc3e01",
   "metadata": {},
   "source": [
    "Câu trả lời đúng là **b)**.\n",
    "\n",
    "**a)** Lưu ý rằng `i` là giá trị `step` cho `range` thứ hai. Điều này có nghĩa là vòng lặp thứ hai sẽ chạy với giá trị `step` bằng 2, hoặc mỗi giá trị khác nhau giữa 0 và 3 (0 và 2).\n",
    "\n",
    "**c)** Kiểm tra lại giá trị `step`. Kết quả này tương ứng với giá trị `step` là 1. Nếu `step` không phải là 1, điều gì xảy ra trong mỗi lần lặp của vòng lặp ngoài? Có thể hữu ích nếu bạn sử dụng một tờ giấy để theo dõi từng vòng lặp.\n",
    "\n",
    "**d)** Đoạn code này hoạt động bình thường: `i` là một biến giữ một giá trị nào đó trong mỗi lần lặp của vòng lặp; nó chỉ là một giá trị *khác nhau* trong mỗi lần lặp của vòng lặp."
   ]
  },
  {
   "cell_type": "markdown",
   "metadata": {
    "id": "srx0bd7F2EfB"
   },
   "source": [
    "## Question 4 (Câu hỏi 4)"
   ]
  },
  {
   "cell_type": "markdown",
   "metadata": {
    "id": "5mGDbhsF2EfB"
   },
   "source": [
    "Write code to print all the odd numbers between 1 and 20.\n"
   ]
  },
  {
   "cell_type": "markdown",
   "id": "8f1360d6",
   "metadata": {},
   "source": [
    "Viết code để in ra tất cả các số lẻ từ 1 đến 20."
   ]
  },
  {
   "cell_type": "code",
   "execution_count": null,
   "metadata": {
    "id": "m15a8HS52EfB"
   },
   "outputs": [],
   "source": [
    "def print_odds_below_20():\n",
    "  # Fill in your code here.\n",
    "  # Don't forget to indent by two spaces! Line your code up with these comments."
   ]
  },
  {
   "cell_type": "markdown",
   "metadata": {
    "id": "0EjOhhwwEm_u"
   },
   "source": [
    "Remember that `for` loops and `while` loops can both be used to solve this problem."
   ]
  },
  {
   "cell_type": "markdown",
   "id": "fdebd41a",
   "metadata": {},
   "source": [
    "Hãy nhớ rằng cả vòng lặp `for` và vòng lặp `while` đều có thể được sử dụng để giải quyết vấn đề này."
   ]
  },
  {
   "cell_type": "markdown",
   "metadata": {
    "id": "4PaACdZ6Em_u"
   },
   "source": [
    "### Unit Tests (Kiểm thử đơn vị)\n",
    "\n",
    "Run the following cell to check your answer against some unit tests."
   ]
  },
  {
   "cell_type": "markdown",
   "id": "2cf61a8a",
   "metadata": {},
   "source": [
    "Chạy cell sau để kiểm tra câu trả lời của bạn với một số bài kiểm tra đơn vị."
   ]
  },
  {
   "cell_type": "code",
   "execution_count": null,
   "metadata": {
    "id": "SFRxnj0XEm_u"
   },
   "outputs": [],
   "source": [
    "print_odds_below_20()\n",
    "# Should print: 1, 3, 5, 7, 9, 11, 13, 15, 17, 19"
   ]
  },
  {
   "cell_type": "markdown",
   "metadata": {
    "id": "qXuM0xeF2EfC"
   },
   "source": [
    "### Solution (Giải pháp)"
   ]
  },
  {
   "cell_type": "markdown",
   "metadata": {
    "id": "Y6RL84hDizJU"
   },
   "source": [
    "There are multiple correct ways to do this; here are a few examples."
   ]
  },
  {
   "cell_type": "markdown",
   "id": "49a8ebcd",
   "metadata": {},
   "source": [
    "Có nhiều cách đúng để làm điều này; dưới đây là một số ví dụ."
   ]
  },
  {
   "cell_type": "code",
   "execution_count": null,
   "metadata": {
    "id": "dTT4veR3nab2"
   },
   "outputs": [],
   "source": [
    "def print_odds_below_20():\n",
    "  for i in range(1, 20, 2):\n",
    "    print(i)"
   ]
  },
  {
   "cell_type": "code",
   "execution_count": null,
   "metadata": {
    "id": "K1cIK__9nd5w"
   },
   "outputs": [],
   "source": [
    "def print_odds_below_20():\n",
    "  number = 1\n",
    "  while number <= 20:\n",
    "    if number % 2 == 1:\n",
    "      print(number)\n",
    "    number += 1"
   ]
  },
  {
   "cell_type": "markdown",
   "metadata": {
    "id": "i3Ze5jvM2rGW"
   },
   "source": [
    "# Functions (Các hàm)"
   ]
  },
  {
   "cell_type": "markdown",
   "metadata": {
    "id": "50yGopv62rGX"
   },
   "source": [
    "## Lesson Overview (Tổng quan bài học)"
   ]
  },
  {
   "cell_type": "markdown",
   "metadata": {
    "id": "sFYx7Lsk2rGX"
   },
   "source": [
    "When a block of code in Python is run, it generally executes from start to finish (top to bottom)."
   ]
  },
  {
   "cell_type": "markdown",
   "id": "934c277a",
   "metadata": {},
   "source": [
    "Khi một khối code trong Python được chạy, nó thường thực thi từ đầu đến cuối (từ trên xuống dưới)."
   ]
  },
  {
   "cell_type": "markdown",
   "metadata": {
    "id": "9VG6dV8I2rGX"
   },
   "source": [
    "Often there will be blocks of code that you want to execute multiple times, but with some modifications each time. You may even want to have certain blocks execute, but not others. Take this snippet:"
   ]
  },
  {
   "cell_type": "markdown",
   "id": "e8554597",
   "metadata": {},
   "source": [
    "Thường sẽ có những khối code mà bạn muốn thực thi nhiều lần, nhưng với một số sửa đổi mỗi lần. Bạn thậm chí có thể muốn có những khối nhất định được thực thi, nhưng không phải những khối khác. Hãy xem đoạn code sau:"
   ]
  },
  {
   "cell_type": "code",
   "execution_count": null,
   "metadata": {
    "id": "gRZSa2B7Dqn8"
   },
   "outputs": [],
   "source": [
    "sample_word = 'liberation'\n",
    "vowel_count = 0\n",
    "consonant_count = 0\n",
    "\n",
    "for letter in sample_word:\n",
    "  if letter == 'a':\n",
    "    vowel_count += 1\n",
    "  elif letter == 'e':\n",
    "    vowel_count += 1\n",
    "  elif letter == 'i':\n",
    "    vowel_count += 1\n",
    "  elif letter == 'o':\n",
    "    vowel_count += 1\n",
    "  elif letter == 'u':\n",
    "    vowel_count += 1\n",
    "  # y, for our purposes, is a consonant.\n",
    "  else:\n",
    "    consonant_count += 1\n",
    "\n",
    "print('Number of vowels: %d' % vowel_count)\n",
    "print('Number of consonants: %d' % consonant_count)"
   ]
  },
  {
   "cell_type": "markdown",
   "metadata": {
    "id": "JxH2nPX2DyaY"
   },
   "source": [
    "That works fine for just the one word, but if you want to try it with other words, you have to copy and paste all that code again:"
   ]
  },
  {
   "cell_type": "markdown",
   "id": "379702bc",
   "metadata": {},
   "source": [
    "Điều đó hoạt động tốt cho chỉ một từ, nhưng nếu bạn muốn thử nó với các từ khác, bạn phải sao chép và dán lại tất cả đoạn code đó:"
   ]
  },
  {
   "cell_type": "code",
   "execution_count": null,
   "metadata": {
    "id": "ODYg9CVmD2jr"
   },
   "outputs": [],
   "source": [
    "sample_word = 'pleasantries'\n",
    "vowel_count = 0\n",
    "consonant_count = 0\n",
    "\n",
    "for letter in sample_word:\n",
    "  if letter == 'a':\n",
    "    vowel_count += 1\n",
    "  elif letter == 'e':\n",
    "    vowel_count += 1\n",
    "  elif letter == 'i':\n",
    "    vowel_count += 1\n",
    "  elif letter == 'o':\n",
    "    vowel_count += 1\n",
    "  elif letter == 'u':\n",
    "    vowel_count += 1\n",
    "  # y, for our purposes, is a consonant.\n",
    "  else:\n",
    "    consonant_count += 1\n",
    "\n",
    "print(sample_word)\n",
    "print('Number of vowels: %d' % vowel_count)\n",
    "print('Number of consonants: %d' % consonant_count)"
   ]
  },
  {
   "cell_type": "code",
   "execution_count": null,
   "metadata": {
    "id": "br81SeAIxckc"
   },
   "outputs": [],
   "source": [
    "sample_word = 'vanguard'\n",
    "vowel_count = 0\n",
    "consonant_count = 0\n",
    "\n",
    "for letter in sample_word:\n",
    "  if letter == 'a':\n",
    "    vowel_count += 1\n",
    "  elif letter == 'e':\n",
    "    vowel_count += 1\n",
    "  elif letter == 'i':\n",
    "    vowel_count += 1\n",
    "  elif letter == 'o':\n",
    "    vowel_count += 1\n",
    "  elif letter == 'u':\n",
    "    vowel_count += 1\n",
    "  # y, for our purposes, is a consonant.\n",
    "  else:\n",
    "    consonant_count += 1\n",
    "\n",
    "print(sample_word)\n",
    "print('Number of vowels: %d' % vowel_count)\n",
    "print('Number of consonants: %d' % consonant_count)"
   ]
  },
  {
   "cell_type": "markdown",
   "metadata": {
    "id": "NQPW4VngESPy"
   },
   "source": [
    "This process can quickly become tiresome. In programming, we typically solve this problem by writing functions."
   ]
  },
  {
   "cell_type": "markdown",
   "id": "96edb486",
   "metadata": {},
   "source": [
    "Quá trình này có thể nhanh chóng trở nên nhàm chán. Trong lập trình, chúng mình thường giải quyết vấn đề này bằng cách viết các hàm."
   ]
  },
  {
   "cell_type": "markdown",
   "metadata": {
    "id": "dtV7KXScZrzK"
   },
   "source": [
    "### Definition (Định nghĩa)"
   ]
  },
  {
   "cell_type": "markdown",
   "metadata": {
    "id": "vkKDVZMlnC8K"
   },
   "source": [
    "\n",
    "> **Functions**, sometimes called [subroutines](https://en.wikipedia.org/wiki/Subroutine), are small snippets of code that can be reused."
   ]
  },
  {
   "cell_type": "markdown",
   "id": "e9d7f055",
   "metadata": {},
   "source": [
    "> **Functions**, đôi khi được gọi là [tiểu trình](https://en.wikipedia.org/wiki/Subroutine), là những đoạn code nhỏ có thể được tái sử dụng."
   ]
  },
  {
   "cell_type": "markdown",
   "metadata": {
    "id": "nU2qXc4gaAf5"
   },
   "source": [
    "Let's look at our initial example and see how we can convert it to a function called `count_vowels_and_consonants()`."
   ]
  },
  {
   "cell_type": "markdown",
   "id": "eae0f9d0",
   "metadata": {},
   "source": [
    "Hãy xem xét ví dụ ban đầu của chúng mình và xem làm thế nào chúng mình có thể chuyển đổi nó thành một hàm có tên là `count_vowels_and_consonants()`."
   ]
  },
  {
   "cell_type": "code",
   "execution_count": null,
   "metadata": {
    "id": "XDErqiEMJFkv"
   },
   "outputs": [],
   "source": [
    "def count_vowels_and_consonants(sample_word):\n",
    "  # Returns the number of vowels and consonants in a given word.\n",
    "  vowel_count = 0\n",
    "  consonant_count = 0\n",
    "\n",
    "  for letter in sample_word:\n",
    "    if letter == 'a':\n",
    "      vowel_count += 1\n",
    "    elif letter == 'e':\n",
    "      vowel_count += 1\n",
    "    elif letter == 'i':\n",
    "      vowel_count += 1\n",
    "    elif letter == 'o':\n",
    "      vowel_count += 1\n",
    "    elif letter == 'u':\n",
    "      vowel_count += 1\n",
    "    # y, for our purposes, is a consonant.\n",
    "    else:\n",
    "      consonant_count += 1\n",
    "\n",
    "  print(sample_word)\n",
    "  print('Number of vowels: %d' % vowel_count)\n",
    "  print('Number of consonants: %d' % consonant_count)\n",
    "\n",
    "\n",
    "count_vowels_and_consonants('intrepid')\n",
    "count_vowels_and_consonants('queueing')\n",
    "count_vowels_and_consonants('skullduggery')"
   ]
  },
  {
   "cell_type": "markdown",
   "metadata": {
    "id": "ioy3dKsNaGGM"
   },
   "source": [
    "### Functions and parameters (Hàm và tham số)"
   ]
  },
  {
   "cell_type": "markdown",
   "metadata": {
    "id": "O-tQ_B9Y7PN3"
   },
   "source": [
    "Functions can greatly decrease the total number of lines of code. All functions have a similar format: they start with `def`, then the function name, and then zero, one, or more parameters in parentheses."
   ]
  },
  {
   "cell_type": "markdown",
   "id": "7a6dabbc",
   "metadata": {},
   "source": [
    "Các hàm có thể giảm đáng kể tổng số dòng code. Tất cả các hàm đều có một định dạng tương tự: chúng bắt đầu bằng `def`, sau đó là tên hàm, và sau đó là không, một, hoặc nhiều tham số trong dấu ngoặc đơn."
   ]
  },
  {
   "cell_type": "markdown",
   "metadata": {
    "id": "0KOCAxzMaKdH"
   },
   "source": [
    "For example, the function below has zero parameters:"
   ]
  },
  {
   "cell_type": "markdown",
   "id": "055503b0",
   "metadata": {},
   "source": [
    "Ví dụ, hàm dưới đây không có tham số nào:"
   ]
  },
  {
   "cell_type": "code",
   "execution_count": null,
   "metadata": {
    "id": "D2ETgGvH737j"
   },
   "outputs": [],
   "source": [
    "def print_zero_square():\n",
    "  # Prints a 3 x 3 square of zeroes.\n",
    "  for _ in range(3):\n",
    "    line = ''\n",
    "    for _ in range(3):\n",
    "      line += '0'\n",
    "    print(line)\n",
    "\n",
    "print_zero_square()"
   ]
  },
  {
   "cell_type": "markdown",
   "metadata": {
    "id": "0plNFllpbvvv"
   },
   "source": [
    "---"
   ]
  },
  {
   "cell_type": "markdown",
   "metadata": {
    "id": "w5zaoxv268em"
   },
   "source": [
    "If you'd like to increase or decrease the size of the checkerboard, you can modify the function to take a parameter:"
   ]
  },
  {
   "cell_type": "markdown",
   "id": "dc24ffde",
   "metadata": {},
   "source": [
    "Nếu bạn muốn tăng hoặc giảm kích thước của bàn cờ, bạn có thể sửa đổi hàm để nhận một tham số:"
   ]
  },
  {
   "cell_type": "code",
   "execution_count": null,
   "metadata": {
    "id": "Gd3ExfDh-rYD"
   },
   "outputs": [],
   "source": [
    "def print_zero_square(side_length):\n",
    "  # Prints a square of zeroes with side length equal to side_length.\n",
    "  for _ in range(side_length):\n",
    "    line = ''\n",
    "    for _ in range(side_length):\n",
    "      line += '0'\n",
    "    print(line)\n",
    "\n",
    "print_zero_square(10)"
   ]
  },
  {
   "cell_type": "markdown",
   "metadata": {
    "id": "meg0h0MciAyu"
   },
   "source": [
    "---"
   ]
  },
  {
   "cell_type": "markdown",
   "metadata": {
    "id": "CGwth3WDYCm-"
   },
   "source": [
    "The function can also be adapted to make a rectangle of zeroes:"
   ]
  },
  {
   "cell_type": "markdown",
   "id": "c974c689",
   "metadata": {},
   "source": [
    "Hàm này cũng có thể được điều chỉnh để tạo ra một hình chữ nhật các số không:"
   ]
  },
  {
   "cell_type": "code",
   "execution_count": null,
   "metadata": {
    "id": "svf6MvnXYWUU"
   },
   "outputs": [],
   "source": [
    "def print_zero_rectangle(num_rows, num_columns):\n",
    "  # Prints a num_rows x num_columns rectangle of zeroes.\n",
    "  for _ in range(num_rows):\n",
    "    line = ''\n",
    "    for _ in range(num_columns):\n",
    "      line += '0'\n",
    "    print(line)\n",
    "\n",
    "print_zero_rectangle(2, 5)"
   ]
  },
  {
   "cell_type": "markdown",
   "metadata": {
    "id": "wCobUoVjiGK5"
   },
   "source": [
    "### Returning data from a function (Trả về dữ liệu từ một hàm)"
   ]
  },
  {
   "cell_type": "markdown",
   "metadata": {
    "id": "d6pNTYzm_o-5"
   },
   "source": [
    "Functions can also be used to output values; we refer to this as **returning** a value, using the `return` keyword."
   ]
  },
  {
   "cell_type": "markdown",
   "id": "c757318a",
   "metadata": {},
   "source": [
    "Các hàm cũng có thể được sử dụng để xuất các giá trị; chúng mình gọi đây là **trả về** một giá trị, sử dụng từ khóa `return`."
   ]
  },
  {
   "cell_type": "code",
   "execution_count": null,
   "metadata": {
    "id": "oe89kDGW_907"
   },
   "outputs": [],
   "source": [
    "def remove_vowels(sample_word):\n",
    "  # Removes all the vowels from a given word.\n",
    "  result = ''\n",
    "  for letter in sample_word:\n",
    "    if letter == 'a':\n",
    "      continue\n",
    "    elif letter == 'e':\n",
    "      continue\n",
    "    elif letter == 'i':\n",
    "      continue\n",
    "    elif letter == 'o':\n",
    "      continue\n",
    "    elif letter == 'u':\n",
    "      continue\n",
    "    # y, for our purposes, is a consonant.\n",
    "    else:\n",
    "      result += letter\n",
    "  return result\n",
    "\n",
    "remove_vowels('balloon')"
   ]
  },
  {
   "cell_type": "markdown",
   "metadata": {
    "id": "uELBL59J_Uvt"
   },
   "source": [
    "Functions can be called multiple times with different parameters, and functions can call other functions (as you've seen with functions written here calling the `print` function). Using functions is a great and often necessary way to organize and simplify your code."
   ]
  },
  {
   "cell_type": "markdown",
   "id": "5295fa64",
   "metadata": {},
   "source": [
    "Các hàm có thể được gọi nhiều lần với các tham số khác nhau, và các hàm có thể gọi các hàm khác (như bạn đã thấy với các hàm được viết ở đây gọi hàm `print`). Sử dụng các hàm là một cách tuyệt vời và thường cần thiết để tổ chức và đơn giản hóa code của bạn."
   ]
  },
  {
   "cell_type": "markdown",
   "metadata": {
    "id": "UkQFD0Ft2rGf"
   },
   "source": [
    "## Question 1 (Câu hỏi 1)"
   ]
  },
  {
   "cell_type": "markdown",
   "metadata": {
    "id": "L_1jtN-B2rGf"
   },
   "source": [
    "Consider the following code that defines a variable and two functions."
   ]
  },
  {
   "cell_type": "markdown",
   "id": "0ec57d52",
   "metadata": {},
   "source": [
    "Xem xét đoạn code sau xác định một biến và hai hàm."
   ]
  },
  {
   "cell_type": "markdown",
   "metadata": {
    "id": "uNbVxxED2rGg"
   },
   "source": [
    "```python\n",
    "x = \"Outside\"\n",
    "\n",
    "def function1():\n",
    "  print(x)\n",
    "\n",
    "def function2():\n",
    "  x = \"Inside\"\n",
    "  print(x)  \n",
    "```"
   ]
  },
  {
   "cell_type": "markdown",
   "metadata": {
    "id": "AqeCkmDg2rGg"
   },
   "source": [
    "Assuming that we have run the code above, what will be printed if we run the next code block? (Note that each output will appear on a new line without commas.)"
   ]
  },
  {
   "cell_type": "markdown",
   "id": "9d25cc86",
   "metadata": {},
   "source": [
    "Giả sử rằng chúng mình đã chạy đoạn code trên, điều gì sẽ được in ra nếu chúng mình chạy khối code tiếp theo? (Lưu ý rằng mỗi đầu ra sẽ xuất hiện trên một dòng mới mà không có dấu phẩy.)"
   ]
  },
  {
   "cell_type": "markdown",
   "metadata": {
    "id": "ch6PWwRZicZi"
   },
   "source": [
    "```python\n",
    "print(x)\n",
    "function1()\n",
    "function2()\n",
    "print(x)\n",
    "```"
   ]
  },
  {
   "cell_type": "markdown",
   "metadata": {
    "id": "N-n-kFAT2rGh"
   },
   "source": [
    "**a)** Outside, Outside, Inside, Outside\n",
    "\n",
    "**b)** Outside, Outside, Inside, Inside\n",
    "\n",
    "**c)** Outside, Inside, Outside, Outside\n",
    "\n",
    "**d)** Inside, Outside, Inside, Inside"
   ]
  },
  {
   "cell_type": "markdown",
   "metadata": {
    "id": "l6oTyogC2rGh"
   },
   "source": [
    "### Solution (Giải pháp)"
   ]
  },
  {
   "cell_type": "markdown",
   "metadata": {
    "id": "UTWf1oe72rGh"
   },
   "source": [
    "The correct answer is **a)**.\n",
    "\n",
    "**b)** Be careful. When `function2` is called, the variable `x` is defined in local scope, so the value of the globally scoped `x` is still 'Outside.'\n",
    "\n",
    "**c)** This would have been printed if we made the function calls in the order `print(x)` `function2()` `function1()` `print(x)`.\n",
    "\n",
    "**d)** When variable `x` is defined outside both `function1()` and `function2()` it is in global scope. The first function call we make is `print(x)`, and it will print 'Outside.'"
   ]
  },
  {
   "cell_type": "markdown",
   "id": "91bb88bb",
   "metadata": {},
   "source": [
    "Câu trả lời đúng là **a)**.\n",
    "\n",
    "**b)** Hãy cẩn thận. Khi `function2` được gọi, biến `x` được định nghĩa trong phạm vi cục bộ, vì vậy giá trị của `x` trong phạm vi toàn cục vẫn là 'Outside.'\n",
    "\n",
    "**c)** Điều này sẽ được in nếu chúng mình thực hiện các lệnh gọi hàm theo thứ tự `print(x)` `function2()` `function1()` `print(x)`.\n",
    "\n",
    "**d)** Khi biến `x` được định nghĩa bên ngoài cả `function1()` và `function2()` thì nó nằm trong phạm vi toàn cục. Lệnh gọi hàm đầu tiên chúng mình thực hiện là `print(x)`, và nó sẽ in 'Outside.'"
   ]
  },
  {
   "cell_type": "markdown",
   "metadata": {
    "id": "hPZk2ljC2rGh"
   },
   "source": [
    "## Question 2 (Câu hỏi 2)"
   ]
  },
  {
   "cell_type": "markdown",
   "metadata": {
    "id": "08aa4I2rqizB"
   },
   "source": [
    "Which of the following statements about passing parameters are true?"
   ]
  },
  {
   "cell_type": "markdown",
   "id": "c09c60b3",
   "metadata": {},
   "source": [
    "Những câu nào sau đây về việc truyền tham số là đúng?"
   ]
  },
  {
   "cell_type": "markdown",
   "metadata": {
    "id": "MyodyEdUskGj"
   },
   "source": [
    "**a)** If a parameter is passed by reference, then the memory address of the stored data is passed.\n",
    "\n",
    "**b)** If a parameter is passed by value, then the memory address of the stored data is passed.\n",
    "\n",
    "**c)** If a parameter is passed by value, then changes to the parameter within the function will not affect the actual value.\n",
    "\n",
    "**d)** If a parameter is passed by reference, then changes to the parameter within the function will not affect the actual value."
   ]
  },
  {
   "cell_type": "markdown",
   "id": "fdd7dc58",
   "metadata": {},
   "source": [
    "**a)** Nếu một tham số được truyền bằng tham chiếu, thì địa chỉ bộ nhớ của dữ liệu được lưu trữ sẽ được truyền.\n",
    "\n",
    "**b)** Nếu một tham số được truyền bằng giá trị, thì địa chỉ bộ nhớ của dữ liệu được lưu trữ sẽ được truyền.\n",
    "\n",
    "**c)** Nếu một tham số được truyền bằng giá trị, thì các thay đổi đối với tham số trong hàm sẽ không ảnh hưởng đến giá trị thực tế.\n",
    "\n",
    "**d)** Nếu một tham số được truyền bằng tham chiếu, thì các thay đổi đối với tham số trong hàm sẽ không ảnh hưởng đến giá trị thực tế."
   ]
  },
  {
   "cell_type": "markdown",
   "metadata": {
    "id": "_IhBBxRiskGk"
   },
   "source": [
    "### Solution (Giải pháp)"
   ]
  },
  {
   "cell_type": "markdown",
   "metadata": {
    "id": "4oWypQycskGk"
   },
   "source": [
    "The correct answers are **b)** and **c)**.\n",
    "\n",
    "**b)** A copy of the data is sent to the function.\n",
    "\n",
    "**d)** Since the parameter is passed by reference, the function recieves a memory location and can modify the original data."
   ]
  },
  {
   "cell_type": "markdown",
   "id": "04f80c49",
   "metadata": {},
   "source": [
    "Các câu trả lời đúng là **b)** và **c)**.\n",
    "\n",
    "**b)** Một bản sao của dữ liệu được gửi đến hàm.\n",
    "\n",
    "**d)** Vì tham số được truyền bằng tham chiếu, hàm nhận được vị trí bộ nhớ và có thể sửa đổi dữ liệu gốc."
   ]
  },
  {
   "cell_type": "markdown",
   "metadata": {
    "id": "Vj9ye95gdg1a"
   },
   "source": [
    "## Question 3 (Câu hỏi 3)"
   ]
  },
  {
   "cell_type": "markdown",
   "metadata": {
    "id": "hfMyidfBdWYl"
   },
   "source": [
    "Write a function called `remove_consonants` that strips all the consonants from a parameter `sample_word` and returns the new word."
   ]
  },
  {
   "cell_type": "markdown",
   "id": "907bfb26",
   "metadata": {},
   "source": [
    "Viết một hàm có tên là `remove_consonants` loại bỏ tất cả các phụ âm từ tham số `sample_word` và trả về từ mới."
   ]
  },
  {
   "cell_type": "code",
   "execution_count": null,
   "metadata": {
    "id": "YOaINQ3AOPpa"
   },
   "outputs": [],
   "source": [
    "def remove_consonants(sample_word):\n",
    "  # Removes all the consonants from a given word.\n",
    "  # TODO(you): Implement\n",
    "  print('This function has not been implemented.')"
   ]
  },
  {
   "cell_type": "markdown",
   "metadata": {
    "id": "h4pZpl3XHpe6"
   },
   "source": [
    "### Hint (Gợi ý)"
   ]
  },
  {
   "cell_type": "markdown",
   "metadata": {
    "id": "hbYds3XJHr7g"
   },
   "source": [
    "Modify the `remove_vowels` function in the Lesson Overview."
   ]
  },
  {
   "cell_type": "markdown",
   "id": "fba49f1b",
   "metadata": {},
   "source": [
    "Sửa đổi hàm `remove_vowels` trong phần Tổng quan bài học."
   ]
  },
  {
   "cell_type": "markdown",
   "metadata": {
    "id": "acpKS0dkeTYF"
   },
   "source": [
    "### Unit Tests (Kiểm thử đơn vị)\n",
    "\n",
    "Run the following cell to check your answer against some unit tests."
   ]
  },
  {
   "cell_type": "markdown",
   "id": "47008efa",
   "metadata": {},
   "source": [
    "Chạy cell sau để kiểm tra câu trả lời của bạn với một số bài kiểm tra đơn vị."
   ]
  },
  {
   "cell_type": "code",
   "execution_count": null,
   "metadata": {
    "id": "t9iyMOQHeUR0"
   },
   "outputs": [],
   "source": [
    "print(remove_consonants('balloon'))\n",
    "# Should print: 'aoo'"
   ]
  },
  {
   "cell_type": "markdown",
   "metadata": {
    "id": "WP3PGajGdwhn"
   },
   "source": [
    "### Solution (Giải pháp)"
   ]
  },
  {
   "cell_type": "markdown",
   "metadata": {
    "id": "GqeKLocLA9y7"
   },
   "source": [
    "For this function, we can make a few modifications to the `remove_vowels` method from the Lesson Overview:"
   ]
  },
  {
   "cell_type": "markdown",
   "id": "0af604a2",
   "metadata": {},
   "source": [
    "Đối với hàm này, chúng mình có thể thực hiện một vài sửa đổi đối với phương thức `remove_vowels` từ phần Tổng quan bài học:"
   ]
  },
  {
   "cell_type": "code",
   "execution_count": null,
   "metadata": {
    "id": "4LP1MwhUYs8e"
   },
   "outputs": [],
   "source": [
    "def remove_consonants(sample_word):\n",
    "  # Removes all the consonants from a given word.\n",
    "  result = ''\n",
    "  for letter in sample_word:\n",
    "    if letter == 'a':\n",
    "      result += letter\n",
    "    elif letter == 'e':\n",
    "      result += letter\n",
    "    elif letter == 'i':\n",
    "      result += letter\n",
    "    elif letter == 'o':\n",
    "      result += letter\n",
    "    elif letter == 'u':\n",
    "      result += letter\n",
    "    # y, for our purposes, is a consonant.\n",
    "    else:\n",
    "      continue\n",
    "  return result"
   ]
  },
  {
   "cell_type": "markdown",
   "metadata": {
    "id": "Z8huvQ0P3bip"
   },
   "source": [
    "# Parameter Passing (Truyền tham số)"
   ]
  },
  {
   "cell_type": "markdown",
   "metadata": {
    "id": "Q-8sD9WOSOoB"
   },
   "source": [
    "## Lesson Overview (Tổng quan bài học)"
   ]
  },
  {
   "cell_type": "markdown",
   "metadata": {
    "id": "vhIUGII1FIJD"
   },
   "source": [
    "As you begin working with functions, you'll need to be familiar with **parameters**.\n",
    "\n",
    "> Parameters are data passed into a function that may be used within that function as part of its operation.\n",
    "\n",
    "This lesson will focus on providing problems for you to trace through so that you can follow a program's flow. The answer to each question in this lesson, unless otherwise indicated, is a number."
   ]
  },
  {
   "cell_type": "markdown",
   "id": "7a123368",
   "metadata": {},
   "source": [
    "Khi bạn bắt đầu làm việc với các hàm, bạn cần làm quen với các **tham số**.\n",
    "\n",
    "> Tham số là dữ liệu được truyền vào một hàm và có thể được sử dụng trong hàm đó như một phần của hoạt động của nó.\n",
    "\n",
    "Bài học này sẽ tập trung vào việc cung cấp các bài toán để bạn theo dõi để có thể theo dõi luồng của một chương trình. Câu trả lời cho mỗi câu hỏi trong bài học này, trừ khi có chỉ định khác, là một số."
   ]
  },
  {
   "cell_type": "markdown",
   "metadata": {
    "id": "OoNvI_Wb-4G5"
   },
   "source": [
    "Understanding how parameters are passed, modified, and returned is key to understanding the flow of a program.\n",
    "\n",
    "```python\n",
    "def fun(a, b, c):\n",
    "  return a + b + c\n",
    "```\n",
    "\n",
    "This is a very simple function that returns the sum of three values, like so:\n",
    "\n",
    "```python\n",
    "fun(1, 2, 3) = 6\n",
    "```\n",
    "---\n",
    "These can get more complicated, especially as more functions get added to the mix:\n",
    "\n",
    "```python\n",
    "def fun(a, b, c):\n",
    "  return more_fun(c, b, a) + more_fun(b, b, c) + even_more_fun(c, c, c)\n",
    "\n",
    "def more_fun(a, b, c):\n",
    "  return (10 * b) - 15 + even_more_fun(a, b, b) - c\n",
    "\n",
    "def even_more_fun(a, b, c):\n",
    "  return (c - (b * a)) * -1\n",
    "```\n",
    "\n",
    "So what is `fun(1, 2, 3)` now?\n",
    "\n",
    "```python\n",
    "fun(1, 2, 3) = more_fun(3, 2, 1) + more_fun(2, 2, 3) + even_more_fun(3, 3, 3)\n",
    "  \n",
    "more_fun(3, 2, 1) = (10 * 2) - 15 + even_more_fun(3, 2, 2) - 1\n",
    "more_fun(2, 2, 3) = (10 * 2) - 15 + even_more_fun(2, 2, 2) - 3\n",
    "\n",
    "even_more_fun(3, 3, 3) = (3 - (3 * 3)) * -1 = 6\n",
    "even_more_fun(2, 2, 2) = (2 - (2 * 2)) * -1 = 2\n",
    "even_more_fun(3, 2, 2) = (2 - (2 * 3)) * -1 = 4\n",
    "\n",
    "more_fun(2, 2, 3) = 20 - 15 + 2 - 3 = 4\n",
    "more_fun(3, 2, 1) = 20 - 15 + 4 - 1 = 8\n",
    "\n",
    "fun(1, 2, 3) = 8 + 4 + 6 = 18\n",
    "```\n",
    "\n",
    "You shouldn't typically write code this way, as it's hard to read and even harder to understand. But for this lesson, we're going to focus on how to effectively trace through functions via the parameters being passed. This exercise will help you understand the importance of well-written functions, and it will also help you identify bugs within functions."
   ]
  },
  {
   "cell_type": "markdown",
   "id": "03a49337",
   "metadata": {},
   "source": [
    "Hiểu cách các tham số được truyền, sửa đổi và trả về là chìa khóa để hiểu luồng của một chương trình.\n",
    "\n",
    "```python\n",
    "def fun(a, b, c):\n",
    "  return a + b + c\n",
    "```\n",
    "\n",
    "Đây là một hàm rất đơn giản trả về tổng của ba giá trị, như sau:\n",
    "\n",
    "```python\n",
    "fun(1, 2, 3) = 6\n",
    "```\n",
    "---\n",
    "Những điều này có thể trở nên phức tạp hơn, đặc biệt là khi có nhiều hàm được thêm vào:\n",
    "\n",
    "```python\n",
    "def fun(a, b, c):\n",
    "  return more_fun(c, b, a) + more_fun(b, b, c) + even_more_fun(c, c, c)\n",
    "\n",
    "def more_fun(a, b, c):\n",
    "  return (10 * b) - 15 + even_more_fun(a, b, b) - c\n",
    "\n",
    "def even_more_fun(a, b, c):\n",
    "  return (c - (b * a)) * -1\n",
    "```\n",
    "\n",
    "Vậy `fun(1, 2, 3)` bây giờ là gì?\n",
    "\n",
    "```python\n",
    "fun(1, 2, 3) = more_fun(3, 2, 1) + more_fun(2, 2, 3) + even_more_fun(3, 3, 3)\n",
    "  \n",
    "more_fun(3, 2, 1) = (10 * 2) - 15 + even_more_fun(3, 2, 2) - 1\n",
    "more_fun(2, 2, 3) = (10 * 2) - 15 + even_more_fun(2, 2, 2) - 3\n",
    "\n",
    "even_more_fun(3, 3, 3) = (3 - (3 * 3)) * -1 = 6\n",
    "even_more_fun(2, 2, 2) = (2 - (2 * 2)) * -1 = 2\n",
    "even_more_fun(3, 2, 2) = (2 - (2 * 3)) * -1 = 4\n",
    "\n",
    "more_fun(2, 2, 3) = 20 - 15 + 2 - 3 = 4\n",
    "more_fun(3, 2, 1) = 20 - 15 + 4 - 1 = 8\n",
    "\n",
    "fun(1, 2, 3) = 8 + 4 + 6 = 18\n",
    "```\n",
    "\n",
    "Bạn thường không nên viết code theo cách này, vì nó khó đọc và thậm chí còn khó hiểu hơn. Nhưng trong bài học này, chúng mình sẽ tập trung vào cách theo dõi hiệu quả thông qua các hàm thông qua các tham số được truyền vào. Bài tập này sẽ giúp bạn hiểu tầm quan trọng của các hàm được viết tốt, và nó cũng sẽ giúp bạn xác định các lỗi trong các hàm."
   ]
  },
  {
   "cell_type": "markdown",
   "metadata": {
    "id": "jCk_Rn1q3Wfy"
   },
   "source": [
    "## Question 1 (Câu hỏi 1)"
   ]
  },
  {
   "cell_type": "markdown",
   "metadata": {
    "id": "HD1V_9Mn8F8_"
   },
   "source": [
    "In the code below, which of the following is a parameter?"
   ]
  },
  {
   "cell_type": "markdown",
   "id": "40314dd7",
   "metadata": {},
   "source": [
    "Trong đoạn code dưới đây, điều nào sau đây là một tham số?"
   ]
  },
  {
   "cell_type": "markdown",
   "metadata": {
    "id": "54aZc4K73Xyz"
   },
   "source": [
    "```python\n",
    "def adder(x):\n",
    "  return x + 1\n",
    "```\n"
   ]
  },
  {
   "cell_type": "markdown",
   "id": "4662aa14",
   "metadata": {},
   "source": [
    "**a)** `def`\n",
    "\n",
    "**b)** `adder`\n",
    "\n",
    "**c)** `x`\n",
    "\n",
    "**d)** `return`\n",
    "\n",
    "**e)** `x + 1`"
   ]
  },
  {
   "cell_type": "markdown",
   "metadata": {
    "id": "m5rqzqaZ3bit"
   },
   "source": [
    "### Solution (Giải pháp)"
   ]
  },
  {
   "cell_type": "markdown",
   "metadata": {
    "id": "9kUtPpP33bit"
   },
   "source": [
    "The correct answers is **c)**.\n",
    "\n",
    "**a)** This is a keyword that defines a function.\n",
    "\n",
    "**b)** This is the name of the function.\n",
    "\n",
    "**d)** This is a keyword that specifies the output of the function then exits.  \n",
    "\n",
    "**e)** This is the body of the function, which uses the parameter."
   ]
  },
  {
   "cell_type": "markdown",
   "id": "379c753c",
   "metadata": {},
   "source": [
    "Câu trả lời đúng là **c)**.\n",
    "\n",
    "**a)** Đây là một từ khóa định nghĩa một hàm.\n",
    "\n",
    "**b)** Đây là tên của hàm.\n",
    "\n",
    "**d)** Đây là một từ khóa xác định đầu ra của hàm sau đó thoát.  \n",
    "\n",
    "**e)** Đây là phần thân của hàm, sử dụng tham số."
   ]
  },
  {
   "cell_type": "markdown",
   "metadata": {
    "id": "x7OrR2vM4hGm"
   },
   "source": [
    "## Question 2 (Câu hỏi 2)"
   ]
  },
  {
   "cell_type": "markdown",
   "metadata": {
    "id": "yANEszZW4jLC"
   },
   "source": [
    "Consider the following function that sums particular elements of a list.\n",
    "\n",
    "```python\n",
    "def sum_part_of_list(start, end, lst):\n",
    "  s = 0\n",
    "  for i in range(start, end + 1):\n",
    "    s += lst[i]\n",
    "  return s\n",
    "```\n",
    "\n",
    "How would you call `sum_part_of_list` to sum the values 12+13+14 from the list `[10, 11, 12, 13, 14, 15, 16]`?"
   ]
  },
  {
   "cell_type": "markdown",
   "id": "9950d504",
   "metadata": {},
   "source": [
    "Xem xét hàm sau đây tính tổng các phần tử cụ thể của một danh sách.\n",
    "\n",
    "```python\n",
    "def sum_part_of_list(start, end, lst):\n",
    "  s = 0\n",
    "  for i in range(start, end + 1):\n",
    "    s += lst[i]\n",
    "  return s\n",
    "```\n",
    "\n",
    "Bạn sẽ gọi `sum_part_of_list` như thế nào để tính tổng các giá trị 12+13+14 từ danh sách `[10, 11, 12, 13, 14, 15, 16]`?"
   ]
  },
  {
   "cell_type": "markdown",
   "metadata": {
    "id": "zw-bCzuwvJ55"
   },
   "source": [
    "**a)** `sum_part_of_list(12, 14, [10, 11, 12, 13, 14, 15, 16])`\n",
    "\n",
    "**b)** `sum_part_of_list(2, 4, [10, 11, 12, 13, 14, 15, 16])`\n",
    "\n",
    "**c)** `sum_part_of_list(2, 4, lst)`\n",
    "\n",
    "**d)** `sum_part_of_list(2, 5, [10, 11, 12, 13, 14, 15, 16])`"
   ]
  },
  {
   "cell_type": "markdown",
   "metadata": {
    "id": "iol9VnVXvJ55"
   },
   "source": [
    "### Solution (Giải pháp)"
   ]
  },
  {
   "cell_type": "markdown",
   "metadata": {
    "id": "4Nshev0mvJ56"
   },
   "source": [
    "The correct answer is **b)**.\n",
    "\n",
    "**a)** The `start` and `end` parameters represent indices, not actual values in the list.\n",
    "\n",
    "**c)** The variable `lst` has not been assigned to the desired list, `[10, 11, 12, 13, 14, 15, 16]`.\n",
    "\n",
    "**d)** This is close, but notice that the loop is `for i in range(start, end + 1)` so we are including the term at index `end`."
   ]
  },
  {
   "cell_type": "markdown",
   "id": "f586606b",
   "metadata": {},
   "source": [
    "Câu trả lời đúng là **b)**.\n",
    "\n",
    "**a)** Các tham số `start` và `end` đại diện cho chỉ số, không phải giá trị thực trong danh sách.\n",
    "\n",
    "**c)** Biến `lst` chưa được gán cho danh sách mong muốn, `[10, 11, 12, 13, 14, 15, 16]`.\n",
    "\n",
    "**d)** Câu trả lời này gần đúng, nhưng lưu ý rằng vòng lặp là `for i in range(start, end + 1)` vì vậy chúng mình đang bao gồm phần tử tại chỉ số `end`."
   ]
  },
  {
   "cell_type": "markdown",
   "metadata": {
    "id": "f1r3sxDj9LVh"
   },
   "source": [
    "## Question 3 (Câu hỏi 3)"
   ]
  },
  {
   "cell_type": "markdown",
   "metadata": {
    "id": "jnrPXjfPXC_C"
   },
   "source": [
    "Consider the following function that calculates profit for a lemonade stand.\n",
    "\n",
    "```python\n",
    "def profit(sales_revenue, expenses, days = 1):\n",
    "  return (sales_revenue - expenses) * days\n",
    "```\n",
    "\n",
    "Which of the parameters are positional parameters?"
   ]
  },
  {
   "cell_type": "markdown",
   "id": "82c4d34a",
   "metadata": {},
   "source": [
    "Xem xét hàm sau đây tính lợi nhuận cho một quầy bán nước chanh.\n",
    "\n",
    "```python\n",
    "def profit(sales_revenue, expenses, days = 1):\n",
    "  return (sales_revenue - expenses) * days\n",
    "```\n",
    "\n",
    "Tham số nào trong số đó là tham số vị trí?"
   ]
  },
  {
   "cell_type": "markdown",
   "metadata": {
    "id": "5bbRoInKvKdz"
   },
   "source": [
    "**a)** `sales_revenue`\n",
    "\n",
    "**b)** `expenses`\n",
    "\n",
    "**c)** `days`\n",
    "\n",
    "**d)** `all of the above`\n"
   ]
  },
  {
   "cell_type": "markdown",
   "metadata": {
    "id": "AdDqbgAcvKd0"
   },
   "source": [
    "### Solution (Giải pháp)"
   ]
  },
  {
   "cell_type": "markdown",
   "metadata": {
    "id": "uA-NBgQYvKd0"
   },
   "source": [
    "The correct answers are **a)** and **b)**.\n",
    "\n",
    "**c)** This is a keyword parameter.\n",
    "\n",
    "**d)** The function `profit` accepts a combination of positional and keyword parameters."
   ]
  },
  {
   "cell_type": "markdown",
   "id": "735e8fd4",
   "metadata": {},
   "source": [
    "Câu trả lời đúng là **a)** và **b)**.\n",
    "\n",
    "**c)** Đây là một tham số từ khóa.\n",
    "\n",
    "**d)** Hàm `profit` chấp nhận sự kết hợp của các tham số vị trí và tham số từ khóa."
   ]
  },
  {
   "cell_type": "markdown",
   "metadata": {
    "id": "0FOGNqME3zHh"
   },
   "source": [
    "# Strings (Chuỗi)"
   ]
  },
  {
   "cell_type": "markdown",
   "metadata": {
    "id": "IdlY7Aof30L-"
   },
   "source": [
    "## Lesson Overview (Tổng quan bài học)"
   ]
  },
  {
   "cell_type": "markdown",
   "metadata": {
    "id": "DTXXkJSz3zHi"
   },
   "source": [
    "> A string is an ordered sequence of characters, generally used to store text data."
   ]
  },
  {
   "cell_type": "markdown",
   "id": "b9924fe3",
   "metadata": {},
   "source": [
    "> Một chuỗi là một chuỗi ký tự có thứ tự, thường được sử dụng để lưu trữ dữ liệu văn bản."
   ]
  },
  {
   "cell_type": "markdown",
   "metadata": {
    "id": "LqO7jE1271un"
   },
   "source": [
    "An example string might look like this:"
   ]
  },
  {
   "cell_type": "markdown",
   "id": "6fbecaf1",
   "metadata": {},
   "source": [
    "Một ví dụ về chuỗi có thể trông như thế này:"
   ]
  },
  {
   "cell_type": "code",
   "execution_count": null,
   "metadata": {
    "id": "qva_MmLmVsHl"
   },
   "outputs": [],
   "source": [
    "greeting = 'Hello, World!'"
   ]
  },
  {
   "cell_type": "markdown",
   "metadata": {
    "id": "2ZYFtw6oll92"
   },
   "source": [
    "### Creating strings (Tạo chuỗi)"
   ]
  },
  {
   "cell_type": "markdown",
   "metadata": {
    "id": "A_AiRUOJdS4Y"
   },
   "source": [
    "Strings can be defined using either single quotes (`' '`) or double quotes (`\" \"`)."
   ]
  },
  {
   "cell_type": "markdown",
   "id": "8575d423",
   "metadata": {},
   "source": [
    "Chuỗi có thể được định nghĩa bằng cách sử dụng dấu nháy đơn (`' '`) hoặc dấu nháy kép (`\" \"`)."
   ]
  },
  {
   "cell_type": "code",
   "execution_count": null,
   "metadata": {
    "id": "a8Cg3Yry4MD1"
   },
   "outputs": [],
   "source": [
    "quote = 'Hi, friends!'\n",
    "print(quote)\n",
    "\n",
    "quote = \"Hi, friends!\"\n",
    "print(quote)"
   ]
  },
  {
   "cell_type": "markdown",
   "metadata": {
    "id": "Ad8dExqklpTE"
   },
   "source": [
    "### Accessing characters in a string (Truy cập các ký tự trong một chuỗi)"
   ]
  },
  {
   "cell_type": "markdown",
   "metadata": {
    "id": "HfubvbeaLjhQ"
   },
   "source": [
    "A string is usually represented as a list of characters."
   ]
  },
  {
   "cell_type": "markdown",
   "id": "acf86bbb",
   "metadata": {},
   "source": [
    "Một chuỗi thường được biểu diễn dưới dạng danh sách các ký tự."
   ]
  },
  {
   "cell_type": "markdown",
   "metadata": {
    "id": "C_uhSYqC731u"
   },
   "source": [
    "We can also perform certain actions to access individual characters within that string:"
   ]
  },
  {
   "cell_type": "markdown",
   "id": "8b75fb26",
   "metadata": {},
   "source": [
    "Chúng mình cũng có thể thực hiện một số hành động để truy cập các ký tự riêng lẻ trong chuỗi đó:"
   ]
  },
  {
   "cell_type": "code",
   "execution_count": null,
   "metadata": {
    "id": "ijp4kTP6Wjtn"
   },
   "outputs": [],
   "source": [
    "greeting = 'Hello, World!'\n",
    "print(greeting[0]) # 'H'\n",
    "print(greeting[5]) # ','\n",
    "print(len(greeting)) # 13"
   ]
  },
  {
   "cell_type": "markdown",
   "metadata": {
    "id": "rVYg_DJfWnM2"
   },
   "source": [
    "Keep in mind that strings are 0-indexed. That means they start counting their characters from 0 rather than 1. Therefore, the first character (the `'H'` in `'Hello'`) is accessible via `greeting[0]`.\n"
   ]
  },
  {
   "cell_type": "markdown",
   "id": "74a5d435",
   "metadata": {},
   "source": [
    "Hãy nhớ rằng chuỗi được đánh chỉ số từ 0. Điều đó có nghĩa là chúng bắt đầu đếm các ký tự của chúng từ 0 thay vì 1. Do đó, ký tự đầu tiên (chữ `'H'` trong `'Hello'`) có thể truy cập thông qua `greeting[0]`."
   ]
  },
  {
   "cell_type": "markdown",
   "metadata": {
    "id": "5KtyzubSmMYN"
   },
   "source": [
    "### Changing characters in a string and immutability (Thay đổi ký tự trong một chuỗi và tính bất biến)"
   ]
  },
  {
   "cell_type": "markdown",
   "metadata": {
    "id": "6Knb2uHEVuep"
   },
   "source": [
    "Accessing characters is an important part of working with strings, but changing characters is more difficult. In Python and most other languages, a string is **immutable**, meaning that its characters cannot be edited once they're in that form. If a string needs to be changed, there are many functions and built-in features for many languages that make it easy to copy and modify strings."
   ]
  },
  {
   "cell_type": "markdown",
   "id": "cb327085",
   "metadata": {},
   "source": [
    "Truy cập các ký tự là một phần quan trọng của việc làm việc với chuỗi, nhưng việc thay đổi các ký tự khó khăn hơn. Trong Python và hầu hết các ngôn ngữ khác, một chuỗi là **bất biến**, có nghĩa là các ký tự của nó không thể được chỉnh sửa sau khi chúng ở dạng đó. Nếu một chuỗi cần được thay đổi, có nhiều hàm và tính năng tích hợp sẵn cho nhiều ngôn ngữ giúp dễ dàng sao chép và sửa đổi chuỗi."
   ]
  },
  {
   "cell_type": "code",
   "execution_count": null,
   "metadata": {
    "id": "zv9EvOkfLjTK"
   },
   "outputs": [],
   "source": [
    "greeting = 'Hello, World!'\n",
    "print(greeting[0]) # 'H'\n",
    "\n",
    "greeting[0] = 'M' # This will cause an error!"
   ]
  },
  {
   "cell_type": "markdown",
   "metadata": {
    "id": "UoE0bZxwmT-t"
   },
   "source": [
    "### Changing characters in a string and immutability"
   ]
  },
  {
   "cell_type": "markdown",
   "metadata": {
    "id": "VHDo7f7cM5zk"
   },
   "source": [
    "Typically a string is modified by creating a new string with the change."
   ]
  },
  {
   "cell_type": "markdown",
   "id": "52de7fa7",
   "metadata": {},
   "source": [
    "Thông thường, một chuỗi được sửa đổi bằng cách tạo một chuỗi mới với sự thay đổi."
   ]
  },
  {
   "cell_type": "markdown",
   "metadata": {
    "id": "b7KXOuiy77pA"
   },
   "source": [
    "Try this:"
   ]
  },
  {
   "cell_type": "markdown",
   "id": "bfded01c",
   "metadata": {},
   "source": [
    "Hãy thử điều này:"
   ]
  },
  {
   "cell_type": "code",
   "execution_count": null,
   "metadata": {
    "id": "w7nncLMRM7FH"
   },
   "outputs": [],
   "source": [
    "greeting = 'Hello, World!'\n",
    "\n",
    "new_greeting = 'M'\n",
    "for i in range(1, len(greeting)):\n",
    "  new_greeting += greeting[i]\n",
    "print(new_greeting)"
   ]
  },
  {
   "cell_type": "markdown",
   "metadata": {
    "id": "6yUFJMytmWuy"
   },
   "source": [
    "### String formatting (Định dạng chuỗi)"
   ]
  },
  {
   "cell_type": "markdown",
   "metadata": {
    "id": "dcYK298fLwwf"
   },
   "source": [
    "You may also use strings for formatting, which allows you to substitute certain data types for formatting characters in strings:\n",
    "\n",
    "*   `%s` is used to substitute strings and boolean values.\n",
    "*   `%d` is used to substitute integers.\n",
    "*   `%f` is used to substitute floating point numbers."
   ]
  },
  {
   "cell_type": "markdown",
   "id": "126ab48c",
   "metadata": {},
   "source": [
    "Bạn cũng có thể sử dụng chuỗi để định dạng, cho phép bạn thay thế một số kiểu dữ liệu nhất định cho các ký tự định dạng trong chuỗi:\n",
    "\n",
    "*   `%s` được sử dụng để thay thế chuỗi và giá trị boolean.\n",
    "*   `%d` được sử dụng để thay thế số nguyên.\n",
    "*   `%f` được sử dụng để thay thế số thực."
   ]
  },
  {
   "cell_type": "code",
   "execution_count": null,
   "metadata": {
    "id": "8zRP8yC8MFoz"
   },
   "outputs": [],
   "source": [
    "print('Here is a sample string: %s' %\n",
    "      'This string will be inserted in place of the first \"%s\".')\n",
    "print('This string prints a number: %d' % 50)\n",
    "print('Kiran has two favorite numbers: %d and %d' % (0, 1))\n",
    "print('Sidnie\\'s favorite number is %d and her favorite word is %s.' %\n",
    "      (8, 'neat'))"
   ]
  },
  {
   "cell_type": "markdown",
   "metadata": {
    "id": "taCbqFWtmab-"
   },
   "source": [
    "### Escaping characters (Thoát ký tự)"
   ]
  },
  {
   "cell_type": "markdown",
   "metadata": {
    "id": "bhAfLOXQ4A1E"
   },
   "source": [
    "When creating strings, it's best to be consistent, but there will be times when that's challenging."
   ]
  },
  {
   "cell_type": "markdown",
   "id": "46a7293b",
   "metadata": {},
   "source": [
    "Khi tạo chuỗi, tốt nhất là nên nhất quán, nhưng sẽ có những lúc điều đó trở nên khó khăn."
   ]
  },
  {
   "cell_type": "markdown",
   "metadata": {
    "id": "4kbL5w3I8DLf"
   },
   "source": [
    " Consider the following text:\n",
    "\n",
    "> He said, \"No, that's my horse!\".\n",
    "\n",
    "To encode that as a string, you'll need to use single quotes and double quotes, which means that you'll have to **escape** some characters. You can do that using a backslash, or a `\\`."
   ]
  },
  {
   "cell_type": "markdown",
   "id": "c9b850b9",
   "metadata": {},
   "source": [
    "Xem xét văn bản sau:\n",
    "\n",
    "> He said, \"No, that's my horse!\".\n",
    "\n",
    "Để mã hóa điều đó dưới dạng một chuỗi, bạn sẽ cần sử dụng dấu nháy đơn và dấu nháy kép, điều đó có nghĩa là bạn sẽ phải **thoát** một số ký tự. Bạn có thể làm điều đó bằng cách sử dụng dấu gạch chéo ngược, hoặc `\\`."
   ]
  },
  {
   "cell_type": "code",
   "execution_count": null,
   "metadata": {
    "id": "sed1STIad3Tb"
   },
   "outputs": [],
   "source": [
    "quote = \"He said, \\\"No, that's my horse!\\\".\"\n",
    "print(quote)\n",
    "\n",
    "quote = 'He said, \"No, that\\'s my horse!\".'\n",
    "print(quote)"
   ]
  },
  {
   "cell_type": "markdown",
   "metadata": {
    "id": "pvHLr7CMRuHk"
   },
   "source": [
    "## Question 1 (Câu hỏi 1)"
   ]
  },
  {
   "cell_type": "markdown",
   "metadata": {
    "id": "lCNjIkrDRzhc"
   },
   "source": [
    "Which of the following best defines an string?"
   ]
  },
  {
   "cell_type": "markdown",
   "id": "737502fd",
   "metadata": {},
   "source": [
    "Điều nào sau đây định nghĩa tốt nhất một chuỗi?"
   ]
  },
  {
   "cell_type": "markdown",
   "metadata": {
    "id": "cCudU1C73zHq"
   },
   "source": [
    "**a)** An unordered collection of characters.\n",
    "\n",
    "**b)** An ordered collection of characters.\n",
    "\n",
    "**c)** An ordered collection of integers.\n",
    "\n",
    "**d)** An ordered collection of objects with any data type."
   ]
  },
  {
   "cell_type": "markdown",
   "id": "22390e52",
   "metadata": {},
   "source": [
    "**a)** Một tập hợp ký tự không có thứ tự.\n",
    "\n",
    "**b)** Một tập hợp ký tự có thứ tự.\n",
    "\n",
    "**c)** Một tập hợp số nguyên có thứ tự.\n",
    "\n",
    "**d)** Một tập hợp các đối tượng có thứ tự với bất kỳ kiểu dữ liệu nào."
   ]
  },
  {
   "cell_type": "markdown",
   "metadata": {
    "id": "D7lNaqGY3zHq"
   },
   "source": [
    "### Solution (Giải pháp)"
   ]
  },
  {
   "cell_type": "markdown",
   "metadata": {
    "id": "W__pfIkK3zHq"
   },
   "source": [
    "The correct answers are **b)**.\n",
    "\n",
    "**a)** A string has an ordering.\n",
    "\n",
    "**c)** Be careful. The characters in a string can represent numbers, but they are not of type `int`.\n",
    "\n",
    "**d)** This defines another data strucure called an *array*."
   ]
  },
  {
   "cell_type": "markdown",
   "id": "94ea759a",
   "metadata": {},
   "source": [
    "Câu trả lời đúng là **b)**.\n",
    "\n",
    "**a)** Một chuỗi có thứ tự.\n",
    "\n",
    "**c)** Hãy cẩn thận. Các ký tự trong một chuỗi có thể đại diện cho các số, nhưng chúng không phải là kiểu `int`.\n",
    "\n",
    "**d)** Điều này định nghĩa một cấu trúc dữ liệu khác gọi là *mảng*."
   ]
  },
  {
   "cell_type": "markdown",
   "metadata": {
    "id": "fdQwRRIlYN60"
   },
   "source": [
    "## Question 3 (Câu hỏi 3)"
   ]
  },
  {
   "cell_type": "markdown",
   "metadata": {
    "id": "biLTDlBeUAyZ"
   },
   "source": [
    "For many string manipulation tasks, you'll need to quickly look through the string and perform certain actions. Let's try that by writing a method called `print_vowels`. This method takes in a string and prints all the vowels (`['a', 'e', 'i', 'o', 'u']`) in it, one vowel per line."
   ]
  },
  {
   "cell_type": "markdown",
   "id": "538e0cb8",
   "metadata": {},
   "source": [
    "Đối với nhiều tác vụ thao tác chuỗi, bạn sẽ cần nhanh chóng xem qua chuỗi và thực hiện một số hành động nhất định. Hãy thử điều đó bằng cách viết một phương thức gọi là `print_vowels`. Phương thức này nhận vào một chuỗi và in ra tất cả các nguyên âm (`['a', 'e', 'i', 'o', 'u']`) trong đó, mỗi nguyên âm trên một dòng."
   ]
  },
  {
   "cell_type": "code",
   "execution_count": null,
   "metadata": {
    "id": "FGzJJ548XN2S"
   },
   "outputs": [],
   "source": [
    "def print_vowels(input_text):\n",
    "  # TODO(you): Implement\n",
    "  print('This function has not been implemented.')"
   ]
  },
  {
   "cell_type": "markdown",
   "metadata": {
    "id": "yU_3sK9adv8l"
   },
   "source": [
    "For example, when given the string `'Hello, World!'`, the function should print out the letters `e`, `o`, and `o`, each on their own line.\n"
   ]
  },
  {
   "cell_type": "markdown",
   "id": "de889b8c",
   "metadata": {},
   "source": [
    "Ví dụ, khi được cung cấp chuỗi `'Hello, World!'`, hàm nên in ra các chữ cái `e`, `o`, và `o`, mỗi chữ trên một dòng riêng."
   ]
  },
  {
   "cell_type": "markdown",
   "metadata": {
    "id": "Fr2SMJBxYiYI"
   },
   "source": [
    "### Unit Tests (Kiểm thử đơn vị)\n",
    "\n",
    "Run the following cell to check your answer against some unit tests."
   ]
  },
  {
   "cell_type": "markdown",
   "id": "2e8cd77b",
   "metadata": {},
   "source": [
    "Chạy cell sau để kiểm tra câu trả lời của bạn với một số bài kiểm tra đơn vị."
   ]
  },
  {
   "cell_type": "code",
   "execution_count": null,
   "metadata": {
    "id": "BIOry7DPYsfn"
   },
   "outputs": [],
   "source": [
    "print_vowels('Test')\n",
    "# Should print: e\n",
    "\n",
    "print_vowels('More vowels!')\n",
    "# Should print multiline:\n",
    "# o\n",
    "# e\n",
    "# o\n",
    "# e"
   ]
  },
  {
   "cell_type": "markdown",
   "metadata": {
    "id": "puvDex_GYl1e"
   },
   "source": [
    "### Solution (Giải pháp)"
   ]
  },
  {
   "cell_type": "markdown",
   "metadata": {
    "id": "Z8BsHTr93zHv"
   },
   "source": [
    "For this we'll iterate through the string using a `for` loop. If we match any vowels, we'll print them out:\n"
   ]
  },
  {
   "cell_type": "markdown",
   "id": "bf0a8268",
   "metadata": {},
   "source": [
    "Đối với việc này, chúng mình sẽ lặp qua chuỗi bằng một vòng lặp `for`. Nếu chúng mình tìm thấy bất kỳ nguyên âm nào, chúng mình sẽ in chúng ra:"
   ]
  },
  {
   "cell_type": "code",
   "execution_count": null,
   "metadata": {
    "id": "dnojmHjDYPKR"
   },
   "outputs": [],
   "source": [
    "def print_vowels(input_text):\n",
    "  for i in range(len(input_text)):\n",
    "    c = input_text[i]\n",
    "    if c == 'a':\n",
    "      print(c)\n",
    "    if c == 'e':\n",
    "      print(c)\n",
    "    if c == 'i':\n",
    "      print(c)\n",
    "    if c == 'o':\n",
    "      print(c)\n",
    "    if c == 'u':\n",
    "      print(c)"
   ]
  },
  {
   "cell_type": "markdown",
   "metadata": {
    "id": "ewOX3LjFYSSy"
   },
   "source": [
    "  You can also simplify this by using `or` statements:"
   ]
  },
  {
   "cell_type": "markdown",
   "id": "0b735d0e",
   "metadata": {},
   "source": [
    "  Bạn cũng có thể đơn giản hóa điều này bằng cách sử dụng các câu lệnh `or`:"
   ]
  },
  {
   "cell_type": "code",
   "execution_count": null,
   "metadata": {
    "id": "Cl3fkXj1Yl0T"
   },
   "outputs": [],
   "source": [
    "def print_vowels(input_text):\n",
    "  for i in range(len(input_text)):\n",
    "    c = input_text[i]\n",
    "    if c == 'a' or c == 'e' or c == 'i' or c == 'o' or c == 'u':\n",
    "      print(c)"
   ]
  },
  {
   "cell_type": "markdown",
   "metadata": {
    "id": "wdVbsQWpYojP"
   },
   "source": [
    "As you cover more data structures, you may find a way to make this function shorter. Some languages even have their own built-in functions for determining if a given character is a vowel or not."
   ]
  },
  {
   "cell_type": "markdown",
   "id": "52d567d5",
   "metadata": {},
   "source": [
    "Khi bạn tìm hiểu thêm về các cấu trúc dữ liệu, bạn có thể tìm thấy cách làm cho hàm này ngắn hơn. Một số ngôn ngữ thậm chí có các hàm tích hợp sẵn của riêng chúng để xác định xem một ký tự nhất định có phải là nguyên âm hay không."
   ]
  },
  {
   "cell_type": "markdown",
   "metadata": {
    "id": "cF7HcpkqY-DS"
   },
   "source": [
    "## Question 4 (Câu hỏi 4)"
   ]
  },
  {
   "cell_type": "markdown",
   "metadata": {
    "id": "4LPiaWMXUA2r"
   },
   "source": [
    "Another thing strings allow is for **slicing**, or removing parts of the string. Let's take a look at a few examples:\n",
    "\n"
   ]
  },
  {
   "cell_type": "markdown",
   "id": "c27debe8",
   "metadata": {},
   "source": [
    "Một điều khác mà chuỗi cho phép là **cắt lát**, hoặc loại bỏ các phần của chuỗi. Hãy xem một vài ví dụ:"
   ]
  },
  {
   "cell_type": "markdown",
   "metadata": {
    "id": "74IMYMYV8W6c"
   },
   "source": [
    "In Python, the syntax for slicing is `[start_index:end_index:step]`.  \n",
    "\n",
    "*   `step` is a particularly interesting parameter, as it tells you how to move from `start_index` to `end_index`. If not included, it defaults to `1`.\n",
    "*   `start_index` and `end_index` default to the beginning and end of the string."
   ]
  },
  {
   "cell_type": "markdown",
   "id": "2eafb33a",
   "metadata": {},
   "source": [
    "Trong Python, cú pháp cho việc cắt lát là `[start_index:end_index:step]`.  \n",
    "\n",
    "*   `step` là một tham số đặc biệt thú vị, vì nó cho bạn biết cách di chuyển từ `start_index` đến `end_index`. Nếu không được bao gồm, nó mặc định là `1`.\n",
    "*   `start_index` và `end_index` mặc định là đầu và cuối của chuỗi."
   ]
  },
  {
   "cell_type": "code",
   "execution_count": null,
   "metadata": {
    "id": "3Xo-ImIdXYn1"
   },
   "outputs": [],
   "source": [
    "greeting = 'Hello, World!'\n",
    "\n",
    "# The step parameter is optional (1, by default).\n",
    "\n",
    "print(greeting[1:3]) # 'el'\n",
    "print(greeting[4:8]) # 'o, W'\n",
    "print(greeting[2::1]) # 'llo, World!'\n",
    "print(greeting[::2]) # 'Hlo ol!'\n",
    "print(greeting[:10:2]) # 'Hlo o'\n",
    "print(greeting[::-1]) # '!dlroW ,olleH'\n",
    "\n",
    "print(greeting[5:]) # ', World!'\n",
    "print(greeting[5::1]) # ', World!'\n",
    "print(greeting[:10]) # 'Hello, Wor'\n",
    "print(greeting[:10:1]) # 'Hello, Wor'"
   ]
  },
  {
   "cell_type": "markdown",
   "metadata": {
    "id": "BkeXmrs_Xb1I"
   },
   "source": [
    "Slicing allows us to do all sorts of interesting things. Take, for instance, [Spoonerisms](https://en.wikipedia.org/wiki/Spoonerism), a classic wordplay where you swap the first letter of two different words. For example, the phrase `'train down'` would become `'drain town'`.\n",
    "\n",
    "Write a `spoonerize` function that takes two strings as input and returns them with their first letters reversed. Slicing may help you here."
   ]
  },
  {
   "cell_type": "markdown",
   "id": "c930bb87",
   "metadata": {},
   "source": [
    "Cắt lát cho phép chúng mình làm tất cả các loại việc thú vị. Ví dụ, [Spoonerisms](https://en.wikipedia.org/wiki/Spoonerism), một trò chơi chữ cổ điển trong đó bạn hoán đổi chữ cái đầu tiên của hai từ khác nhau. Ví dụ, cụm từ `'train down'` sẽ trở thành `'drain town'`.\n",
    "\n",
    "Viết một hàm `spoonerize` nhận hai chuỗi làm đầu vào và trả về chúng với chữ cái đầu tiên bị đảo ngược. Cắt lát có thể giúp bạn ở đây."
   ]
  },
  {
   "cell_type": "code",
   "execution_count": null,
   "metadata": {
    "id": "-gLB6k2PXuW1"
   },
   "outputs": [],
   "source": [
    "def spoonerize(first_word, second_word):\n",
    "  # TODO(you): Implement\n",
    "  new_first_word = '' # Fill this in.\n",
    "  new_second_word = '' # Fill this in.\n",
    "  return new_first_word + ' ' + new_second_word"
   ]
  },
  {
   "cell_type": "markdown",
   "metadata": {
    "id": "fMgiJh3NZGcT"
   },
   "source": [
    "### Unit Tests (Kiểm thử đơn vị)\n",
    "\n",
    "Run the following cell to check your answer against some unit tests."
   ]
  },
  {
   "cell_type": "markdown",
   "id": "4cac5ba9",
   "metadata": {},
   "source": [
    "Chạy cell sau để kiểm tra câu trả lời của bạn với một số bài kiểm tra đơn vị."
   ]
  },
  {
   "cell_type": "code",
   "execution_count": null,
   "metadata": {
    "id": "Tn_9ivVoWcr2"
   },
   "outputs": [],
   "source": [
    "print(spoonerize('train', 'down'))\n",
    "# Should print: drain town\n",
    "\n",
    "print(spoonerize('jelly', 'beans'))\n",
    "# Should print: belly jeans"
   ]
  },
  {
   "cell_type": "markdown",
   "metadata": {
    "id": "vGNYtiwaZJNO"
   },
   "source": [
    "### Solution (Giải pháp)"
   ]
  },
  {
   "cell_type": "markdown",
   "metadata": {
    "id": "2_u0R3B2UMFa"
   },
   "source": [
    "Slicing will let us quickly separate the first character from the rest of the string."
   ]
  },
  {
   "cell_type": "markdown",
   "id": "765b925b",
   "metadata": {},
   "source": [
    "Cắt lát sẽ cho phép chúng mình nhanh chóng tách ký tự đầu tiên khỏi phần còn lại của chuỗi."
   ]
  },
  {
   "cell_type": "code",
   "execution_count": null,
   "metadata": {
    "id": "C5RIwJOMp0uA"
   },
   "outputs": [],
   "source": [
    "def spoonerize(first_word, second_word):\n",
    "  new_first_word = second_word[:1] + first_word[1:]\n",
    "  new_second_word = first_word[:1] + second_word[1:]\n",
    "  return new_first_word + ' ' + new_second_word"
   ]
  },
  {
   "cell_type": "markdown",
   "metadata": {
    "id": "XAnVLqZceoAx"
   },
   "source": [
    "# Recursive Functions (Hàm đệ quy)"
   ]
  },
  {
   "cell_type": "markdown",
   "metadata": {
    "id": "PPqjC1TQksJq"
   },
   "source": [
    "## Lesson Overview (Tổng quan bài học)"
   ]
  },
  {
   "cell_type": "markdown",
   "metadata": {
    "id": "6v56gR3jDoSK"
   },
   "source": [
    "A recursive function is a function that references itself during execution. Recursive functions are commonly seen in a [divide and conquer algorithm](https://en.wikipedia.org/wiki/Divide-and-conquer_algorithm), where a big problem is broken down into multiple smaller problems.\n",
    "\n",
    "> A **recursive function** is a function that is defined in terms of the values of the same function at other inputs.\n",
    "\n",
    "> A **recursive sequence** is a sequence of numbers in which each term is defined by a **recursive function**."
   ]
  },
  {
   "cell_type": "markdown",
   "id": "3424b29f",
   "metadata": {},
   "source": [
    "Một hàm đệ quy là một hàm tham chiếu đến chính nó trong quá trình thực thi. Các hàm đệ quy thường được thấy trong [thuật toán chia để trị](https://en.wikipedia.org/wiki/Divide-and-conquer_algorithm), trong đó một vấn đề lớn được chia thành nhiều vấn đề nhỏ hơn.\n",
    "\n",
    "> Một **hàm đệ quy** là một hàm được định nghĩa theo các giá trị của cùng một hàm ở các đầu vào khác.\n",
    "\n",
    "> Một **dãy đệ quy** là một dãy số trong đó mỗi phần tử được định nghĩa bởi một **hàm đệ quy**."
   ]
  },
  {
   "cell_type": "markdown",
   "metadata": {
    "id": "Gjah3YAWkt1h"
   },
   "source": [
    "Almost all searching and sorting algorithms in this course use this methodology, and you will see several such algorithms in later lessons, including:\n",
    "\n",
    "- [Bubble sort](https://en.wikipedia.org/wiki/Bubble_sort)\n",
    "- [Merge sort](https://en.wikipedia.org/wiki/Merge_sort)\n",
    "- [Breadth-first search](https://en.wikipedia.org/wiki/Breadth-first_search)\n",
    "- [Depth-first search](https://en.wikipedia.org/wiki/Depth-first_search)"
   ]
  },
  {
   "cell_type": "markdown",
   "id": "a1f0e283",
   "metadata": {},
   "source": [
    "Hầu hết các thuật toán tìm kiếm và sắp xếp trong khóa học này đều sử dụng phương pháp này, và bạn sẽ thấy một số thuật toán như vậy trong các bài học sau, bao gồm:\n",
    "\n",
    "- [Sắp xếp nổi bọt](https://en.wikipedia.org/wiki/Bubble_sort)\n",
    "- [Sắp xếp trộn](https://en.wikipedia.org/wiki/Merge_sort)\n",
    "- [Tìm kiếm theo chiều rộng](https://en.wikipedia.org/wiki/Breadth-first_search)\n",
    "- [Tìm kiếm theo chiều sâu](https://en.wikipedia.org/wiki/Depth-first_search)"
   ]
  },
  {
   "cell_type": "markdown",
   "metadata": {
    "id": "4xVJ6Ahrokab"
   },
   "source": [
    "### The Fibonacci sequence (Dãy Fibonacci)"
   ]
  },
  {
   "cell_type": "markdown",
   "metadata": {
    "id": "GdO5lMekorc7"
   },
   "source": [
    "Recursive functions are probably best illustrated with an example. One of the most famous examples of a recursive sequence is the [Fibonacci sequence](https://en.wikipedia.org/wiki/Fibonacci_number), where each number is the sum of the previous two numbers in the sequence."
   ]
  },
  {
   "cell_type": "markdown",
   "id": "39514b26",
   "metadata": {},
   "source": [
    "Các hàm đệ quy có lẽ được minh họa tốt nhất bằng một ví dụ. Một trong những ví dụ nổi tiếng nhất về dãy đệ quy là [dãy Fibonacci](https://en.wikipedia.org/wiki/Fibonacci_number), trong đó mỗi số là tổng của hai số trước đó trong dãy."
   ]
  },
  {
   "cell_type": "markdown",
   "metadata": {
    "id": "F4mnumnzRodP"
   },
   "source": [
    "The Fibonacci sequence is defined by the following recursive formula, where $f_n$ is the $n^\\textrm{th}$ number in the Fibonacci sequence (also called the $n^\\textrm{th}$ Fibonacci number).\n",
    "\n",
    "$$\n",
    "\\begin{align}\n",
    "f_0 &= 0 \\\\\n",
    "f_1 &= 1 \\\\\n",
    "f_n &= f_{n-1} + f_{n-2} \\\\\n",
    "\\end{align}\n",
    "$$\n",
    "\n",
    "The first 10 numbers of the Fibonacci sequence are below:\n",
    "\n",
    "$$\n",
    "0, 1, 1, 2, 3, 5, 8, 13, 21, 34\n",
    "$$\n",
    "\n",
    "Notice that both $f_0$ and $f_1$ are not defined using recursion, but defined as constants. These are the *base cases* for the sequence, and the equation $f_n = f_{n-1} + f_{n-2}$ is the recursive formula.\n",
    "\n",
    "A recursive sequence *must* have at least one base case, otherwise the recursion is undefined mathematically, and this can lead to an infinite recursion (we'll talk more about this later in the lesson).\n",
    "\n",
    "The necessary number of base cases for a recursive function depends on the nature of the recursive formula. Note that the Fibonacci recursive formula uses two previous values of the sequence, so two base cases are necessary to properly define this sequence.\n",
    "\n"
   ]
  },
  {
   "cell_type": "markdown",
   "id": "4dacfc4c",
   "metadata": {},
   "source": [
    "Dãy Fibonacci được định nghĩa bởi công thức đệ quy sau, trong đó $f_n$ là số thứ $n$ trong dãy Fibonacci (còn được gọi là số Fibonacci thứ $n$).\n",
    "\n",
    "$$\n",
    "\\begin{align}\n",
    "f_0 &= 0 \\\\\n",
    "f_1 &= 1 \\\\\n",
    "f_n &= f_{n-1} + f_{n-2} \\\\\n",
    "\\end{align}\n",
    "$$\n",
    "\n",
    "Mười số đầu tiên của dãy Fibonacci là:\n",
    "\n",
    "$$\n",
    "0, 1, 1, 2, 3, 5, 8, 13, 21, 34\n",
    "$$\n",
    "\n",
    "Lưu ý rằng cả $f_0$ và $f_1$ đều không được định nghĩa bằng đệ quy, mà được định nghĩa là hằng số. Đây là các *trường hợp cơ sở* cho dãy, và phương trình $f_n = f_{n-1} + f_{n-2}$ là công thức đệ quy.\n",
    "\n",
    "Một dãy đệ quy *phải* có ít nhất một trường hợp cơ sở, nếu không thì đệ quy sẽ không được xác định về mặt toán học, và điều này có thể dẫn đến đệ quy vô hạn (chúng mình sẽ nói thêm về điều này sau trong bài học).\n",
    "\n",
    "Số lượng trường hợp cơ sở cần thiết cho một hàm đệ quy phụ thuộc vào bản chất của công thức đệ quy. Lưu ý rằng công thức đệ quy Fibonacci sử dụng hai giá trị trước đó của dãy, vì vậy cần hai trường hợp cơ sở để định nghĩa đúng dãy này."
   ]
  },
  {
   "cell_type": "markdown",
   "metadata": {
    "id": "i7J4bm8rDyj_"
   },
   "source": [
    "### Fibonacci using iteration (Fibonacci sử dụng vòng lặp)"
   ]
  },
  {
   "cell_type": "markdown",
   "metadata": {
    "id": "01Sl3AynD5zG"
   },
   "source": [
    "Let's first define the Fibonacci sequence using iteration."
   ]
  },
  {
   "cell_type": "markdown",
   "id": "17a1bb8e",
   "metadata": {},
   "source": [
    "Đầu tiên, hãy định nghĩa dãy Fibonacci bằng cách sử dụng vòng lặp."
   ]
  },
  {
   "cell_type": "markdown",
   "metadata": {
    "id": "NzeMD9lHsApB"
   },
   "source": [
    "In general, an iterative algorithm has a `for` or a `while` loop. In this iteration, we define the following terms:\n",
    "- `current_num` stores the $n^{\\textrm{th}}$ Fibonacci number\n",
    "- `next_num` stores the $(n+1)^{\\textrm{th}}$ Fibonacci number\n",
    "- `after_next_num` stores the $(n+2)^{\\textrm{th}}$ Fibonacci number\n",
    "\n",
    "The iteration starts with values `current_num = 0` and `next_num = 1`. The loop iteratively adds `current_num` and `next_num` to make `after_next_num`."
   ]
  },
  {
   "cell_type": "markdown",
   "id": "4141a817",
   "metadata": {},
   "source": [
    "Nói chung, một thuật toán lặp có một vòng lặp `for` hoặc `while`. Trong vòng lặp này, chúng mình định nghĩa các thuật ngữ sau:\n",
    "- `current_num` lưu trữ số Fibonacci thứ $n$\n",
    "- `next_num` lưu trữ số Fibonacci thứ $(n+1)$\n",
    "- `after_next_num` lưu trữ số Fibonacci thứ $(n+2)$\n",
    "\n",
    "Vòng lặp bắt đầu với các giá trị `current_num = 0` và `next_num = 1`. Vòng lặp lặp đi lặp lại cộng `current_num` và `next_num` để tạo ra `after_next_num`."
   ]
  },
  {
   "cell_type": "code",
   "execution_count": null,
   "metadata": {
    "id": "Ue0u7Z8QsENM"
   },
   "outputs": [],
   "source": [
    "def fibonacci_iteration(n):\n",
    "  # Raise an error if n is not a non-negative integer. The Fibonacci sequence is\n",
    "  # not defined for such cases.\n",
    "  if not isinstance(n, int) or n < 0:\n",
    "    raise ValueError(\"input must be a non-negative integer\")\n",
    "\n",
    "  # This defines the base case.\n",
    "  current_num, next_num = 0, 1\n",
    "\n",
    "  for i in range(n):\n",
    "    # after_next is the term after the next term.\n",
    "    after_next_num = next_num + current_num\n",
    "    # Increment the values of current and next.\n",
    "    current_num = next_num\n",
    "    next_num = after_next_num\n",
    "\n",
    "  return current_num"
   ]
  },
  {
   "cell_type": "code",
   "execution_count": null,
   "metadata": {
    "id": "iLiQs3BjvI2h"
   },
   "outputs": [],
   "source": [
    "for i in range(10):\n",
    "  print(fibonacci_iteration(i), end =\", \")"
   ]
  },
  {
   "cell_type": "markdown",
   "metadata": {
    "id": "QoOgbfrwovIb"
   },
   "source": [
    "### Fibonacci with recursion (Fibonacci với đệ quy)"
   ]
  },
  {
   "cell_type": "markdown",
   "metadata": {
    "id": "0CK2Ld_zr-dT"
   },
   "source": [
    "Recursive functions can be seen in code when a function calls itself."
   ]
  },
  {
   "cell_type": "markdown",
   "id": "f9632b8f",
   "metadata": {},
   "source": [
    "Các hàm đệ quy có thể được thấy trong code khi một hàm gọi chính nó."
   ]
  },
  {
   "cell_type": "markdown",
   "metadata": {
    "id": "PlyH2uZgo2TO"
   },
   "source": [
    "This code returns the $n^{\\textrm{th}}$ Fibonacci number. Note that in the last line of the function, the `return` includes a self-reference (`fibonacci_recursive` appears within its own definition), indicating a recursive formula."
   ]
  },
  {
   "cell_type": "markdown",
   "id": "5b1f1242",
   "metadata": {},
   "source": [
    "Đoạn code này trả về số Fibonacci thứ $n$. Lưu ý rằng ở dòng cuối cùng của hàm, `return` bao gồm một tham chiếu đến chính nó (`fibonacci_recursive` xuất hiện trong định nghĩa của chính nó), cho thấy đây là một công thức đệ quy."
   ]
  },
  {
   "cell_type": "code",
   "execution_count": null,
   "metadata": {
    "id": "pLukC4Gw-PGm"
   },
   "outputs": [],
   "source": [
    "def fibonacci_recursive(n):\n",
    "  # Raise an error if n is not a non-negative integer. The Fibonacci sequence is\n",
    "  # not defined for such cases.\n",
    "  if not isinstance(n, int) or n < 0:\n",
    "    raise ValueError(\"input must be a non-negative integer\")\n",
    "\n",
    "  # This defines the base case.\n",
    "  if n == 0 or n == 1:\n",
    "    return n\n",
    "\n",
    "  # This defines the recursive formula. Note that it references the function\n",
    "  # itself, fibonacci_recursive.\n",
    "  return fibonacci_recursive(n - 1) + fibonacci_recursive(n - 2)"
   ]
  },
  {
   "cell_type": "code",
   "execution_count": null,
   "metadata": {
    "id": "h5MmB_sVBJ0X"
   },
   "outputs": [],
   "source": [
    "for i in range(10):\n",
    "  print(fibonacci_recursive(i), end =\", \")"
   ]
  },
  {
   "cell_type": "markdown",
   "metadata": {
    "id": "0PE2TSJio6yc"
   },
   "source": [
    "### Infinite recursion (Đệ quy vô hạn)"
   ]
  },
  {
   "cell_type": "markdown",
   "metadata": {
    "id": "dS76h043RuB2"
   },
   "source": [
    "When defining a recursive function, it is important not to end up in an **infinite recursion**."
   ]
  },
  {
   "cell_type": "markdown",
   "id": "a9354ab2",
   "metadata": {},
   "source": [
    "Khi định nghĩa một hàm đệ quy, điều quan trọng là không rơi vào **đệ quy vô hạn**."
   ]
  },
  {
   "cell_type": "markdown",
   "metadata": {
    "id": "B_qldy0ipBOC"
   },
   "source": [
    "Try running the function below:"
   ]
  },
  {
   "cell_type": "markdown",
   "id": "48db88bc",
   "metadata": {},
   "source": [
    "Hãy thử chạy hàm dưới đây:"
   ]
  },
  {
   "cell_type": "code",
   "execution_count": null,
   "metadata": {
    "id": "3Xb9rFuF-d6u"
   },
   "outputs": [],
   "source": [
    "def infinite_recursion(x):\n",
    "  return infinite_recursion(x-1)\n",
    "\n",
    "print(infinite_recursion(0))"
   ]
  },
  {
   "cell_type": "markdown",
   "metadata": {
    "id": "GWG3IGmA-zuA"
   },
   "source": [
    "The function above keeps looking for lower and lower values as `x` approaches $-\\infty$. Different languages and compilers deal with infinite recursion differently; some time out after a certain iteration or time limit, some crash, and others notice that this causes an infinite loop and exit.\n",
    "\n",
    "This function is missing a base case, which is the only way to avoid an infinite loop within a recursive function. Note that including a base case does not necessarily guarantee you will avoid an infinite recursion. Try running the function below:"
   ]
  },
  {
   "cell_type": "markdown",
   "id": "f26dc815",
   "metadata": {},
   "source": [
    "Hàm trên tiếp tục tìm kiếm các giá trị ngày càng thấp hơn khi `x` tiến tới $-\\infty$. Các ngôn ngữ và trình biên dịch khác nhau xử lý đệ quy vô hạn khác nhau; một số hết thời gian sau một số lần lặp hoặc giới hạn thời gian nhất định, một số bị lỗi, và những cái khác nhận thấy điều này gây ra một vòng lặp vô hạn và thoát.\n",
    "\n",
    "Hàm này thiếu một trường hợp cơ sở, đây là cách duy nhất để tránh vòng lặp vô hạn trong một hàm đệ quy. Lưu ý rằng việc bao gồm một trường hợp cơ sở không nhất thiết đảm bảo bạn sẽ tránh được đệ quy vô hạn. Hãy thử chạy hàm dưới đây:"
   ]
  },
  {
   "cell_type": "code",
   "execution_count": null,
   "metadata": {
    "id": "uXzcckK2yF96"
   },
   "outputs": [],
   "source": [
    "def infinite_recursion(x):\n",
    "  if x == 0:\n",
    "    return x\n",
    "  return infinite_recursion(x-1)\n",
    "\n",
    "print(infinite_recursion(5))\n",
    "print(infinite_recursion(-5))"
   ]
  },
  {
   "cell_type": "markdown",
   "metadata": {
    "id": "3o4hJgqYyUPs"
   },
   "source": [
    "The function above contains a base case for `x == 0`. When it tries to evaluate at 5, the function works, since it lands at `x == 0` eventually. However, when it tries to evaluate for `x == -5`, it tries to evaluate indefinitely at `x-1` and never hits the base case of `x==0`.\n",
    "\n",
    "Infinite recursion occurs when a recursive function contains no base case(s) or never satisfies the base case(s). Whenever you write your recursive formula and base case(s), make sure *all* possible input values are accounted for."
   ]
  },
  {
   "cell_type": "markdown",
   "id": "a6549a0d",
   "metadata": {},
   "source": [
    "Hàm trên chứa một trường hợp cơ sở cho `x == 0`. Khi nó cố gắng đánh giá tại 5, hàm hoạt động, vì cuối cùng nó đến `x == 0`. Tuy nhiên, khi nó cố gắng đánh giá cho `x == -5`, nó cố gắng đánh giá vô hạn tại `x-1` và không bao giờ đạt đến trường hợp cơ sở của `x==0`.\n",
    "\n",
    "Đệ quy vô hạn xảy ra khi một hàm đệ quy không chứa trường hợp cơ sở nào hoặc không bao giờ thỏa mãn (các) trường hợp cơ sở. Bất cứ khi nào bạn viết công thức đệ quy và (các) trường hợp cơ sở của mình, hãy đảm bảo *tất cả* các giá trị đầu vào có thể có đều được tính đến."
   ]
  },
  {
   "cell_type": "markdown",
   "metadata": {
    "id": "qWjlVoQexz9_"
   },
   "source": [
    "## Question 1 (Câu hỏi 1)"
   ]
  },
  {
   "cell_type": "markdown",
   "metadata": {
    "id": "RSlCj8GPx4YH"
   },
   "source": [
    "Which *one* of the following statements best defines a recursive function?"
   ]
  },
  {
   "cell_type": "markdown",
   "id": "846bff37",
   "metadata": {},
   "source": [
    "Câu nào trong những câu sau đây định nghĩa tốt nhất một hàm đệ quy?"
   ]
  },
  {
   "cell_type": "markdown",
   "metadata": {
    "id": "n1XTVKJx5Z_0"
   },
   "source": [
    "**a)** A function that calls itself.\n",
    "\n",
    "**b)** A function used for traversing a graph.\n",
    "\n",
    "**c)** A function that uses a `for` or `while` loop.\n",
    "\n",
    "**d)** A function used for divide and conquer algorithms."
   ]
  },
  {
   "cell_type": "markdown",
   "id": "723e2ea3",
   "metadata": {},
   "source": [
    "**a)** Một hàm gọi chính nó.\n",
    "\n",
    "**b)** Một hàm được sử dụng để duyệt qua một đồ thị.\n",
    "\n",
    "**c)** Một hàm sử dụng vòng lặp `for` hoặc `while`.\n",
    "\n",
    "**d)** Một hàm được sử dụng cho các thuật toán chia để trị."
   ]
  },
  {
   "cell_type": "markdown",
   "metadata": {
    "id": "qFaHnjOu5Z_0"
   },
   "source": [
    "### Solution (Giải pháp)"
   ]
  },
  {
   "cell_type": "markdown",
   "metadata": {
    "id": "0eHXkNOv5Z_0"
   },
   "source": [
    "The correct answer is **a)**.\n",
    "\n",
    "**b)** Although many graph traversal algorithms can be implemented recursively, this is not the only application.\n",
    "\n",
    "**c)** The use of a `for` or `while` loop is called *iteration*, and a recursive function may or may not require iterative components.\n",
    "\n",
    "**d)** Divide and conquer algorithms often use recursive functions, but they are not the only examples."
   ]
  },
  {
   "cell_type": "markdown",
   "id": "002f5ce2",
   "metadata": {},
   "source": [
    "Câu trả lời đúng là **a)**.\n",
    "\n",
    "**b)** Mặc dù nhiều thuật toán duyệt đồ thị có thể được triển khai một cách đệ quy, đây không phải là ứng dụng duy nhất.\n",
    "\n",
    "**c)** Việc sử dụng vòng lặp `for` hoặc `while` được gọi là *lặp*, và một hàm đệ quy có thể có hoặc không cần các thành phần lặp.\n",
    "\n",
    "**d)** Các thuật toán chia để trị thường sử dụng các hàm đệ quy, nhưng chúng không phải là các ví dụ duy nhất."
   ]
  },
  {
   "cell_type": "markdown",
   "metadata": {
    "id": "VKIffe-LM0K2"
   },
   "source": [
    "## Question 2 (Câu hỏi 2)"
   ]
  },
  {
   "cell_type": "markdown",
   "metadata": {
    "id": "sVnl4J24zaTQ"
   },
   "source": [
    "In mathematics we can denote a special kind of numeric operation, known as a [factorial](https://en.wikipedia.org/wiki/Factorial)."
   ]
  },
  {
   "cell_type": "markdown",
   "id": "6cbb7068",
   "metadata": {},
   "source": [
    "Trong toán học, chúng mình có thể biểu thị một loại phép toán số đặc biệt, được gọi là [giai thừa](https://en.wikipedia.org/wiki/Factorial)."
   ]
  },
  {
   "cell_type": "markdown",
   "metadata": {
    "id": "GEf2kJAvpTqp"
   },
   "source": [
    "The factorial of a non-negative integer $n$, denoted $n!$, is defined as the product of all positive integers less than or equal to $n$. By convention, $0! = 1$.\n",
    "\n",
    "$$\n",
    "n! = n \\times (n-1) \\times (n-2) \\times \\ ... \\ \\times 2 \\times 1\n",
    "$$\n",
    "\n",
    "Define a factorial using a recursive formula and a base case, *without writing any code*. Your answer should include one recursive equation and the relevant base cases.\n",
    "\n",
    "Note that the Fibonacci recursive implementation in the Lesson Overview is an example of [multiple recursion](https://en.wikipedia.org/wiki/Recursion_(computer_science)#multiple_recursion). That is, the recursive formula references itself multiple times (in this case, twice). Many recursions (including this exercise) use single recursion, where the recursive formula only references itself once."
   ]
  },
  {
   "cell_type": "markdown",
   "id": "9085b981",
   "metadata": {},
   "source": [
    "Giai thừa của một số nguyên không âm $n$, ký hiệu là $n!$, được định nghĩa là tích của tất cả các số nguyên dương nhỏ hơn hoặc bằng $n$. Theo quy ước, $0! = 1$.\n",
    "\n",
    "$$\n",
    "n! = n \\times (n-1) \\times (n-2) \\times \\ ... \\ \\times 2 \\times 1\n",
    "$$\n",
    "\n",
    "Định nghĩa một giai thừa bằng cách sử dụng một công thức đệ quy và một trường hợp cơ sở, *không viết bất kỳ code nào*. Câu trả lời của bạn nên bao gồm một phương trình đệ quy và các trường hợp cơ sở liên quan.\n",
    "\n",
    "Lưu ý rằng việc triển khai đệ quy Fibonacci trong phần Tổng quan bài học là một ví dụ về [đệ quy đa dạng](https://en.wikipedia.org/wiki/Recursion_(computer_science)#multiple_recursion). Nghĩa là, công thức đệ quy tham chiếu đến chính nó nhiều lần (trong trường hợp này là hai lần). Nhiều đệ quy (bao gồm cả bài tập này) sử dụng đệ quy đơn, trong đó công thức đệ quy chỉ tham chiếu đến chính nó một lần."
   ]
  },
  {
   "cell_type": "code",
   "execution_count": null,
   "metadata": {
    "id": "OSbVQotxpbd8"
   },
   "outputs": [],
   "source": [
    "#freetext"
   ]
  },
  {
   "cell_type": "markdown",
   "metadata": {
    "id": "4dFtIaSxXqN7"
   },
   "source": [
    "### Solution (Giải pháp)"
   ]
  },
  {
   "cell_type": "markdown",
   "metadata": {
    "id": "nbyijE410jQ3"
   },
   "source": [
    "The key to the recursive formula is that $n! = n \\times (n-1)!$. Once we have that, we just need to define the base case, which is that $0! = 1$.\n",
    "\n",
    "$$\n",
    "\\begin{align}\n",
    "n! &= n \\times (n-1)! \\\\\n",
    "0! &= 1 \\\\\n",
    "\\end{align}\n",
    "$$"
   ]
  },
  {
   "cell_type": "markdown",
   "id": "f1431138",
   "metadata": {},
   "source": [
    "Chìa khóa của công thức đệ quy là $n! = n \\times (n-1)!$. Khi chúng mình có điều đó, chúng mình chỉ cần định nghĩa trường hợp cơ sở, đó là $0! = 1$.\n",
    "\n",
    "$$\n",
    "\\begin{align}\n",
    "n! &= n \\times (n-1)! \\\\\n",
    "0! &= 1 \\\\\n",
    "\\end{align}\n",
    "$$"
   ]
  },
  {
   "cell_type": "markdown",
   "metadata": {
    "id": "N8rdfcRWNQxN"
   },
   "source": [
    "## Question 3 (Câu hỏi 3)"
   ]
  },
  {
   "cell_type": "markdown",
   "metadata": {
    "id": "MWMqsalS1Qby"
   },
   "source": [
    "Now that we have a recursive relationship for a factorial, write a recursive function that calculates it.\n",
    "\n",
    "Your function should return $n!$ for some input `n`. For this function, assume that `n` is a non-negative integer."
   ]
  },
  {
   "cell_type": "markdown",
   "id": "d196bd80",
   "metadata": {},
   "source": [
    "Bây giờ chúng mình đã có một mối quan hệ đệ quy cho một giai thừa, hãy viết một hàm đệ quy tính toán nó.\n",
    "\n",
    "Hàm của bạn nên trả về $n!$ cho một đầu vào `n` nào đó. Đối với hàm này, giả sử rằng `n` là một số nguyên không âm."
   ]
  },
  {
   "cell_type": "code",
   "execution_count": null,
   "metadata": {
    "id": "IbIq1RHX_pcG"
   },
   "outputs": [],
   "source": [
    "def factorial(n):\n",
    "  if not isinstance(n, int) or n < 0:\n",
    "    raise ValueError(\"input must be a non-negative integer\")\n",
    "  # TODO(you): Implement\n",
    "  print(\"This function has not been implemented.\")"
   ]
  },
  {
   "cell_type": "markdown",
   "metadata": {
    "id": "r0d0tKG3NZOd"
   },
   "source": [
    "### Unit Tests (Kiểm thử đơn vị)\n",
    "\n",
    "Run the following cell to check your answer against some unit tests."
   ]
  },
  {
   "cell_type": "markdown",
   "id": "9fa86624",
   "metadata": {},
   "source": [
    "Chạy cell sau để kiểm tra câu trả lời của bạn với một số bài kiểm tra đơn vị."
   ]
  },
  {
   "cell_type": "code",
   "execution_count": null,
   "metadata": {
    "id": "HdK-6Ksz_sL9"
   },
   "outputs": [],
   "source": [
    "print(factorial(0))\n",
    "# Should print: 1\n",
    "\n",
    "print(factorial(3))\n",
    "# Should print: 6\n",
    "\n",
    "print(factorial(10))\n",
    "# Should print: 3628800"
   ]
  },
  {
   "cell_type": "markdown",
   "metadata": {
    "id": "K7iF_wp2Xxpt"
   },
   "source": [
    "### Solution (Giải pháp)"
   ]
  },
  {
   "cell_type": "markdown",
   "metadata": {
    "id": "4V3ou-cy1hcl"
   },
   "source": [
    "Make sure to include the base case for `n == 0`, otherwise your function will have an infinite recursion."
   ]
  },
  {
   "cell_type": "markdown",
   "id": "442b3c81",
   "metadata": {},
   "source": [
    "Đảm bảo bao gồm trường hợp cơ sở cho `n == 0`, nếu không hàm của bạn sẽ có đệ quy vô hạn."
   ]
  },
  {
   "cell_type": "code",
   "execution_count": null,
   "metadata": {
    "id": "TzCqf3Yf_kPe"
   },
   "outputs": [],
   "source": [
    "def factorial(n):\n",
    "  if not isinstance(n, int) or n < 0:\n",
    "    raise ValueError(\"input must be a non-negative integer\")\n",
    "  if n == 0:\n",
    "    return 1\n",
    "  return n * factorial(n-1)"
   ]
  },
  {
   "cell_type": "markdown",
   "metadata": {
    "id": "zAK0KxW25_Z-"
   },
   "source": [
    "# Debugging (Gỡ lỗi)"
   ]
  },
  {
   "cell_type": "markdown",
   "metadata": {
    "id": "gWFc8IJI5_Z_"
   },
   "source": [
    "## Lesson Overview (Tổng quan bài học)"
   ]
  },
  {
   "cell_type": "markdown",
   "metadata": {
    "id": "kpNcINmo5_Z_"
   },
   "source": [
    "Ideally, code would run perfectly and output the correct information on the first try. In practice, however, we often need to remove unintentional errors that can inhibit program flow. These errors are often called \"bugs\", and the process of cleaning up code to remove them is known as **debugging**."
   ]
  },
  {
   "cell_type": "markdown",
   "id": "bb48c60a",
   "metadata": {},
   "source": [
    "Trong trường hợp lý tưởng, code sẽ chạy hoàn hảo và xuất ra thông tin chính xác ngay lần đầu tiên. Tuy nhiên, trong thực tế, chúng mình thường cần phải loại bỏ các lỗi không mong muốn có thể cản trở luồng chương trình. Những lỗi này thường được gọi là \"bugs\", và quá trình làm sạch code để loại bỏ chúng được gọi là **gỡ lỗi**."
   ]
  },
  {
   "cell_type": "markdown",
   "metadata": {
    "id": "9R8dJXrb5_Z_"
   },
   "source": [
    "### Common error and exception types (Các loại lỗi và ngoại lệ phổ biến)"
   ]
  },
  {
   "cell_type": "markdown",
   "metadata": {
    "id": "ygoHlme05_Z_"
   },
   "source": [
    "Some bugs won't just manifest as unexpected output; they will cause the program to crash without completing. Take this code, for example:"
   ]
  },
  {
   "cell_type": "markdown",
   "id": "47c3b8bd",
   "metadata": {},
   "source": [
    "Một số lỗi sẽ không chỉ thể hiện là đầu ra không mong muốn; chúng sẽ khiến chương trình bị lỗi mà không hoàn thành. Ví dụ như đoạn code này:"
   ]
  },
  {
   "cell_type": "code",
   "execution_count": null,
   "metadata": {
    "id": "4gkJk0UH5_Z_"
   },
   "outputs": [],
   "source": [
    "print(hello world\")"
   ]
  },
  {
   "cell_type": "markdown",
   "metadata": {
    "id": "3KVy4MQRmkyX"
   },
   "source": [
    "If you think this looks incorrect, you're right. This code, as written, will not run successfully. When run, it shows the following error:\n",
    "\n",
    "```python\n",
    "  File \"<ipython-input-1-3b9a8570da25>\", line 1\n",
    "    print(hello world\")\n",
    "                    ^\n",
    "SyntaxError: invalid syntax\n",
    "```"
   ]
  },
  {
   "cell_type": "markdown",
   "id": "f382ba8e",
   "metadata": {},
   "source": [
    "Nếu bạn nghĩ điều này trông không đúng, bạn đã đúng. Đoạn code này, như đã viết, sẽ không chạy thành công. Khi chạy, nó hiển thị lỗi sau:\n",
    "\n",
    "```python\n",
    "  File \"<ipython-input-1-3b9a8570da25>\", line 1\n",
    "    print(hello world\")\n",
    "                    ^\n",
    "SyntaxError: invalid syntax\n",
    "```"
   ]
  },
  {
   "cell_type": "markdown",
   "metadata": {
    "id": "pyHXtXY15_Z_"
   },
   "source": [
    "This type of error is known as a **syntax error**, or a problem experienced when parsing the code. If the code cannot be parsed correctly, it cannot be run correctly. These are usually due to missing key punctuation, such as a `:` after a loop, missing a closing or opening parenthesis, or, in this case, missing a `\"` needed to define a string. A `SyntaxError` typically stops program execution before the code is actually run, as Python does a first pass through the code to make sure it can be parsed correctly.\n",
    "\n",
    "When you see an error, the error traceback will usually tell you what line the error is on. In this case, we only have one line of code, so line 1 is our culprit. This can be more complicated as code becomes increasingly nested."
   ]
  },
  {
   "cell_type": "markdown",
   "id": "b6f1f1ba",
   "metadata": {},
   "source": [
    "Loại lỗi này được gọi là **lỗi cú pháp**, hoặc một vấn đề gặp phải khi phân tích cú pháp code. Nếu code không thể được phân tích cú pháp đúng cách, nó không thể chạy đúng cách. Những lỗi này thường do thiếu dấu câu quan trọng, chẳng hạn như dấu `:` sau một vòng lặp, thiếu dấu ngoặc đóng hoặc mở, hoặc, trong trường hợp này, thiếu dấu `\"` cần thiết để định nghĩa một chuỗi. Một `SyntaxError` thường dừng thực thi chương trình trước khi code thực sự được chạy, vì Python thực hiện lần đầu tiên qua code để đảm bảo nó có thể được phân tích cú pháp đúng cách.\n",
    "\n",
    "Khi bạn thấy một lỗi, dấu vết lỗi thường sẽ cho bạn biết lỗi nằm ở dòng nào. Trong trường hợp này, chúng mình chỉ có một dòng code, vì vậy dòng 1 là thủ phạm. Điều này có thể phức tạp hơn khi code trở nên ngày càng lồng nhau."
   ]
  },
  {
   "cell_type": "markdown",
   "metadata": {
    "id": "mdkC5Ge4njMd"
   },
   "source": [
    "There are a few common exceptions that you may see as you start to code more in Python:\n",
    "\n",
    "*   `ZeroDivisionError`\n",
    "*   `TypeError`\n",
    "*   `NameError`\n",
    "\n",
    "A `ZeroDivisionError` is, as the name suggests, an error raised by dividing by zero. Dividing anything by zero is undefined, mathematically, so a computer just errors out instead of trying to calculate it. This code, for instance, will generate a `ZeroDivisionError`."
   ]
  },
  {
   "cell_type": "markdown",
   "id": "3bcf5aa7",
   "metadata": {},
   "source": [
    "Có một vài ngoại lệ phổ biến mà bạn có thể thấy khi bạn bắt đầu lập trình nhiều hơn bằng Python:\n",
    "\n",
    "*   `ZeroDivisionError`\n",
    "*   `TypeError`\n",
    "*   `NameError`\n",
    "\n",
    "Một `ZeroDivisionError` là, như tên gọi của nó gợi ý, một lỗi được đưa ra bởi việc chia cho số không. Chia bất cứ thứ gì cho số không là không xác định, về mặt toán học, vì vậy máy tính chỉ đơn giản là báo lỗi thay vì cố gắng tính toán nó. Đoạn code này, chẳng hạn, sẽ tạo ra một `ZeroDivisionError`."
   ]
  },
  {
   "cell_type": "code",
   "execution_count": null,
   "metadata": {
    "id": "bBWFWQgSoNcj"
   },
   "outputs": [],
   "source": [
    "def calculate_speed(distance, time):\n",
    "  speed = distance / time\n",
    "  return speed\n",
    "\n",
    "calculate_speed(50, 0)"
   ]
  },
  {
   "cell_type": "markdown",
   "metadata": {
    "id": "NOMrc7NCocWv"
   },
   "source": [
    "Additionally, the traceback on that error is expanded. Generally, a traceback shows exactly where the error occured in a program. In this, `calculate_speed` is where the error occured, but `calculate_speed` itself didn't cause the error. Instead, `speed = distance / time` was the cause of our error, since `time` was set to 0."
   ]
  },
  {
   "cell_type": "markdown",
   "id": "6a8761d2",
   "metadata": {},
   "source": [
    "Ngoài ra, dấu vết lỗi được mở rộng. Nói chung, một dấu vết lỗi cho thấy chính xác nơi lỗi xảy ra trong một chương trình. Trong trường hợp này, `calculate_speed` là nơi lỗi xảy ra, nhưng bản thân `calculate_speed` không gây ra lỗi. Thay vào đó, `speed = distance / time` là nguyên nhân gây ra lỗi của chúng mình, vì `time` được đặt thành 0."
   ]
  },
  {
   "cell_type": "markdown",
   "metadata": {
    "id": "yE02H0GkO59a"
   },
   "source": [
    "A `TypeError` means that you've passed data of the wrong type or an unexpected type. This frequently happens when dealing with `None`, in Python. Take a look at this example:"
   ]
  },
  {
   "cell_type": "markdown",
   "id": "13fa8650",
   "metadata": {},
   "source": [
    "Một `TypeError` có nghĩa là bạn đã truyền dữ liệu sai loại hoặc loại không mong đợi. Điều này thường xảy ra khi xử lý `None` trong Python. Hãy xem ví dụ này:"
   ]
  },
  {
   "cell_type": "code",
   "execution_count": null,
   "metadata": {
    "id": "S1bVp-_4lt5h"
   },
   "outputs": [],
   "source": [
    "def buggy_absolute_value(number):\n",
    "  if number <= 0:\n",
    "    return -1 * number\n",
    "\n",
    "def calculate_speed(distance, time):\n",
    "  speed = buggy_absolute_value(distance) / buggy_absolute_value(time)\n",
    "  return speed\n",
    "\n",
    "print(calculate_speed(-50, 10))"
   ]
  },
  {
   "cell_type": "markdown",
   "metadata": {
    "id": "Q5HPYrC6O59b"
   },
   "source": [
    "Running that code produces this error: `TypeError: unsupported operand type(s) for /: 'int' and 'NoneType'`. This is telling you that at some point, one of those variables is becoming `None`. Specifically, `buggy_absolute_value(time)` is `None`. Why?\n",
    "\n",
    "Well, while `buggy_absolute_value` returns a positive integer if a negative one is passed in, it returns nothing if a positive integer is passed in! This causes the result to be `None`, which cannot be used with a `/` operation. Adding `return number` below the if statement will solve this bug."
   ]
  },
  {
   "cell_type": "markdown",
   "id": "cfc9b887",
   "metadata": {},
   "source": [
    "Chạy đoạn code đó tạo ra lỗi này: `TypeError: unsupported operand type(s) for /: 'int' and 'NoneType'`. Điều này cho bạn biết rằng tại một thời điểm nào đó, một trong những biến đó đang trở thành `None`. Cụ thể, `buggy_absolute_value(time)` là `None`. Tại sao?\n",
    "\n",
    "Vâng, trong khi `buggy_absolute_value` trả về một số nguyên dương nếu một số âm được truyền vào, nó không trả về gì nếu một số nguyên dương được truyền vào! Điều này khiến kết quả trở thành `None`, không thể được sử dụng với phép toán `/`. Thêm `return number` dưới câu lệnh if sẽ giải quyết lỗi này."
   ]
  },
  {
   "cell_type": "code",
   "execution_count": null,
   "metadata": {
    "id": "wuu9i9jG7cUK"
   },
   "outputs": [],
   "source": [
    "def buggy_absolute_value(number):\n",
    "  if number <= 0:\n",
    "    return -1 * number\n",
    "  return number\n",
    "\n",
    "def calculate_speed(distance, time):\n",
    "  speed = buggy_absolute_value(distance) / buggy_absolute_value(time)\n",
    "  return speed\n",
    "\n",
    "print(calculate_speed(-50, 10))"
   ]
  },
  {
   "cell_type": "markdown",
   "metadata": {
    "id": "qJZ-bXgMo29k"
   },
   "source": [
    "A `NameError` is a common error, as well. This is simply the program saying that a name wasn't found. Helpfully, the error message also tells you which name was not found, as in this example:"
   ]
  },
  {
   "cell_type": "markdown",
   "id": "35cdd62b",
   "metadata": {},
   "source": [
    "Một `NameError` cũng là một lỗi phổ biến. Đây đơn giản là chương trình nói rằng một tên không được tìm thấy. Một cách hữu ích, thông báo lỗi cũng cho bạn biết tên nào không được tìm thấy, như trong ví dụ này:"
   ]
  },
  {
   "cell_type": "code",
   "execution_count": null,
   "metadata": {
    "id": "pNY5BrtZpFCh"
   },
   "outputs": [],
   "source": [
    "def print_x_times(string_to_print, num_times_to_print):\n",
    "  for i in range(num_times_to_print):\n",
    "    primt(string_to_print)\n",
    "\n",
    "print_x_times('hello world', 5)"
   ]
  },
  {
   "cell_type": "markdown",
   "metadata": {
    "id": "hY0ioG-opcOC"
   },
   "source": [
    "Running that code produces this error: `NameError: name 'primt' is not defined`. This is just a typo; `primt` should be changed to `print` and the code will work again."
   ]
  },
  {
   "cell_type": "markdown",
   "id": "b41ec6bb",
   "metadata": {},
   "source": [
    "Chạy đoạn code đó tạo ra lỗi này: `NameError: name 'primt' is not defined`. Đây chỉ là một lỗi đánh máy; `primt` nên được thay đổi thành `print` và code sẽ hoạt động trở lại."
   ]
  },
  {
   "cell_type": "markdown",
   "metadata": {
    "id": "G0MhEerPp1N9"
   },
   "source": [
    "As you begin to work with additional data structures and algorithms, you'll begin to see more error types, such as an `IndexError`, a `KeyError` or a `ValueError`. For a full list of Python built-in exceptions, see Python's [documentation](https://docs.python.org/3/library/exceptions.html#bltin-exceptions)."
   ]
  },
  {
   "cell_type": "markdown",
   "id": "2f12754b",
   "metadata": {},
   "source": [
    "Khi bạn bắt đầu làm việc với các cấu trúc dữ liệu và thuật toán bổ sung, bạn sẽ bắt đầu thấy nhiều loại lỗi hơn, chẳng hạn như `IndexError`, `KeyError` hoặc `ValueError`. Để biết danh sách đầy đủ các ngoại lệ tích hợp sẵn của Python, hãy xem [tài liệu](https://docs.python.org/3/library/exceptions.html#bltin-exceptions) của Python."
   ]
  },
  {
   "cell_type": "markdown",
   "metadata": {
    "id": "iiPu05T_5_aA"
   },
   "source": [
    "### Print debugging (Gỡ lỗi bằng print)"
   ]
  },
  {
   "cell_type": "markdown",
   "metadata": {
    "id": "5nSfdIbU5_aA"
   },
   "source": [
    "The first tool in a programmer's debugging arsenal is often just using `print` to check the values in a piece of code while it's executing. This doesn't necessarily always work to identify problems, but it can often allow the author to check their expectations and keep an eye out for off-by-one errors, where the bounds on some slice or code modification are incorrectly generated. Take, for example, this code:\n",
    "\n",
    "```python\n",
    "def count_letters_in_text(text):\n",
    "  # This function counts the number of letters in inputted text, ignoring\n",
    "  # spaces.\n",
    "  result_count = 0\n",
    "  start_index = 0\n",
    "  for i in range(len(text)):\n",
    "    if text[i] == ' ':\n",
    "      current_word_length = len(text[start_index:i])\n",
    "      result_count += current_word_length\n",
    "      start_index = i\n",
    "    else:\n",
    "      continue\n",
    "  current_word_length = len(text[start_index:])\n",
    "  result_count += current_word_length\n",
    "  return result_count\n",
    "\n",
    "text = \"\"\"I have lived very agreeably. I have begun a poem in verses of one\n",
    "syllable. That is rather difficult, but the merit in all things consists in the\n",
    "difficulty. The matter is gallant.\"\"\"\n",
    "print(count_letters_in_text(text))\n",
    "```"
   ]
  },
  {
   "cell_type": "markdown",
   "id": "ffd3f598",
   "metadata": {},
   "source": [
    "Công cụ đầu tiên trong kho vũ khí gỡ lỗi của một lập trình viên thường chỉ là sử dụng `print` để kiểm tra các giá trị trong một đoạn code trong khi nó đang thực thi. Điều này không nhất thiết luôn hoạt động để xác định vấn đề, nhưng nó thường cho phép tác giả kiểm tra kỳ vọng của họ và theo dõi các lỗi lệch một đơn vị, trong đó giới hạn trên một số lát cắt hoặc sửa đổi code được tạo ra không chính xác. Ví dụ, đoạn code này:\n",
    "\n",
    "```python\n",
    "def count_letters_in_text(text):\n",
    "  # This function counts the number of letters in inputted text, ignoring\n",
    "  # spaces.\n",
    "  result_count = 0\n",
    "  start_index = 0\n",
    "  for i in range(len(text)):\n",
    "    if text[i] == ' ':\n",
    "      current_word_length = len(text[start_index:i])\n",
    "      result_count += current_word_length\n",
    "      start_index = i\n",
    "    else:\n",
    "      continue\n",
    "  current_word_length = len(text[start_index:])\n",
    "  result_count += current_word_length\n",
    "  return result_count\n",
    "\n",
    "text = \"\"\"I have lived very agreeably. I have begun a poem in verses of one\n",
    "syllable. That is rather difficult, but the merit in all things consists in the\n",
    "difficulty. The matter is gallant.\"\"\"\n",
    "print(count_letters_in_text(text))\n",
    "```"
   ]
  },
  {
   "cell_type": "markdown",
   "metadata": {
    "id": "BWtlImsH5_aA"
   },
   "source": [
    "There's quite a bit of text in that quote, so it's not immediately clear if that count is correct or not. Rather than counting by hand, we can instead insert a `print` statement that prints `current_word_length`. That will tell us pretty quickly if it works."
   ]
  },
  {
   "cell_type": "markdown",
   "id": "e86b1173",
   "metadata": {},
   "source": [
    "Có khá nhiều văn bản trong trích dẫn đó, vì vậy không rõ ngay liệu số đếm đó có chính xác hay không. Thay vì đếm bằng tay, chúng mình có thể chèn một câu lệnh `print` để in ra `current_word_length`. Điều đó sẽ cho chúng mình biết khá nhanh nếu nó hoạt động."
   ]
  },
  {
   "cell_type": "code",
   "execution_count": null,
   "metadata": {
    "id": "Sw1L2E1T3UJ7"
   },
   "outputs": [],
   "source": [
    "def count_letters_in_text(text):\n",
    "  # This function counts the number of letters in inputted text, ignoring\n",
    "  # spaces.\n",
    "  result_count = 0\n",
    "  start_index = 0\n",
    "  for i in range(len(text)):\n",
    "    if text[i] == ' ':\n",
    "      current_word_length = len(text[start_index:i])\n",
    "      result_count += current_word_length\n",
    "      start_index = i\n",
    "    else:\n",
    "      continue\n",
    "  current_word_length = len(text[start_index:])\n",
    "  result_count += current_word_length\n",
    "  return result_count\n",
    "\n",
    "text = \"\"\"I have lived very agreeably. I have begun a poem in verses of one\n",
    "syllable. That is rather difficult, but the merit in all things consists in the\n",
    "difficulty. The matter is gallant.\"\"\"\n",
    "print(count_letters_in_text(text))"
   ]
  },
  {
   "cell_type": "markdown",
   "metadata": {
    "id": "oERYhx4f3acy"
   },
   "source": [
    "Looking at the print output, the function seems to be adding an extra letter to every letter after the first. Since it's not happening for the first letter, this suggests that the bug is around `start_index` getting reassigned. Here, we can see that it's getting reassigned as `i`, but `i` is the index of the space, meaning we should instead make it `i + 1`. This leads to this change in our code:"
   ]
  },
  {
   "cell_type": "markdown",
   "id": "a56d025b",
   "metadata": {},
   "source": [
    "Nhìn vào đầu ra in, hàm dường như đang thêm một chữ cái vào mỗi chữ cái sau chữ cái đầu tiên. Vì điều này không xảy ra cho chữ cái đầu tiên, điều này gợi ý rằng lỗi nằm ở việc `start_index` được gán lại. Ở đây, chúng mình có thể thấy rằng nó đang được gán lại là `i`, nhưng `i` là chỉ số của khoảng trắng, có nghĩa là chúng mình nên làm cho nó thành `i + 1`. Điều này dẫn đến thay đổi này trong code của chúng mình:"
   ]
  },
  {
   "cell_type": "code",
   "execution_count": null,
   "metadata": {
    "id": "suG-U-6F4KTx"
   },
   "outputs": [],
   "source": [
    "def count_letters_in_text(text):\n",
    "  # This function counts the number of letters in inputted text, ignoring\n",
    "  # spaces.\n",
    "  result_count = 0\n",
    "  start_index = 0\n",
    "  for i in range(len(text)):\n",
    "    if text[i] == ' ':\n",
    "      current_word_length = len(text[start_index:i])\n",
    "      print(current_word_length)\n",
    "      result_count += current_word_length\n",
    "      start_index = i + 1\n",
    "    else:\n",
    "      continue\n",
    "  current_word_length = len(text[start_index:])\n",
    "  result_count += current_word_length\n",
    "  return result_count\n",
    "\n",
    "text = \"\"\"I have lived very agreeably. I have begun a poem in verses of one\n",
    "syllable. That is rather difficult, but the merit in all things consists in the\n",
    "difficulty. The matter is gallant.\"\"\"\n",
    "print(count_letters_in_text(text))"
   ]
  },
  {
   "cell_type": "markdown",
   "metadata": {
    "id": "bjKqcDJ15Le8"
   },
   "source": [
    "This seems to be the correct result, and we can compare word lengths seen in `count_letters_in_text` to some of the words in the text to confirm this. Print debugging can be helpful when working with code that is too complicated to trace through by hand or when trying to gain familiarity with new code."
   ]
  },
  {
   "cell_type": "markdown",
   "id": "ce2a4702",
   "metadata": {},
   "source": [
    "Điều này dường như là kết quả đúng, và chúng mình có thể so sánh độ dài từ được thấy trong `count_letters_in_text` với một số từ trong văn bản để xác nhận điều này. Gỡ lỗi bằng print có thể hữu ích khi làm việc với code quá phức tạp để theo dõi bằng tay hoặc khi cố gắng làm quen với code mới."
   ]
  },
  {
   "cell_type": "markdown",
   "metadata": {
    "id": "D0kEv7nN5_aB"
   },
   "source": [
    "### Pdb and debugging in Python (Pdb và gỡ lỗi trong Python)"
   ]
  },
  {
   "cell_type": "markdown",
   "metadata": {
    "id": "ji7YtCsG5_aB"
   },
   "source": [
    "Another, more involved method for debugging is to use `pdb`, a Python module that allows for interactive debugging. While more complex than print debugging, `pdb` allows for some powerful additional features that can often help find issues with code.\n",
    "\n",
    "`pdb` cannot be used in Colab, so generally to use it you will either need to use it on your local machine or via a site like [Google Cloud Shell](https://cloud.google.com/shell). Going to that site and going to the console will allow you to use an editor and a terminal to run code and potentially debug it.\n",
    "\n",
    "To use `pdb`, add the following line to your code where you want to start debugging:\n",
    "\n",
    "```python\n",
    "import pdb; pdb.set_trace()\n",
    "```\n",
    "\n",
    "Running a program with this line will import the required module and kick off the debugger, pausing execution of code on that line. There are a number of useful commands that can be executed, depending on where you are in the function:\n",
    "\n",
    "*   **print({expression})**: This can be used to print the value of any object that's currently within the scope of that function. This can be used similarly to `print` debugging, but on-demand. You can use **p**, as well, but using `print` requires the appropriate Python 3 syntax; **p** does not.\n",
    "*   **c, continue, cont**: This command unpauses execution, but will stop again if the code encounters another breakpoint (such as `pdb.set_trace()` again).\n",
    "*   **r, return**: This command unpauses execution until the current function returns.\n",
    "*   **s, step**: This continues execution exactly one line. This means that if the next line is inside of a function, it will move to that line to continue execution.\n",
    "*   **n, next**: This continues execution exactly one line, but unlike **step** it skips over functions. This will move to the next line in the current function, instead.\n",
    "\n",
    "This is a basic set of commands that will help navigate through code. For more complex commands, including moving up and down stack frames, setting breakpoints, and more interactive debugging tools, see the `pdb` [documentation](https://docs.python.org/3/library/pdb.html#debugger-commands).\n",
    "\n"
   ]
  },
  {
   "cell_type": "markdown",
   "id": "ff378b1b",
   "metadata": {},
   "source": [
    "Một phương pháp phức tạp hơn để gỡ lỗi là sử dụng `pdb`, một module Python cho phép gỡ lỗi tương tác. Mặc dù phức tạp hơn so với gỡ lỗi bằng print, `pdb` cung cấp một số tính năng bổ sung mạnh mẽ có thể thường giúp tìm ra vấn đề với code.\n",
    "\n",
    "`pdb` không thể được sử dụng trong Colab, vì vậy thông thường để sử dụng nó, bạn sẽ cần sử dụng nó trên máy cục bộ của mình hoặc thông qua một trang web như [Google Cloud Shell](https://cloud.google.com/shell). Chuyển đến trang web đó và truy cập vào bảng điều khiển sẽ cho phép bạn sử dụng trình soạn thảo và một terminal để chạy code và có khả năng gỡ lỗi nó.\n",
    "\n",
    "Để sử dụng `pdb`, thêm dòng sau vào code của bạn tại nơi bạn muốn bắt đầu gỡ lỗi:\n",
    "\n",
    "```python\n",
    "import pdb; pdb.set_trace()\n",
    "```\n",
    "\n",
    "Chạy một chương trình với dòng này sẽ nhập module cần thiết và khởi động trình gỡ lỗi, tạm dừng thực thi code trên dòng đó. Có một số lệnh hữu ích có thể được thực thi, tùy thuộc vào vị trí của bạn trong hàm:\n",
    "\n",
    "*   **print({expression})**: Điều này có thể được sử dụng để in giá trị của bất kỳ đối tượng nào hiện đang nằm trong phạm vi của hàm đó. Điều này có thể được sử dụng tương tự như gỡ lỗi bằng `print`, nhưng theo yêu cầu. Bạn cũng có thể sử dụng **p**, nhưng sử dụng `print` yêu cầu cú pháp Python 3 thích hợp; **p** thì không.\n",
    "*   **c, continue, cont**: Lệnh này bỏ tạm dừng thực thi, nhưng sẽ dừng lại nếu code gặp một điểm ngắt khác (chẳng hạn như `pdb.set_trace()` một lần nữa).\n",
    "*   **r, return**: Lệnh này bỏ tạm dừng thực thi cho đến khi hàm hiện tại trả về.\n",
    "*   **s, step**: Tiếp tục thực thi chính xác một dòng. Điều này có nghĩa là nếu dòng tiếp theo nằm bên trong một hàm, nó sẽ di chuyển đến dòng đó để tiếp tục thực thi.\n",
    "*   **n, next**: Tiếp tục thực thi chính xác một dòng, nhưng không giống như **step**, nó bỏ qua các hàm. Thay vào đó, điều này sẽ di chuyển đến dòng tiếp theo trong hàm hiện tại.\n",
    "\n",
    "Đây là một tập hợp các lệnh cơ bản sẽ giúp điều hướng qua code. Đối với các lệnh phức tạp hơn, bao gồm di chuyển lên và xuống các khung ngăn xếp, đặt điểm ngắt, và các công cụ gỡ lỗi tương tác khác, hãy xem [tài liệu](https://docs.python.org/3/library/pdb.html#debugger-commands) của `pdb`."
   ]
  },
  {
   "cell_type": "markdown",
   "metadata": {
    "id": "1A0oXt3e5_aB"
   },
   "source": [
    "## Question 1 (Câu hỏi 1)"
   ]
  },
  {
   "cell_type": "markdown",
   "metadata": {
    "id": "igzd00395_aB"
   },
   "source": [
    "Consider the following code."
   ]
  },
  {
   "cell_type": "markdown",
   "id": "4818b42b",
   "metadata": {},
   "source": [
    "Xem xét đoạn code sau."
   ]
  },
  {
   "cell_type": "markdown",
   "metadata": {
    "id": "dUQwnfJN5_aB"
   },
   "source": [
    "```python\n",
    "def this_function_definitely_works(test_variable):\n",
    "  num_iterations = 0\n",
    "  for i in range(5):\n",
    "    result = test_variable / i\n",
    "    prit(result)\n",
    "    num_iterations += 1\n",
    "  print(%s' % num_iterations)\n",
    "\n",
    "this_function_definitely_works(10)\n",
    "```"
   ]
  },
  {
   "cell_type": "markdown",
   "metadata": {
    "id": "lVvDtyqO5_aB"
   },
   "source": [
    "When running this code, what error should we expect to be raised?"
   ]
  },
  {
   "cell_type": "markdown",
   "id": "d0883808",
   "metadata": {},
   "source": [
    "Khi chạy đoạn code này, chúng mình nên mong đợi lỗi nào sẽ được đưa ra?"
   ]
  },
  {
   "cell_type": "markdown",
   "metadata": {
    "id": "1GhXMcmw5_aB"
   },
   "source": [
    "**a)** No errors; this function will successfully complete.\n",
    "\n",
    "**b)** `NameError`\n",
    "\n",
    "**c)** `SyntaxError`\n",
    "\n",
    "**d)** `ZeroDivisionError`"
   ]
  },
  {
   "cell_type": "markdown",
   "id": "73677071",
   "metadata": {},
   "source": [
    "**a)** Không có lỗi; hàm này sẽ hoàn thành thành công.\n",
    "\n",
    "**b)** `NameError`\n",
    "\n",
    "**c)** `SyntaxError`\n",
    "\n",
    "**d)** `ZeroDivisionError`"
   ]
  },
  {
   "cell_type": "markdown",
   "metadata": {
    "id": "tk6Bzd5a5_aB"
   },
   "source": [
    "### Solution (Giải pháp)"
   ]
  },
  {
   "cell_type": "markdown",
   "metadata": {
    "id": "zyRyNE6L5_aB"
   },
   "source": [
    "The correct answer is **c)**.\n",
    "\n",
    "**a)** There are three lines in this function that have bugs in them; see if you can identify them all!\n",
    "\n",
    "**b)** While `prit` will eventually raise a `NameError`, it will happen after the `SyntaxError` is raised *and* after the `ZeroDivisionError` on the line above.\n",
    "\n",
    "**d)** The `ZeroDivisionError` is the first error in terms of line ordering, but a `SyntaxError` will be raised during the parsing step, before any code is actually run."
   ]
  },
  {
   "cell_type": "markdown",
   "id": "d7e8d8e6",
   "metadata": {},
   "source": [
    "Câu trả lời đúng là **c)**.\n",
    "\n",
    "**a)** Có ba dòng trong hàm này có lỗi; hãy xem liệu bạn có thể xác định tất cả chúng!\n",
    "\n",
    "**b)** Mặc dù `prit` cuối cùng sẽ đưa ra một `NameError`, nó sẽ xảy ra sau khi `SyntaxError` được đưa ra *và* sau `ZeroDivisionError` trên dòng phía trên.\n",
    "\n",
    "**d)** `ZeroDivisionError` là lỗi đầu tiên về thứ tự dòng, nhưng một `SyntaxError` sẽ được đưa ra trong bước phân tích cú pháp, trước khi bất kỳ code nào thực sự được chạy."
   ]
  },
  {
   "cell_type": "markdown",
   "metadata": {
    "id": "ioopASJu5_aB"
   },
   "source": [
    "## Question 2 (Câu hỏi 2)"
   ]
  },
  {
   "cell_type": "markdown",
   "metadata": {
    "id": "YvZXQqkR5_aB"
   },
   "source": [
    "Consider the following code."
   ]
  },
  {
   "cell_type": "markdown",
   "id": "a3f1c75e",
   "metadata": {},
   "source": [
    "Xem xét đoạn code sau."
   ]
  },
  {
   "cell_type": "markdown",
   "metadata": {
    "id": "W3g0x8nc5_aB"
   },
   "source": [
    "```python\n",
    "def validate_number(number):\n",
    "  if number <= 0:\n",
    "    return 0\n",
    "  else:\n",
    "    return number\n",
    "\n",
    "def average_letters_per_word(word_list):\n",
    "  total_letters = 0\n",
    "  for word in word_list:\n",
    "    total_letters += len(word)\n",
    "  \n",
    "  list_length = validate_number(len(word_list))\n",
    "  total_letters = validate_number(total_letters)\n",
    "  return (total_letters / list_length)\n",
    "  \n",
    "word_list = 'I must speak to you by such means as are within my reach. You pierce my soul. I am half agony, half hope.'.split(' ')\n",
    "average_letters_per_word(word_list)\n",
    "```"
   ]
  },
  {
   "cell_type": "markdown",
   "metadata": {
    "id": "AYucJWtc5_aC"
   },
   "source": [
    "When running this code, what error should we expect to be raised?"
   ]
  },
  {
   "cell_type": "markdown",
   "id": "8682d535",
   "metadata": {},
   "source": [
    "Khi chạy đoạn code này, chúng mình nên mong đợi lỗi nào sẽ được đưa ra?"
   ]
  },
  {
   "cell_type": "markdown",
   "metadata": {
    "id": "iB9xe58B5_aC"
   },
   "source": [
    "**a)** No errors; this function will successfully complete.\n",
    "\n",
    "**b)** `NameError`\n",
    "\n",
    "**c)** `TypeError`\n",
    "\n",
    "**d)** `ZeroDivisionError`"
   ]
  },
  {
   "cell_type": "markdown",
   "id": "36960f1b",
   "metadata": {},
   "source": [
    "**a)** Không có lỗi; hàm này sẽ hoàn thành thành công.\n",
    "\n",
    "**b)** `NameError`\n",
    "\n",
    "**c)** `TypeError`\n",
    "\n",
    "**d)** `ZeroDivisionError`"
   ]
  },
  {
   "cell_type": "markdown",
   "metadata": {
    "id": "YOoojEpD5_aC"
   },
   "source": [
    "### Solution (Giải pháp)"
   ]
  },
  {
   "cell_type": "markdown",
   "metadata": {
    "id": "Tpk3Z1Rq5_aC"
   },
   "source": [
    "The correct answer is **a)**.\n",
    "\n",
    "**b)** All variables are correctly named, so a `NameError` should not occur.\n",
    "\n",
    "**c)** The `validate_number` code is very similar to the `TypeError` example above, but it doesn't produce a `TypeError`, as it always returns an integer.\n",
    "\n",
    "**d)** This is a tricky one, since there *is* a bug related to dividing by zero, here. If you pass in an empty `word_list`, then `validate_number` will return 0, causing a `ZeroDivsionError`. However, except in that case, `validate_number` will return a positive integer. To fix this, don't call `validate_number` on `total_letters`, as that will never be negative, and change `validate_number` to return 1 instead of 0, should `number` be less than or equal to zero. If you caught this, nice work! This error just won't occur based on our current inputs."
   ]
  },
  {
   "cell_type": "markdown",
   "id": "e6856295",
   "metadata": {},
   "source": [
    "Câu trả lời đúng là **a)**.\n",
    "\n",
    "**b)** Tất cả các biến đều được đặt tên chính xác, vì vậy `NameError` sẽ không xảy ra.\n",
    "\n",
    "**c)** Code của `validate_number` rất giống với ví dụ `TypeError` ở trên, nhưng nó không tạo ra `TypeError`, vì nó luôn trả về một số nguyên.\n",
    "\n",
    "**d)** Đây là một câu khó, vì có *một* lỗi liên quan đến việc chia cho không ở đây. Nếu bạn truyền vào một `word_list` trống, thì `validate_number` sẽ trả về 0, gây ra `ZeroDivsionError`. Tuy nhiên, ngoại trừ trường hợp đó, `validate_number` sẽ trả về một số nguyên dương. Để sửa lỗi này, đừng gọi `validate_number` trên `total_letters`, vì điều đó sẽ không bao giờ là số âm, và thay đổi `validate_number` để trả về 1 thay vì 0, nếu `number` nhỏ hơn hoặc bằng không. Nếu bạn nhận ra điều này, làm tốt lắm! Lỗi này sẽ không xảy ra dựa trên đầu vào hiện tại của chúng mình."
   ]
  },
  {
   "cell_type": "markdown",
   "metadata": {
    "id": "3FVIHSGuJBMK"
   },
   "source": [
    "# Arrays / Lists (Mảng / Danh sách)"
   ]
  },
  {
   "cell_type": "markdown",
   "metadata": {
    "id": "dolMOw0bJMsR"
   },
   "source": [
    "## Lesson Overview (Tổng quan bài học)"
   ]
  },
  {
   "cell_type": "markdown",
   "metadata": {
    "id": "VkiQCNq72Bi2"
   },
   "source": [
    "The array is one of the most fundamental data structures in computer science."
   ]
  },
  {
   "cell_type": "markdown",
   "id": "d58b0b30",
   "metadata": {},
   "source": [
    "Mảng là một trong những cấu trúc dữ liệu cơ bản nhất trong khoa học máy tính."
   ]
  },
  {
   "cell_type": "markdown",
   "metadata": {
    "id": "g15X20fRJQgI"
   },
   "source": [
    "An array in Python is called a **list**, and you can think of an array like an everyday list of things.\n",
    "\n",
    "**NOTE:** Since the Python implementation of an array is called a list, the words \"array\" and \"list\" are used interchangeably throughout this lesson."
   ]
  },
  {
   "cell_type": "markdown",
   "id": "113b6ec0",
   "metadata": {},
   "source": [
    "Mảng trong Python được gọi là **list** (danh sách), và bạn có thể hiểu mảng giống như một danh sách các thứ trong cuộc sống hàng ngày.\n",
    "\n",
    "**LƯU Ý:** Vì cách thực hiện mảng trong Python được gọi là list, các từ \"array\" (mảng) và \"list\" (danh sách) được sử dụng thay thế cho nhau trong suốt bài học này."
   ]
  },
  {
   "cell_type": "markdown",
   "metadata": {
    "id": "vTD0wLiY2b7e"
   },
   "source": [
    "### Creating arrays (Tạo mảng)"
   ]
  },
  {
   "cell_type": "markdown",
   "metadata": {
    "id": "G4IdlAMgPpmk"
   },
   "source": [
    "> An **array** is an ordered collection of objects.\n",
    "\n",
    "Python's list allows different data types within the same array, e.g., `[\"a\", 1]`, but it is best practice to only create and use lists in which all elements have the same data type. In most other languages, the objects within an array must all have the same data type. Therefore, in this lesson, we will only consider arrays of the same type."
   ]
  },
  {
   "cell_type": "markdown",
   "id": "de487666",
   "metadata": {},
   "source": [
    "> **Mảng** là một tập hợp các đối tượng được sắp xếp theo thứ tự.\n",
    "\n",
    "List trong Python cho phép các kiểu dữ liệu khác nhau trong cùng một mảng, ví dụ: `[\"a\", 1]`, nhưng thông lệ tốt nhất là chỉ tạo và sử dụng các list mà tất cả các phần tử có cùng kiểu dữ liệu. Trong hầu hết các ngôn ngữ khác, các đối tượng trong một mảng phải có cùng kiểu dữ liệu. Do đó, trong bài học này, chúng mình sẽ chỉ xem xét các mảng có cùng kiểu."
   ]
  },
  {
   "cell_type": "code",
   "execution_count": null,
   "metadata": {
    "id": "v8KHHlltMrSW"
   },
   "outputs": [],
   "source": [
    "int_list = [1, 3, 5, 7, 9]\n",
    "string_list = [\"This\", \"is\", \"an\", \"array\", \"of\", \"strings.\"]\n",
    "\n",
    "print(int_list)\n",
    "print(string_list)"
   ]
  },
  {
   "cell_type": "markdown",
   "metadata": {
    "id": "5faIS5z321nM"
   },
   "source": [
    "### Array indices (Chỉ số mảng)"
   ]
  },
  {
   "cell_type": "markdown",
   "metadata": {
    "id": "TYqNZtPlPwpW"
   },
   "source": [
    "Since arrays have an ordering, elements are stored by integer **index**. This index starts at 0 and counts up."
   ]
  },
  {
   "cell_type": "markdown",
   "id": "3889e406",
   "metadata": {},
   "source": [
    "Vì mảng có thứ tự, các phần tử được lưu trữ theo **chỉ số** (index) nguyên. Chỉ số này bắt đầu từ 0 và tăng dần."
   ]
  },
  {
   "cell_type": "code",
   "execution_count": null,
   "metadata": {
    "id": "AoMjOJ_RNOra"
   },
   "outputs": [],
   "source": [
    "int_list = [1, 3, 5, 7, 9]\n",
    "print(int_list[0])\n",
    "print(int_list[3])\n",
    "\n",
    "string_list = [\"This\", \"is\", \"an\", \"array\", \"of\", \"strings.\"]\n",
    "print(string_list[1])\n",
    "print(string_list[5])"
   ]
  },
  {
   "cell_type": "markdown",
   "metadata": {
    "id": "mm319UDs3cyK"
   },
   "source": [
    "### Accessing elements in an array (Truy cập các phần tử trong mảng)"
   ]
  },
  {
   "cell_type": "markdown",
   "metadata": {
    "id": "4GIhGXfkN7J5"
   },
   "source": [
    "Python also provides various notations for accessing different indices of an array."
   ]
  },
  {
   "cell_type": "markdown",
   "id": "b8841bde",
   "metadata": {},
   "source": [
    "Python cũng cung cấp nhiều ký hiệu khác nhau để truy cập các chỉ số khác nhau của mảng."
   ]
  },
  {
   "cell_type": "code",
   "execution_count": null,
   "metadata": {
    "id": "_fZhFfGeOacK"
   },
   "outputs": [],
   "source": [
    "int_list = [1, 3, 5, 7, 9]\n",
    "\n",
    "# Negatives are used to access indices from the reverse. For example, list[-1]\n",
    "# gets the last element in the list.\n",
    "print(int_list[-1])\n",
    "print(int_list[-2])\n",
    "\n",
    "# A \"slice\" of an array is a subset of the array accessed using \":\".\n",
    "print(int_list[:2])\n",
    "print(int_list[1:3])\n",
    "print(int_list[:-2])\n",
    "print(int_list[1:-1])\n",
    "print(int_list[-3:-1])"
   ]
  },
  {
   "cell_type": "markdown",
   "metadata": {
    "id": "DepHea5R3pha"
   },
   "source": [
    "### Accessing non-existent elements (Truy cập các phần tử không tồn tại)"
   ]
  },
  {
   "cell_type": "markdown",
   "metadata": {
    "id": "xk4dQ0cVNwyb"
   },
   "source": [
    "If you try to access an index that does not exist, Python raises an error."
   ]
  },
  {
   "cell_type": "markdown",
   "id": "ac622f19",
   "metadata": {},
   "source": [
    "Nếu bạn cố gắng truy cập vào một chỉ số không tồn tại, Python sẽ đưa ra một lỗi."
   ]
  },
  {
   "cell_type": "code",
   "execution_count": null,
   "metadata": {
    "id": "bGIb2jWqN25G"
   },
   "outputs": [],
   "source": [
    "int_list = [1, 3, 5, 7, 9]\n",
    "print(int_list[100])"
   ]
  },
  {
   "cell_type": "markdown",
   "metadata": {
    "id": "fzLbNraK32PZ"
   },
   "source": [
    "### Repeated elements (Phần tử lặp lại)"
   ]
  },
  {
   "cell_type": "markdown",
   "metadata": {
    "id": "_JeIBZ3w0jiZ"
   },
   "source": [
    "The same element can appear at different indices of an array, resulting in duplicate elements. For example, `[1, 1, 1, 1]` is a valid array."
   ]
  },
  {
   "cell_type": "markdown",
   "id": "5f8d6509",
   "metadata": {},
   "source": [
    "Cùng một phần tử có thể xuất hiện ở các chỉ số khác nhau của một mảng, dẫn đến các phần tử trùng lặp. Ví dụ, `[1, 1, 1, 1]` là một mảng hợp lệ."
   ]
  },
  {
   "cell_type": "code",
   "execution_count": null,
   "metadata": {
    "id": "EWmpjYmb0l_M"
   },
   "outputs": [],
   "source": [
    "multiple_ones = [1, 1, 1, 1]\n",
    "print(multiple_ones[0])\n",
    "print(multiple_ones[3])"
   ]
  },
  {
   "cell_type": "markdown",
   "metadata": {
    "id": "tKxIMD5a39cm"
   },
   "source": [
    "### Array length (Độ dài mảng)"
   ]
  },
  {
   "cell_type": "markdown",
   "metadata": {
    "id": "UR8sf2--WS5p"
   },
   "source": [
    "You can get the length of an array using `len`."
   ]
  },
  {
   "cell_type": "markdown",
   "id": "8da8b07c",
   "metadata": {},
   "source": [
    "Bạn có thể lấy độ dài của một mảng bằng cách sử dụng hàm `len`."
   ]
  },
  {
   "cell_type": "code",
   "execution_count": null,
   "metadata": {
    "id": "FvY6rOf9WWKy"
   },
   "outputs": [],
   "source": [
    "int_list = [1, 3, 5, 7, 9]\n",
    "print(len(int_list))\n",
    "print(len(string_list))"
   ]
  },
  {
   "cell_type": "markdown",
   "metadata": {
    "id": "gcWAFDh64x8K"
   },
   "source": [
    "### Iterating over an array (Lặp qua một mảng)"
   ]
  },
  {
   "cell_type": "markdown",
   "metadata": {
    "id": "Q8TSRZ6p5Goj"
   },
   "source": [
    "Arrays can also be iterated over, using `for`. The exact implementation of this varies by language."
   ]
  },
  {
   "cell_type": "markdown",
   "id": "93bfe8e5",
   "metadata": {},
   "source": [
    "Các mảng cũng có thể được lặp qua bằng cách sử dụng vòng lặp `for`. Cách thực hiện chính xác của việc này thay đổi theo từng ngôn ngữ lập trình."
   ]
  },
  {
   "cell_type": "markdown",
   "metadata": {
    "id": "MJ9G1vcCQdB2"
   },
   "source": [
    "Some languages let you iterate over the elements in the array, while others force you to loop through integer indices and access the elements within the loop.\n",
    "\n",
    "Throughout this lesson, these notations are used interchangeably. You should be familiar with both implementations."
   ]
  },
  {
   "cell_type": "markdown",
   "id": "4ec67fa9",
   "metadata": {},
   "source": [
    "Một số ngôn ngữ cho phép bạn lặp trực tiếp qua các phần tử trong mảng, trong khi các ngôn ngữ khác buộc bạn phải lặp qua các chỉ số số nguyên và truy cập các phần tử bên trong vòng lặp.\\n\\nTrong suốt bài học này, các cách biểu diễn này được sử dụng thay thế cho nhau. Bạn nên làm quen với cả hai phương pháp thực hiện."
   ]
  },
  {
   "cell_type": "code",
   "execution_count": null,
   "metadata": {
    "id": "xDCPs-nCXJPj"
   },
   "outputs": [],
   "source": [
    "int_list = [1, 3, 5, 7, 9]\n",
    "\n",
    "# Looping through a list using range.\n",
    "for i in int_list:\n",
    "  print(i)\n",
    "\n",
    "# Looping through a list via its index.\n",
    "# This can be useful when we want to access not only the element, but also the\n",
    "# index.\n",
    "for i in range(len(string_list)):\n",
    "  print(i, string_list[i])"
   ]
  },
  {
   "cell_type": "markdown",
   "metadata": {
    "id": "zfEwAxgJ48l6"
   },
   "source": [
    "### Appending elements (Thêm phần tử)"
   ]
  },
  {
   "cell_type": "markdown",
   "metadata": {
    "id": "0NFdkarFRyNi"
   },
   "source": [
    "Another important concept native to an array is appending data. The `append` method lets you attach data onto the end of an array."
   ]
  },
  {
   "cell_type": "markdown",
   "id": "54f29553",
   "metadata": {},
   "source": [
    "Một khái niệm quan trọng khác đặc trưng cho mảng là việc thêm dữ liệu. Phương thức `append` cho phép bạn gắn dữ liệu vào cuối một mảng."
   ]
  },
  {
   "cell_type": "code",
   "execution_count": null,
   "metadata": {
    "id": "8nwxErVjYmpu"
   },
   "outputs": [],
   "source": [
    "my_list = [1, 2]\n",
    "print(my_list)\n",
    "\n",
    "# Append one element.\n",
    "my_list.append(3)\n",
    "print(my_list)\n",
    "\n",
    "# Use a for loop to append several elements.\n",
    "for i in range(4, 8):\n",
    "  my_list.append(i)\n",
    "\n",
    "print(my_list)"
   ]
  },
  {
   "cell_type": "markdown",
   "metadata": {
    "id": "iiezxdCa56Ot"
   },
   "source": [
    "### Tuples (Bộ)"
   ]
  },
  {
   "cell_type": "markdown",
   "metadata": {
    "id": "uumzC1BR-jiF"
   },
   "source": [
    "Python and some (but not all) other programming languages include another data structure called a tuple, which is similar to an array.\n",
    "\n",
    "> A tuple is an *immutable* list. That is, once initialized, the values and length of the tuple cannot be changed."
   ]
  },
  {
   "cell_type": "markdown",
   "id": "fe0f1615",
   "metadata": {},
   "source": [
    "Python và một số (nhưng không phải tất cả) ngôn ngữ lập trình khác bao gồm một cấu trúc dữ liệu gọi là tuple, tương tự như mảng.\n",
    "\n",
    "> Tuple là một danh sách *bất biến*. Nghĩa là, một khi đã được khởi tạo, các giá trị và độ dài của tuple không thể thay đổi."
   ]
  },
  {
   "cell_type": "markdown",
   "metadata": {
    "id": "dbJOlbyu6GHO"
   },
   "source": [
    "A tuple has all of the same key properties as an array.\n",
    "\n",
    "- A tuple has a length.\n",
    "- A tuple can be iterated over.\n",
    "- Elements in a tuple can be accessed using indexing and slicing.\n",
    "\n",
    "However, any process that changes the length or the value of any of the elements of the tuple is forbidden. This includes assigning values to elements, appending or inserting new elements, and removing elements. The only way to change the elements in a tuple is to completely rewrite the tuple."
   ]
  },
  {
   "cell_type": "markdown",
   "id": "ceefaebe",
   "metadata": {},
   "source": [
    "Tuple có tất cả các thuộc tính chính giống như mảng.\n",
    "\n",
    "- Tuple có độ dài.\n",
    "- Tuple có thể được lặp qua.\n",
    "- Các phần tử trong tuple có thể được truy cập bằng cách sử dụng chỉ mục và cắt lát (slicing).\n",
    "\n",
    "Tuy nhiên, bất kỳ quá trình nào thay đổi độ dài hoặc giá trị của bất kỳ phần tử nào trong tuple đều bị cấm. Điều này bao gồm gán giá trị cho các phần tử, thêm hoặc chèn các phần tử mới, và xóa các phần tử. Cách duy nhất để thay đổi các phần tử trong tuple là viết lại hoàn toàn tuple đó."
   ]
  },
  {
   "cell_type": "code",
   "execution_count": null,
   "metadata": {
    "id": "HQIdB_NpAw0K"
   },
   "outputs": [],
   "source": [
    "tup = (1, 2, 3)\n",
    "\n",
    "tup[0] = -1 # throws an error\n",
    "tup = (-1, 2, 3) # doesn't throw an error"
   ]
  },
  {
   "cell_type": "markdown",
   "metadata": {
    "id": "GNkuLDq3CdU0"
   },
   "source": [
    "## Question 1 (Câu hỏi 1)"
   ]
  },
  {
   "cell_type": "markdown",
   "metadata": {
    "id": "Bpv7yWM8Ce1I"
   },
   "source": [
    "Which one of the following options best defines an array?"
   ]
  },
  {
   "cell_type": "markdown",
   "id": "29b0d66f",
   "metadata": {},
   "source": [
    "Trong các tùy chọn sau đây, tùy chọn nào định nghĩa tốt nhất về mảng?"
   ]
  },
  {
   "cell_type": "markdown",
   "metadata": {
    "id": "68MXhDPkWk6m"
   },
   "source": [
    "**a)** An unordered collection of objects\n",
    "\n",
    "**b)** An ordered collection of objects\n",
    "\n",
    "**c)** An ordered collection of integers\n",
    "\n",
    "**d)** A collection of objects in which each object points to the next"
   ]
  },
  {
   "cell_type": "markdown",
   "id": "3b6361d1",
   "metadata": {},
   "source": [
    "**a)** Một tập hợp các đối tượng không có thứ tự\n",
    "\n",
    "**b)** Một tập hợp các đối tượng có thứ tự\n",
    "\n",
    "**c)** Một tập hợp các số nguyên có thứ tự\n",
    "\n",
    "**d)** Một tập hợp các đối tượng trong đó mỗi đối tượng trỏ đến đối tượng tiếp theo"
   ]
  },
  {
   "cell_type": "markdown",
   "metadata": {
    "id": "ONgKE8TjU77b"
   },
   "source": [
    "### Solution (Giải pháp)"
   ]
  },
  {
   "cell_type": "markdown",
   "metadata": {
    "id": "KWXCp59HVDFp"
   },
   "source": [
    "The correct answer is **b)**.\n",
    "\n",
    "**a)** An array has an ordering. This definition defines another data structure called a *set*.\n",
    "\n",
    "**c)** Almost, but arrays can contain *any* data type.\n",
    "\n",
    "**d)** This definition defines another data strucure called a *linked list*."
   ]
  },
  {
   "cell_type": "markdown",
   "id": "73e32e09",
   "metadata": {},
   "source": [
    "Câu trả lời đúng là **b)**.\n",
    "\n",
    "**a)** Một mảng có thứ tự. Định nghĩa này xác định một cấu trúc dữ liệu khác gọi là *tập hợp* (set).\n",
    "\n",
    "**c)** Gần đúng, nhưng mảng có thể chứa *bất kỳ* kiểu dữ liệu nào.\n",
    "\n",
    "**d)** Định nghĩa này xác định một cấu trúc dữ liệu khác gọi là *danh sách liên kết* (linked list)."
   ]
  },
  {
   "cell_type": "markdown",
   "metadata": {
    "id": "dZihyn7cokv-"
   },
   "source": [
    "## Question 2 (Câu hỏi 2)"
   ]
  },
  {
   "cell_type": "markdown",
   "metadata": {
    "id": "xItAVIc8oKYA"
   },
   "source": [
    "Which one of the following options is the printed output of this code?"
   ]
  },
  {
   "cell_type": "markdown",
   "id": "ad2252c8",
   "metadata": {},
   "source": [
    "Trong các tùy chọn sau đây, tùy chọn nào là kết quả in ra của đoạn mã này?"
   ]
  },
  {
   "cell_type": "markdown",
   "metadata": {
    "id": "2wiMqFE7kO7K"
   },
   "source": [
    "```python\n",
    "my_list = [\"This\", \"list\", \"is\", \"really\", \"cool!\"]\n",
    "\n",
    "for i in range(len(my_list)):\n",
    "  if i % 2 == 0:\n",
    "    print(my_list[i], end = \" \")\n",
    "```"
   ]
  },
  {
   "cell_type": "markdown",
   "metadata": {
    "id": "6KLRctezU60_"
   },
   "source": [
    "**a)** `\"This list is really cool!\"`\n",
    "\n",
    "**b)** `\"This list\"`\n",
    "\n",
    "**c)** `\"list really\"`\n",
    "\n",
    "**d)** `\"This is cool!\"`"
   ]
  },
  {
   "cell_type": "markdown",
   "metadata": {
    "id": "6PTJicnvXvGK"
   },
   "source": [
    "### Hint (Gợi ý)"
   ]
  },
  {
   "cell_type": "markdown",
   "metadata": {
    "id": "EWRKHnicXwyT"
   },
   "source": [
    "The modulo operator `%` returns the remainder of an integer division. For example, for any integer `a`, `a % 2` returns either 0 (if `a` is even) or 1 if `a` is odd)."
   ]
  },
  {
   "cell_type": "markdown",
   "id": "1d638ed3",
   "metadata": {},
   "source": [
    "Toán tử chia lấy dư `%` trả về phần dư của phép chia số nguyên. Ví dụ, với bất kỳ số nguyên `a` nào, `a % 2` trả về 0 (nếu `a` là số chẵn) hoặc 1 (nếu `a` là số lẻ)."
   ]
  },
  {
   "cell_type": "markdown",
   "metadata": {
    "id": "9bZnYyRXWw_G"
   },
   "source": [
    "### Solution (Giải pháp)"
   ]
  },
  {
   "cell_type": "markdown",
   "metadata": {
    "id": "eDOIVW3MWyA2"
   },
   "source": [
    "The correct answer is **d)**.\n",
    "\n",
    "**a)** Not all words in the array are printed. The `if` statement regulates which words are printed.\n",
    "\n",
    "**b)** Remember that `i % 2 == 0` if `i` is even.\n",
    "\n",
    "**c)** This is what would be printed if the `if` statement read `if i % 2 == 1`."
   ]
  },
  {
   "cell_type": "markdown",
   "id": "9ad899da",
   "metadata": {},
   "source": [
    "Câu trả lời đúng là **d)**.\n",
    "\n",
    "**a)** Không phải tất cả các từ trong mảng đều được in ra. Câu lệnh `if` quy định từ nào được in.\n",
    "\n",
    "**b)** Hãy nhớ rằng `i % 2 == 0` nếu `i` là số chẵn.\n",
    "\n",
    "**c)** Đây là những gì sẽ được in ra nếu câu lệnh `if` là `if i % 2 == 1`."
   ]
  },
  {
   "cell_type": "markdown",
   "metadata": {
    "id": "_3vX9bmjAQFc"
   },
   "source": [
    "## Question 3 (Câu hỏi 3)"
   ]
  },
  {
   "cell_type": "markdown",
   "metadata": {
    "id": "ZI44eZbtAR7Y"
   },
   "source": [
    "Which of the following tuple operations **produces an error** when applied to the tuple `tup = (1, 2, 4, 9, 16)`? There may be more than one correct response."
   ]
  },
  {
   "cell_type": "markdown",
   "id": "01d34703",
   "metadata": {},
   "source": [
    "Thao tác tuple nào trong các thao tác sau đây **tạo ra lỗi** khi áp dụng cho tuple `tup = (1, 2, 4, 9, 16)`? Có thể có nhiều hơn một câu trả lời đúng."
   ]
  },
  {
   "cell_type": "markdown",
   "metadata": {
    "id": "pzhVT7sfX5SB"
   },
   "source": [
    "**a)** `tup[3] = 8`\n",
    "\n",
    "**b)** `tup[3] == 8`\n",
    "\n",
    "**c)** `tup = (1, 2, 4, 8, 16)`\n",
    "\n",
    "**d)** `l = len(tup)`\n",
    "\n",
    "**e)** `tup[1:3]`\n",
    "\n",
    "**f)** `tup.append(32)`"
   ]
  },
  {
   "cell_type": "markdown",
   "id": "91822e54",
   "metadata": {},
   "source": [
    "**a)** `tup[3] = 8`\n",
    "\n",
    "**b)** `tup[3] == 8`\n",
    "\n",
    "**c)** `tup = (1, 2, 4, 8, 16)`\n",
    "\n",
    "**d)** `l = len(tup)`\n",
    "\n",
    "**e)** `tup[1:3]`\n",
    "\n",
    "**f)** `tup.append(32)`"
   ]
  },
  {
   "cell_type": "markdown",
   "metadata": {
    "id": "VHBWTVpuY_XX"
   },
   "source": [
    "### Hint (Gợi ý)"
   ]
  },
  {
   "cell_type": "markdown",
   "metadata": {
    "id": "uydB1jl_ZAPm"
   },
   "source": [
    "Operations that *alter* an existing tuple throw an error."
   ]
  },
  {
   "cell_type": "markdown",
   "id": "249c2ba5",
   "metadata": {},
   "source": [
    "Các thao tác *thay đổi* một tuple hiện có sẽ gây ra lỗi."
   ]
  },
  {
   "cell_type": "markdown",
   "metadata": {
    "id": "eEzKasKhX6k-"
   },
   "source": [
    "### Solution (Giải pháp)"
   ]
  },
  {
   "cell_type": "markdown",
   "metadata": {
    "id": "G6boAT0PX7uQ"
   },
   "source": [
    "The correct answers are **a)** and **f)**.\n",
    "\n",
    "**b)** Accessing an element in a tuple and comparing it to a constant is allowed.\n",
    "\n",
    "**c)** Reassigning a new tuple to a variable is allowed.\n",
    "\n",
    "**d)** Calculating the length of a tuple is fine!\n",
    "\n",
    "**e)** Accessing slices of a tuple is fine!"
   ]
  },
  {
   "cell_type": "markdown",
   "id": "1f017bbc",
   "metadata": {},
   "source": [
    "Các câu trả lời đúng là **a)** và **f)**.\n",
    "\n",
    "**b)** Truy cập một phần tử trong tuple và so sánh nó với một hằng số là được phép.\n",
    "\n",
    "**c)** Gán lại một tuple mới cho một biến là được phép.\n",
    "\n",
    "**d)** Tính toán độ dài của một tuple hoàn toàn bình thường!\n",
    "\n",
    "**e)** Truy cập các lát cắt (slices) của một tuple hoàn toàn bình thường!"
   ]
  },
  {
   "cell_type": "markdown",
   "metadata": {
    "id": "ayZnJ9srrGcK"
   },
   "source": [
    "# Sets (Tập hợp)"
   ]
  },
  {
   "cell_type": "markdown",
   "metadata": {
    "id": "QTMUU9mur9q3"
   },
   "source": [
    "## Lesson Overview"
   ]
  },
  {
   "cell_type": "markdown",
   "metadata": {
    "id": "6HIFT8Vk1tWs"
   },
   "source": [
    "The set is a data structure that is common in both computer science and mathematics."
   ]
  },
  {
   "cell_type": "markdown",
   "id": "2c19da52",
   "metadata": {},
   "source": [
    "Tập hợp là một cấu trúc dữ liệu phổ biến trong cả khoa học máy tính và toán học."
   ]
  },
  {
   "cell_type": "markdown",
   "metadata": {
    "id": "r4jCRUz2T7Zb"
   },
   "source": [
    "If you have encountered a [set in mathematics](https://en.wikipedia.org/wiki/Finite_set), a [set in computer science](https://en.wikipedia.org/wiki/Set_(abstract_data_type)) is the same concept."
   ]
  },
  {
   "cell_type": "markdown",
   "id": "de248041",
   "metadata": {},
   "source": [
    "Nếu bạn đã từng gặp khái niệm [tập hợp trong toán học](https://vi.wikipedia.org/wiki/T%E1%BA%ADp_h%E1%BB%A3p_h%E1%BB%AFu_h%E1%BA%A1n), thì [tập hợp trong khoa học máy tính](https://en.wikipedia.org/wiki/Set_(abstract_data_type)) cũng là cùng một khái niệm."
   ]
  },
  {
   "cell_type": "markdown",
   "metadata": {
    "id": "9QMp5oiEUhbO"
   },
   "source": [
    "### Definition (Định nghĩa)"
   ]
  },
  {
   "cell_type": "markdown",
   "metadata": {
    "id": "yR6Sh_K2S-m7"
   },
   "source": [
    "> A **set** is an unordered collection of unique objects.\n",
    "\n",
    "Sets collect unique objects. A set has no native order and cannot contain duplicate objects."
   ]
  },
  {
   "cell_type": "markdown",
   "id": "c48635d3",
   "metadata": {},
   "source": [
    "> **Tập hợp** là một tập hợp không có thứ tự của các đối tượng duy nhất.\n",
    "\n",
    "Tập hợp chỉ chứa các đối tượng duy nhất. Một tập hợp không có thứ tự tự nhiên và không thể chứa các đối tượng trùng lặp."
   ]
  },
  {
   "cell_type": "markdown",
   "metadata": {
    "id": "rcB5xWOaUk93"
   },
   "source": [
    "For example, you could use a set to keep track of the players in a basketball team. A set is a good choice since there is no obvious ordering for the players, and a team cannot contain the same player more than once."
   ]
  },
  {
   "cell_type": "markdown",
   "id": "7b330d1b",
   "metadata": {},
   "source": [
    "Ví dụ, bạn có thể sử dụng tập hợp để theo dõi các cầu thủ trong một đội bóng rổ. Tập hợp là một lựa chọn tốt vì không có thứ tự rõ ràng cho các cầu thủ, và một đội không thể có cùng một cầu thủ nhiều hơn một lần."
   ]
  },
  {
   "cell_type": "markdown",
   "metadata": {
    "id": "xXOqLJbqUnY1"
   },
   "source": [
    "### Initialization (Khởi tạo)"
   ]
  },
  {
   "cell_type": "markdown",
   "metadata": {
    "id": "JeNp1pXsNHEn"
   },
   "source": [
    "Sets are generally initialized in one of two ways."
   ]
  },
  {
   "cell_type": "markdown",
   "id": "a4787a06",
   "metadata": {},
   "source": [
    "Tập hợp thường được khởi tạo theo một trong hai cách."
   ]
  },
  {
   "cell_type": "code",
   "execution_count": null,
   "metadata": {
    "id": "tINocQ2M8d6N"
   },
   "outputs": [],
   "source": [
    "# Option 1: Using curly brackets.\n",
    "my_set = {0, 2, 4, 6, 8}\n",
    "print(my_set)\n",
    "\n",
    "# Option 2: Using the `set` keyword with an array input.\n",
    "your_set = set([0, 2, 4, 6, 8])\n",
    "print(your_set)"
   ]
  },
  {
   "cell_type": "markdown",
   "metadata": {
    "id": "4m71aqoAQHH4"
   },
   "source": [
    "Be careful though: the *only* correct way to initialize an empty set is with the set operator. Assigning a variable to `{}` initializes an empty *map*, which is a different data structure that we will cover in a later lesson."
   ]
  },
  {
   "cell_type": "markdown",
   "id": "71138f3b",
   "metadata": {},
   "source": [
    "Tuy nhiên, hãy cẩn thận: cách duy nhất đúng để khởi tạo một tập hợp rỗng là sử dụng toán tử `set`. Gán một biến bằng `{}` sẽ khởi tạo một *map* (bản đồ) rỗng, đây là một cấu trúc dữ liệu khác mà chúng mình sẽ học ở bài sau."
   ]
  },
  {
   "cell_type": "code",
   "execution_count": null,
   "metadata": {
    "id": "yfYofZ6EQTfY"
   },
   "outputs": [],
   "source": [
    "empty_set = set()"
   ]
  },
  {
   "cell_type": "markdown",
   "metadata": {
    "id": "14t0PvcsTI4n"
   },
   "source": [
    "Sets typically contain only one type. Different languages vary on their different implementations of a set, and some allow different types within the same set. For this lesson, we will assume that a set can only contain one type."
   ]
  },
  {
   "cell_type": "markdown",
   "id": "39d88cab",
   "metadata": {},
   "source": [
    "Tập hợp thường chỉ chứa một kiểu dữ liệu. Các ngôn ngữ khác nhau có cách triển khai tập hợp khác nhau, và một số cho phép các kiểu dữ liệu khác nhau trong cùng một tập hợp. Trong bài học này, chúng mình sẽ giả định rằng một tập hợp chỉ chứa một kiểu dữ liệu."
   ]
  },
  {
   "cell_type": "markdown",
   "metadata": {
    "id": "lpxhDLqNUxiR"
   },
   "source": [
    "### Properties (Thuộc tính)"
   ]
  },
  {
   "cell_type": "markdown",
   "metadata": {
    "id": "4S-uEbX9U4bR"
   },
   "source": [
    "Let's look at some properties of sets."
   ]
  },
  {
   "cell_type": "markdown",
   "id": "7366be96",
   "metadata": {},
   "source": [
    "Hãy cùng xem một số thuộc tính của tập hợp."
   ]
  },
  {
   "cell_type": "markdown",
   "metadata": {
    "id": "clc8hF6U8hDF"
   },
   "source": [
    "You can iterate through a set using `for`."
   ]
  },
  {
   "cell_type": "markdown",
   "id": "42079e9b",
   "metadata": {},
   "source": [
    "Bạn có thể lặp qua một tập hợp bằng cách sử dụng vòng lặp `for`."
   ]
  },
  {
   "cell_type": "code",
   "execution_count": null,
   "metadata": {
    "id": "-pcrOwhwAoqi"
   },
   "outputs": [],
   "source": [
    "my_set = {0, 2, 4, 6, 8}\n",
    "for i in my_set:\n",
    "  print(i)"
   ]
  },
  {
   "cell_type": "markdown",
   "metadata": {
    "id": "ETfkHOeHzSPm"
   },
   "source": [
    "---"
   ]
  },
  {
   "cell_type": "markdown",
   "metadata": {
    "id": "8L2bgJeNBPIW"
   },
   "source": [
    "If you try to create a set from an array that has duplicate elements, the duplicate elements will be removed."
   ]
  },
  {
   "cell_type": "markdown",
   "id": "4b10e358",
   "metadata": {},
   "source": [
    "Nếu bạn cố gắng tạo một tập hợp từ một mảng có các phần tử trùng lặp, các phần tử trùng lặp sẽ bị loại bỏ."
   ]
  },
  {
   "cell_type": "code",
   "execution_count": null,
   "metadata": {
    "id": "-Ryr868vBV2M"
   },
   "outputs": [],
   "source": [
    "print({0, 0, 1, 1, 2, 2})\n",
    "print(set([3, 4, 3, 4, 3, 4]))"
   ]
  },
  {
   "cell_type": "markdown",
   "metadata": {
    "id": "IeQTzJbQzU3T"
   },
   "source": [
    "---"
   ]
  },
  {
   "cell_type": "markdown",
   "metadata": {
    "id": "zETybPkSO6li"
   },
   "source": [
    "Sets do not have an ordering."
   ]
  },
  {
   "cell_type": "markdown",
   "id": "7535aef4",
   "metadata": {},
   "source": [
    "Tập hợp không có thứ tự."
   ]
  },
  {
   "cell_type": "code",
   "execution_count": null,
   "metadata": {
    "id": "J7n8KGUdO_Cx"
   },
   "outputs": [],
   "source": [
    "ordered_set = {0, 1, 2, 3, 4}\n",
    "jumbled_set = {1, 4, 3, 0, 2}\n",
    "\n",
    "print(ordered_set == jumbled_set)"
   ]
  },
  {
   "cell_type": "markdown",
   "metadata": {
    "id": "jCp6AwXWzcB4"
   },
   "source": [
    "---"
   ]
  },
  {
   "cell_type": "markdown",
   "metadata": {
    "id": "e0rUkLjBR9ra"
   },
   "source": [
    "A consequence of sets not having an ordering is that elements cannot be accessed using indexing."
   ]
  },
  {
   "cell_type": "markdown",
   "id": "acbf0eac",
   "metadata": {},
   "source": [
    "Một hệ quả của việc tập hợp không có thứ tự là các phần tử không thể được truy cập bằng chỉ số."
   ]
  },
  {
   "cell_type": "code",
   "execution_count": null,
   "metadata": {
    "id": "2AUeQczmSCbb"
   },
   "outputs": [],
   "source": [
    "my_set = {0, 2, 4, 6, 8}\n",
    "print(my_set[0]) # throws an error"
   ]
  },
  {
   "cell_type": "markdown",
   "metadata": {
    "id": "7YoSL25fU9d-"
   },
   "source": [
    "### Methods (Các phương thức)"
   ]
  },
  {
   "cell_type": "markdown",
   "metadata": {
    "id": "s6EgQRqeVAY7"
   },
   "source": [
    "Let's look at some of the common set methods."
   ]
  },
  {
   "cell_type": "markdown",
   "id": "5bdd8aae",
   "metadata": {},
   "source": [
    "Hãy cùng xem một số phương thức phổ biến của tập hợp."
   ]
  },
  {
   "cell_type": "markdown",
   "metadata": {
    "id": "8LH3zcqTLJ3X"
   },
   "source": [
    "Sets come with an `add` method, which adds a new element to a set *if it does not already exist in the set*."
   ]
  },
  {
   "cell_type": "markdown",
   "id": "0918ff83",
   "metadata": {},
   "source": [
    "Tập hợp có phương thức `add`, dùng để thêm một phần tử mới vào tập hợp *nếu phần tử đó chưa tồn tại trong tập hợp*."
   ]
  },
  {
   "cell_type": "code",
   "execution_count": null,
   "metadata": {
    "id": "mvm-_7NOA6PJ"
   },
   "outputs": [],
   "source": [
    "my_set = {0, 2, 4, 6, 8}\n",
    "\n",
    "# Add a new element to the set.\n",
    "my_set.add(10)\n",
    "print(my_set)\n",
    "\n",
    "# Try to re-add an existing element to the set.\n",
    "my_set.add(10)\n",
    "print(my_set)"
   ]
  },
  {
   "cell_type": "markdown",
   "metadata": {
    "id": "11LkkvZbziBo"
   },
   "source": [
    "---"
   ]
  },
  {
   "cell_type": "markdown",
   "metadata": {
    "id": "JEL0MGUT3ozq"
   },
   "source": [
    "Similarly, sets come with a `remove` method, which removes an element if it exists in the set."
   ]
  },
  {
   "cell_type": "markdown",
   "id": "22f05a9b",
   "metadata": {},
   "source": [
    "Tương tự, tập hợp có phương thức `remove`, dùng để loại bỏ một phần tử nếu nó tồn tại trong tập hợp."
   ]
  },
  {
   "cell_type": "code",
   "execution_count": null,
   "metadata": {
    "id": "pdpgWlBNCAMK"
   },
   "outputs": [],
   "source": [
    "my_set = {0, 2, 4, 6, 8}\n",
    "\n",
    "my_set.remove(8)\n",
    "print(my_set)"
   ]
  },
  {
   "cell_type": "markdown",
   "metadata": {
    "id": "c61n2tgQzmWA"
   },
   "source": [
    "---"
   ]
  },
  {
   "cell_type": "markdown",
   "metadata": {
    "id": "GUdAUFh0CP9J"
   },
   "source": [
    "If you try to remove an element that does not exist, Python will raise an error."
   ]
  },
  {
   "cell_type": "markdown",
   "id": "206bc061",
   "metadata": {},
   "source": [
    "Nếu bạn cố gắng loại bỏ một phần tử không tồn tại, Python sẽ báo lỗi."
   ]
  },
  {
   "cell_type": "code",
   "execution_count": null,
   "metadata": {
    "id": "GbqAx-tECTx6"
   },
   "outputs": [],
   "source": [
    "my_set = {0, 2, 4, 6, 8}\n",
    "\n",
    "my_set.remove(10)\n",
    "print(my_set)"
   ]
  },
  {
   "cell_type": "markdown",
   "metadata": {
    "id": "rScdczwVznbz"
   },
   "source": [
    "---"
   ]
  },
  {
   "cell_type": "markdown",
   "metadata": {
    "id": "1oGGWrG3KLFm"
   },
   "source": [
    "An extension of the `add` method is `update`, which allows you to add multiple items to a set."
   ]
  },
  {
   "cell_type": "markdown",
   "id": "ec2a04b5",
   "metadata": {},
   "source": [
    "Một phương thức mở rộng của `add` là `update`, cho phép bạn thêm nhiều phần tử vào tập hợp cùng lúc."
   ]
  },
  {
   "cell_type": "code",
   "execution_count": null,
   "metadata": {
    "id": "qnJ7gtHsLG9w"
   },
   "outputs": [],
   "source": [
    "my_set = {0, 2, 4, 6, 8}\n",
    "\n",
    "my_set.update({10, 12})\n",
    "print(my_set)"
   ]
  },
  {
   "cell_type": "markdown",
   "metadata": {
    "id": "hj7pVKUJzp8H"
   },
   "source": [
    "---"
   ]
  },
  {
   "cell_type": "markdown",
   "metadata": {
    "id": "dVJzwO0VOYYg"
   },
   "source": [
    "If you try to `add` to or `update` a set with elements that are already contained, only the new elements will be added."
   ]
  },
  {
   "cell_type": "markdown",
   "id": "46135a10",
   "metadata": {},
   "source": [
    "Nếu bạn cố gắng sử dụng `add` hoặc `update` để thêm các phần tử đã tồn tại trong tập hợp, chỉ các phần tử mới sẽ được thêm vào."
   ]
  },
  {
   "cell_type": "code",
   "execution_count": null,
   "metadata": {
    "id": "t_cCSuu7K1WR"
   },
   "outputs": [],
   "source": [
    "my_set = {0, 2, 4, 6, 8}\n",
    "\n",
    "my_set.update([6, 8, 10, 12])\n",
    "print(my_set)"
   ]
  },
  {
   "cell_type": "markdown",
   "metadata": {
    "id": "6GIFR8aPVFZf"
   },
   "source": [
    "### Note about exercises (Lưu ý về các bài tập)"
   ]
  },
  {
   "cell_type": "markdown",
   "metadata": {
    "id": "HAMYyCv0GQBh"
   },
   "source": [
    "> NOTE: The exercises in this lesson can be solved more efficiently using built-in Python functions. However, we encourage you to attempt the exercise using a low-level solution, that is, with iteration only and no built-in Python methods. Once you have solved the problems with the low-level solution, you can also implement the high-level solution. The high-level solutions will be described in the Solution sections."
   ]
  },
  {
   "cell_type": "markdown",
   "id": "cc398601",
   "metadata": {},
   "source": [
    "> LƯU Ý: Các bài tập trong bài học này có thể được giải quyết hiệu quả hơn bằng các hàm dựng sẵn của Python. Tuy nhiên, chúng mình khuyến khích bạn thử giải bài tập bằng cách tiếp cận mức thấp, tức là chỉ sử dụng vòng lặp và không dùng các phương thức dựng sẵn của Python. Sau khi đã giải quyết được bài toán bằng cách tiếp cận mức thấp, bạn cũng có thể thử nghiệm giải pháp mức cao. Các giải pháp mức cao sẽ được trình bày trong phần Giải pháp."
   ]
  },
  {
   "cell_type": "markdown",
   "metadata": {
    "id": "ay1r9yhXVKFr"
   },
   "source": [
    "The reasoning behind this is that many lower-level languages (e.g., C, C++, Java) do not have some of the built-in functionality that Python provides. It is useful to know the lower-level implementation of basic code constructions."
   ]
  },
  {
   "cell_type": "markdown",
   "id": "99941d24",
   "metadata": {},
   "source": [
    "Lý do cho điều này là nhiều ngôn ngữ lập trình mức thấp hơn (ví dụ: C, C++, Java) không có sẵn một số chức năng dựng sẵn như Python. Việc hiểu cách triển khai các cấu trúc mã cơ bản ở mức thấp là rất hữu ích."
   ]
  },
  {
   "cell_type": "markdown",
   "metadata": {
    "id": "RambUaGULHkQ"
   },
   "source": [
    "## Question 1 (Câu hỏi 1)"
   ]
  },
  {
   "cell_type": "markdown",
   "metadata": {
    "id": "vh_sUZX1LJrc"
   },
   "source": [
    "Which *one* of the following best defines a set?"
   ]
  },
  {
   "cell_type": "markdown",
   "id": "a61a3678",
   "metadata": {},
   "source": [
    "Tùy chọn nào sau đây định nghĩa tốt nhất về tập hợp?"
   ]
  },
  {
   "cell_type": "markdown",
   "metadata": {
    "id": "a9nC7rNbKonk"
   },
   "source": [
    "**a)** An ordered collection of unique objects\n",
    "\n",
    "**b)** An ordered collection of objects\n",
    "\n",
    "**c)** An unordered collection of unique objects\n",
    "\n",
    "**d)** An unordereed collection of objects"
   ]
  },
  {
   "cell_type": "markdown",
   "id": "b357a1a3",
   "metadata": {},
   "source": [
    "**a)** Một tập hợp có thứ tự của các đối tượng duy nhất\n",
    "\n",
    "**b)** Một tập hợp có thứ tự của các đối tượng\n",
    "\n",
    "**c)** Một tập hợp không có thứ tự của các đối tượng duy nhất\n",
    "\n",
    "**d)** Một tập hợp không có thứ tự của các đối tượng"
   ]
  },
  {
   "cell_type": "markdown",
   "metadata": {
    "id": "XmbOeqf3KneX"
   },
   "source": [
    "### Solution (Giải pháp)"
   ]
  },
  {
   "cell_type": "markdown",
   "metadata": {
    "id": "1bB_SyAcKrUj"
   },
   "source": [
    "The correct answer is **c)**.\n",
    "\n",
    "**a)** A set has no ordering.\n",
    "\n",
    "**b)** A set has no ordering; this is the definition of an array.\n",
    "\n",
    "**d)** This is almost correct, but this definition could include duplicate objects."
   ]
  },
  {
   "cell_type": "markdown",
   "id": "e417f1c8",
   "metadata": {},
   "source": [
    "Câu trả lời đúng là **c)**.\n",
    "\n",
    "**a)** Tập hợp không có thứ tự.\n",
    "\n",
    "**b)** Tập hợp không có thứ tự; đây là định nghĩa của mảng.\n",
    "\n",
    "**d)** Gần đúng, nhưng định nghĩa này có thể bao gồm các đối tượng trùng lặp."
   ]
  },
  {
   "cell_type": "markdown",
   "metadata": {
    "id": "vFND0Oc-Mbsz"
   },
   "source": [
    "## Question 2 (Câu hỏi 2)"
   ]
  },
  {
   "cell_type": "markdown",
   "metadata": {
    "id": "vHMnKS2hOn6w"
   },
   "source": [
    "Which of the following are correct ways to create a variable `s` equal to the set containing the elements 0, 1, and 2? There may be more than one correct response."
   ]
  },
  {
   "cell_type": "markdown",
   "id": "0142f55a",
   "metadata": {},
   "source": [
    "Cách nào sau đây là đúng để tạo biến `s` bằng tập hợp chứa các phần tử 0, 1 và 2? Có thể có nhiều hơn một đáp án đúng."
   ]
  },
  {
   "cell_type": "markdown",
   "metadata": {
    "id": "6BXq2t9DLOaa"
   },
   "source": [
    "**a)** `s = {0, 1, 2}`\n",
    "\n",
    "**b)** `s = [0, 1, 2]`\n",
    "\n",
    "**c)** `s = {2, 0, 1}`\n",
    "\n",
    "**d)** `s = set([0, 1, 2)])`\n",
    "\n",
    "**e)** `s = (0, 1, 2)`\n",
    "\n",
    "**f)** `s = set([0, 2, 1, 2, 1, 0, 0, 2])`"
   ]
  },
  {
   "cell_type": "markdown",
   "metadata": {
    "id": "WqJie94YLP_3"
   },
   "source": [
    "### Solution (Giải pháp)"
   ]
  },
  {
   "cell_type": "markdown",
   "metadata": {
    "id": "IlcOKQklLQy5"
   },
   "source": [
    "The correct answers are **a)**, **c)**, **d)**, and **f)**.\n",
    "\n",
    "**b)** This notation creates an array, not a set.\n",
    "\n",
    "**e)** This notation creates a tuple, not a set."
   ]
  },
  {
   "cell_type": "markdown",
   "id": "1dfd25fb",
   "metadata": {},
   "source": [
    "Các đáp án đúng là **a)**, **c)**, **d)** và **f)**.\n",
    "\n",
    "**b)** Cú pháp này tạo ra một mảng, không phải tập hợp.\n",
    "\n",
    "**e)** Cú pháp này tạo ra một tuple, không phải tập hợp."
   ]
  },
  {
   "cell_type": "markdown",
   "metadata": {
    "id": "WW2I01x7RbLE"
   },
   "source": [
    "## Question 3 (Câu hỏi 3)"
   ]
  },
  {
   "cell_type": "markdown",
   "metadata": {
    "id": "yAJwt2SFRdcf"
   },
   "source": [
    "Which of the following statements about the differences between an array and a set are true? There may be more than one correct response."
   ]
  },
  {
   "cell_type": "markdown",
   "id": "802df594",
   "metadata": {},
   "source": [
    "Những phát biểu nào sau đây về sự khác biệt giữa mảng và tập hợp là đúng? Có thể có nhiều hơn một đáp án đúng."
   ]
  },
  {
   "cell_type": "markdown",
   "metadata": {
    "id": "K08uXMgoL899"
   },
   "source": [
    "**a)** An array has an ordering while a set does not.\n",
    "\n",
    "**b)** Both arrays and sets have indexing by which elements and slices can be accessed.\n",
    "\n",
    "**c)** Both arrays and sets can be iterated over using a `for` or a `while` loop.\n",
    "\n",
    "**d)** Since sets do not have an ordering, it is impossible to calculate the length of a set.\n",
    "\n",
    "**e)** The equivalent of `append` for an array is `add` for a set."
   ]
  },
  {
   "cell_type": "markdown",
   "id": "8cd4e998",
   "metadata": {},
   "source": [
    "**a)** Mảng có thứ tự còn tập hợp thì không.\n",
    "\n",
    "**b)** Cả mảng và tập hợp đều có thể truy cập phần tử và lát cắt (slice) bằng chỉ số.\n",
    "\n",
    "**c)** Cả mảng và tập hợp đều có thể được lặp qua bằng vòng lặp `for` hoặc `while`.\n",
    "\n",
    "**d)** Vì tập hợp không có thứ tự nên không thể tính được độ dài của tập hợp.\n",
    "\n",
    "**e)** Tương đương với `append` của mảng là `add` của tập hợp."
   ]
  },
  {
   "cell_type": "markdown",
   "metadata": {
    "id": "zTRMoLw-L9w7"
   },
   "source": [
    "### Solution (Giải pháp)"
   ]
  },
  {
   "cell_type": "markdown",
   "metadata": {
    "id": "QI5aPM2oL-gc"
   },
   "source": [
    "The correct answers are **a)**, **c)**, and **e)**.\n",
    "\n",
    "**b)** Since sets do not have an ordering, elements in a set cannot be accessed by indexing.\n",
    "\n",
    "**d)** The length of a set is the number of elements in it."
   ]
  },
  {
   "cell_type": "markdown",
   "id": "a2a9cf14",
   "metadata": {},
   "source": [
    "Các đáp án đúng là **a)**, **c)** và **e)**.\n",
    "\n",
    "**b)** Vì tập hợp không có thứ tự nên không thể truy cập phần tử bằng chỉ số.\n",
    "\n",
    "**d)** Độ dài của tập hợp là số lượng phần tử trong nó."
   ]
  },
  {
   "cell_type": "markdown",
   "metadata": {
    "id": "o2LRJT9o9SKR"
   },
   "source": [
    "# Classes (Lớp)"
   ]
  },
  {
   "cell_type": "markdown",
   "metadata": {
    "id": "dMlT9vRO9SKT"
   },
   "source": [
    "## Lesson Overview"
   ]
  },
  {
   "cell_type": "markdown",
   "metadata": {
    "id": "FjZNMoAeyvGW"
   },
   "source": [
    "You may often want to store data in some ordered fashion in a programming language, but you might find that existing data structures don't exactly serve your needs. For instance, consider trying to store information about a student at a school."
   ]
  },
  {
   "cell_type": "markdown",
   "id": "e86a12aa",
   "metadata": {},
   "source": [
    "Bạn có thể thường muốn lưu trữ dữ liệu theo một cách có thứ tự trong một ngôn ngữ lập trình, nhưng có thể nhận ra rằng các cấu trúc dữ liệu có sẵn không hoàn toàn đáp ứng nhu cầu của mình. Ví dụ, hãy thử lưu thông tin về một học sinh trong trường."
   ]
  },
  {
   "cell_type": "code",
   "execution_count": null,
   "metadata": {
    "id": "GP99hErB9SKU"
   },
   "outputs": [],
   "source": [
    "student_id = 71919\n",
    "student_name = \"Daphne Jones\"\n",
    "# Days since the start of the year that the student has missed.\n",
    "student_absences = [False, False, False, False, False, True, False]"
   ]
  },
  {
   "cell_type": "markdown",
   "metadata": {
    "id": "kCy1HtXW9SKU"
   },
   "source": [
    "If you want to pass all that into a function `print_student_record()` that prints all of a student's details, that's a lot of data to move around:"
   ]
  },
  {
   "cell_type": "markdown",
   "id": "97557181",
   "metadata": {},
   "source": [
    "Nếu bạn muốn truyền tất cả dữ liệu đó vào một hàm `print_student_record()` để in ra toàn bộ thông tin của học sinh, thì sẽ phải truyền rất nhiều dữ liệu cùng lúc:"
   ]
  },
  {
   "cell_type": "code",
   "execution_count": null,
   "metadata": {
    "id": "RDu5H8ZN9SKV"
   },
   "outputs": [],
   "source": [
    "def print_student_record(student_id, student_name, student_absences):\n",
    "  print(student_id)\n",
    "  print(student_name)\n",
    "  num_absences = 0\n",
    "  for potential_absence in student_absences:\n",
    "    if potential_absence:\n",
    "      num_absences += 1\n",
    "  absence_string = \"%d day\" % num_absences\n",
    "\n",
    "  # This block makes \"day\" plural if the number of days missed is not 1 so\n",
    "  # that the sentence is grammatically correct.\n",
    "  if num_absences != 1:\n",
    "    absence_string += \"s\"\n",
    "\n",
    "  print(\"The student missed %s of class.\" % absence_string)\n",
    "\n",
    "print_student_record(student_id, student_name, student_absences)"
   ]
  },
  {
   "cell_type": "markdown",
   "metadata": {
    "id": "1aRMCCbr9SKV"
   },
   "source": [
    "It also becomes a challenge to add new data or change existing data. If we want to separate `student_name` into `student_first_name` and `student_last_name`, we would then need to modify every line that calls `print_student_record()`, *and* we would need to modify the function definition.\n",
    "\n",
    "Instead, we can define a **struct** or **class** to hold that data."
   ]
  },
  {
   "cell_type": "markdown",
   "id": "941065c8",
   "metadata": {},
   "source": [
    "Việc thêm dữ liệu mới hoặc thay đổi dữ liệu hiện có cũng trở nên khó khăn. Nếu muốn tách `student_name` thành `student_first_name` và `student_last_name`, bạn sẽ phải sửa mọi dòng gọi `print_student_record()`, *và* phải sửa cả định nghĩa hàm.\n",
    "\n",
    "Thay vào đó, chúng mình có thể định nghĩa một **struct** hoặc **class** để lưu trữ dữ liệu đó."
   ]
  },
  {
   "cell_type": "markdown",
   "metadata": {
    "id": "RgTbB-o6MlZl"
   },
   "source": [
    "### Definition (Định nghĩa)"
   ]
  },
  {
   "cell_type": "markdown",
   "metadata": {
    "id": "yTwOEow2yFbp"
   },
   "source": [
    "> A **struct** or **class** is a data structure that implements specified attributes and behaviors."
   ]
  },
  {
   "cell_type": "markdown",
   "id": "e2bbfc60",
   "metadata": {},
   "source": [
    "> **Struct** hoặc **class** là một cấu trúc dữ liệu triển khai các thuộc tính và hành vi được xác định trước."
   ]
  },
  {
   "cell_type": "markdown",
   "metadata": {
    "id": "EvBVhEIPMwPp"
   },
   "source": [
    "In Python, a **class** can be used the same way a **struct** is used in other languages, but the syntax is different."
   ]
  },
  {
   "cell_type": "markdown",
   "id": "e24b03c4",
   "metadata": {},
   "source": [
    "Trong Python, **class** có thể được sử dụng tương tự như **struct** trong các ngôn ngữ khác, nhưng cú pháp sẽ khác nhau."
   ]
  },
  {
   "cell_type": "markdown",
   "metadata": {
    "id": "7wfmO9uBMxib"
   },
   "source": [
    "### Initialization (Khởi tạo)"
   ]
  },
  {
   "cell_type": "markdown",
   "metadata": {
    "id": "vfiwEA1L0Jji"
   },
   "source": [
    "Let's look at building a `Student` class to hold the required data. The following class contains three variables: `id`, `name`, and `absence_list`."
   ]
  },
  {
   "cell_type": "markdown",
   "id": "c6f6ea04",
   "metadata": {},
   "source": [
    "Hãy cùng xây dựng một lớp `Student` để lưu trữ các dữ liệu cần thiết. Lớp sau đây chứa ba biến: `id`, `name` và `absence_list`."
   ]
  },
  {
   "cell_type": "code",
   "execution_count": null,
   "metadata": {
    "id": "AgBuDScX9SKY"
   },
   "outputs": [],
   "source": [
    "class Student:\n",
    "\n",
    "  def __init__(self):\n",
    "    self.id = None\n",
    "    self.name = None\n",
    "    self.absence_list = None"
   ]
  },
  {
   "cell_type": "markdown",
   "metadata": {
    "id": "VKcqqVs89SKZ"
   },
   "source": [
    "Classes allow us to store variables that are accessible only within the class. These are defined using the `__init__` method. This is the Python equivalent to a [constructor](https://en.wikipedia.org/wiki/Constructor_(object-oriented_programming)#Python) that you may have seen in other languages."
   ]
  },
  {
   "cell_type": "markdown",
   "id": "ab51bff0",
   "metadata": {},
   "source": [
    "Lớp cho phép chúng mình lưu trữ các biến chỉ có thể truy cập bên trong lớp. Các biến này được định nghĩa bằng phương thức `__init__`. Đây là tương đương với [constructor](https://vi.wikipedia.org/wiki/Hàm_tạo) trong các ngôn ngữ lập trình khác."
   ]
  },
  {
   "cell_type": "markdown",
   "metadata": {
    "id": "gmpbbffL0uhI"
   },
   "source": [
    "> You may notice that we're using a keyword `self`. That just refers to the instance of the class. Think of it like using the word \"myself\" to refer to you. If you're an instance of the `Person` class, then you referring to `self.height` is a different value than if your friend calls `self.height`."
   ]
  },
  {
   "cell_type": "markdown",
   "id": "d74ca788",
   "metadata": {},
   "source": [
    "> Bạn có thể nhận thấy chúng mình đang sử dụng từ khóa `self`. Từ này dùng để chỉ chính đối tượng (instance) của lớp. Hãy tưởng tượng như khi bạn dùng từ \"bản thân mình\" để nói về chính bạn. Nếu bạn là một instance của lớp `Person`, thì khi bạn truy cập `self.height` sẽ khác với khi bạn của bạn truy cập `self.height`."
   ]
  },
  {
   "cell_type": "markdown",
   "metadata": {
    "id": "ksA8YepaM54Y"
   },
   "source": [
    "### Instances (Các đối tượng)"
   ]
  },
  {
   "cell_type": "markdown",
   "metadata": {
    "id": "Pi_V_c939SKa"
   },
   "source": [
    "An **instance** of a class is created when you create a specific occurrence of a class.\n",
    "\n",
    "The difference between a class and an instance is similar to the difference between a type and a variable. For example, `a = 0` is an instance of `int`, and `b = \"bee\"` is an instance of `str`."
   ]
  },
  {
   "cell_type": "markdown",
   "id": "c7c5b45a",
   "metadata": {},
   "source": [
    "Một **đối tượng** (instance) của lớp được tạo ra khi bạn tạo một trường hợp cụ thể của lớp đó.\n",
    "\n",
    "Sự khác biệt giữa lớp và đối tượng giống như sự khác biệt giữa kiểu dữ liệu và biến. Ví dụ, `a = 0` là một instance của `int`, và `b = \"bee\"` là một instance của `str`."
   ]
  },
  {
   "cell_type": "code",
   "execution_count": null,
   "metadata": {
    "id": "LPxaPDyTOF6s"
   },
   "outputs": [],
   "source": [
    "class Student:\n",
    "\n",
    "  def __init__(self):\n",
    "    self.id = None\n",
    "    self.name = None\n",
    "    self.absence_list = None"
   ]
  },
  {
   "cell_type": "code",
   "execution_count": null,
   "metadata": {
    "id": "N8mJY7zS-6aH"
   },
   "outputs": [],
   "source": [
    "daphne_jones = Student()\n",
    "daphne_jones.id = 71919\n",
    "daphne_jones.name = \"Daphne Jones\"\n",
    "daphne_jones.absence_list = [False, False, False, False, False, True, False]"
   ]
  },
  {
   "cell_type": "markdown",
   "metadata": {
    "id": "PIX9H_rR9SKb"
   },
   "source": [
    "`__init__` also allows us to set the variable values when instantiating (creating an instance of) the class."
   ]
  },
  {
   "cell_type": "markdown",
   "id": "3fc4bee5",
   "metadata": {},
   "source": [
    "`__init__` cũng cho phép chúng mình thiết lập giá trị biến khi khởi tạo (tạo một instance của) lớp."
   ]
  },
  {
   "cell_type": "code",
   "execution_count": null,
   "metadata": {
    "id": "oK7YEiQn7MO-"
   },
   "outputs": [],
   "source": [
    "class Student:\n",
    "\n",
    "  def __init__(self, id, name, absence_list):\n",
    "    self.id = id\n",
    "    self.name = name\n",
    "    self.absence_list = absence_list"
   ]
  },
  {
   "cell_type": "code",
   "execution_count": null,
   "metadata": {
    "id": "OS6vzRJjAgl6"
   },
   "outputs": [],
   "source": [
    "daphne_jones = Student(71919, \"Daphne Jones\",\n",
    "                       [False, False, False, False, False, True, False])"
   ]
  },
  {
   "cell_type": "markdown",
   "metadata": {
    "id": "EPt2peObI9Ot"
   },
   "source": [
    "Let's try printing the student record of a `Student` class."
   ]
  },
  {
   "cell_type": "markdown",
   "id": "4c65b49e",
   "metadata": {},
   "source": [
    "Hãy thử in thông tin của một đối tượng thuộc lớp `Student`."
   ]
  },
  {
   "cell_type": "code",
   "execution_count": null,
   "metadata": {
    "id": "qKFa7zCMJjOE"
   },
   "outputs": [],
   "source": [
    "def print_student_record(student):\n",
    "  \"\"\"Prints the ID, name, and number of days missed of a student.\"\"\"\n",
    "  print(student.id)\n",
    "  print(student.name)\n",
    "  num_absences = 0\n",
    "  for potential_absence in student.absence_list:\n",
    "    if potential_absence:\n",
    "      num_absences += 1\n",
    "  absence_string = \"%d day\" % num_absences\n",
    "\n",
    "  # This block makes \"day\" plural if the number of days missed is not 1 so\n",
    "  # that the sentence is grammatically correct.\n",
    "  if num_absences != 1:\n",
    "    absence_string += \"s\"\n",
    "\n",
    "  print(\"The student missed %s of class.\" % absence_string)"
   ]
  },
  {
   "cell_type": "code",
   "execution_count": null,
   "metadata": {
    "id": "GGsmqOfm_dSX"
   },
   "outputs": [],
   "source": [
    "print_student_record(daphne_jones)"
   ]
  },
  {
   "cell_type": "markdown",
   "metadata": {
    "id": "m9gVdQn0M_3i"
   },
   "source": [
    "### Methods (Các phương thức)"
   ]
  },
  {
   "cell_type": "markdown",
   "metadata": {
    "id": "rXO_zCHYKIVX"
   },
   "source": [
    "One of the most useful aspects of classes is being able to define **methods**. An **instance method** is a function written within a class that is only accessible to instances of that class. Instance methods must, referring to the class instance, have `self` as their first argument. Apart from that, a method looks just like a function!"
   ]
  },
  {
   "cell_type": "markdown",
   "id": "ee76b9d5",
   "metadata": {},
   "source": [
    "Một trong những điểm mạnh nhất của lớp là khả năng định nghĩa **phương thức**. **Phương thức của đối tượng** (instance method) là một hàm được viết bên trong lớp và chỉ có thể truy cập bởi các đối tượng của lớp đó. Phương thức của đối tượng phải có `self` là tham số đầu tiên để tham chiếu đến chính đối tượng. Ngoài ra, phương thức trông giống như một hàm thông thường!"
   ]
  },
  {
   "cell_type": "code",
   "execution_count": null,
   "metadata": {
    "id": "z0FxFZykWi-Z"
   },
   "outputs": [],
   "source": [
    "class Student:\n",
    "\n",
    "  def __init__(self, id, name, absence_list):\n",
    "    self.id = id\n",
    "    self.name = name\n",
    "    self.absence_list = absence_list\n",
    "\n",
    "  def print_record(self):\n",
    "    print(self.id)\n",
    "    print(self.name)\n",
    "    num_absences = 0\n",
    "    for potential_absence in self.absence_list:\n",
    "      if potential_absence:\n",
    "        num_absences += 1\n",
    "    absence_string = \"%d day\" % num_absences\n",
    "\n",
    "    # This block makes \"day\" plural if the number of days missed is not 1 so\n",
    "    # that the sentence is grammatically correct.\n",
    "    if num_absences != 1:\n",
    "      absence_string += \"s\"\n",
    "\n",
    "    print(\"The student missed %s of class.\" % absence_string)"
   ]
  },
  {
   "cell_type": "code",
   "execution_count": null,
   "metadata": {
    "id": "jBs4OA0zB1HJ"
   },
   "outputs": [],
   "source": [
    "daphne_jones = Student(71919, \"Daphne Jones\",\n",
    "                       [False, False, False, False, False, True, False])\n",
    "daphne_jones.print_record()"
   ]
  },
  {
   "cell_type": "markdown",
   "metadata": {
    "id": "R_jJtA8VNFoc"
   },
   "source": [
    "### Inheritance (Kế thừa)"
   ]
  },
  {
   "cell_type": "markdown",
   "metadata": {
    "id": "nKpadWNxmkZK"
   },
   "source": [
    "Another major feature of classes is **inheritance**, or the ability for a class to essentially take after another class (called its **parent**). For example, let's say we wanted to make a `UniversityStudent` class. We've already implemented `Student`, so rather than duplicate the code, `UniversityStudent` can inherit from it."
   ]
  },
  {
   "cell_type": "markdown",
   "id": "661698d3",
   "metadata": {},
   "source": [
    "Một tính năng quan trọng khác của lớp là **kế thừa** (inheritance), tức là khả năng cho một lớp \"kế thừa\" từ một lớp khác (gọi là **lớp cha**). Ví dụ, nếu muốn tạo một lớp `UniversityStudent`, chúng mình đã có lớp `Student` rồi nên thay vì viết lại mã, `UniversityStudent` có thể kế thừa từ đó."
   ]
  },
  {
   "cell_type": "code",
   "execution_count": null,
   "metadata": {
    "id": "2yD3A1TW28oE"
   },
   "outputs": [],
   "source": [
    "class Student:\n",
    "\n",
    "  def __init__(self, id, name, absence_list):\n",
    "    self.id = id\n",
    "    self.name = name\n",
    "    self.absence_list = absence_list\n",
    "\n",
    "\n",
    "class UniversityStudent(Student):\n",
    "\n",
    "  def print_whether_transfer_student(self, is_transfer):\n",
    "    if is_transfer:\n",
    "      print('%s is a transfer student.' % self.name)\n",
    "    else:\n",
    "      print('%s is not a transfer student.' % self.name)"
   ]
  },
  {
   "cell_type": "code",
   "execution_count": null,
   "metadata": {
    "id": "0eWtYJb0_tw6"
   },
   "outputs": [],
   "source": [
    "daphne_jones = UniversityStudent(\n",
    "    71919, 'Daphne Jones', [False, False, False, False, False, True, False])\n",
    "\n",
    "daphne_jones.print_whether_transfer_student(True)"
   ]
  },
  {
   "cell_type": "markdown",
   "metadata": {
    "id": "-Ft4fcrJ34vv"
   },
   "source": [
    "In this case, `UniversityStudent` inherits the `__init__` and `print_record` methods from `Student`, and it also adds a method to print whether a student is a transfer student.\n",
    "\n",
    "Alternately, an inherited class can also replace, or override, its parent's `__init__` method to add/remove attributes."
   ]
  },
  {
   "cell_type": "markdown",
   "id": "2c7eed48",
   "metadata": {},
   "source": [
    "Trong trường hợp này, `UniversityStudent` kế thừa các phương thức `__init__` và `print_record` từ `Student`, đồng thời bổ sung thêm một phương thức để in ra liệu sinh viên có phải là sinh viên chuyển trường hay không.\n",
    "\n",
    "Ngoài ra, một lớp kế thừa cũng có thể thay thế (override) phương thức `__init__` của lớp cha để thêm hoặc bớt thuộc tính."
   ]
  },
  {
   "cell_type": "code",
   "execution_count": null,
   "metadata": {
    "id": "qnPIwL06mkr9"
   },
   "outputs": [],
   "source": [
    "class Student:\n",
    "\n",
    "  def __init__(self, id, name, absence_list):\n",
    "    self.id = id\n",
    "    self.name = name\n",
    "    self.absence_list = absence_list\n",
    "\n",
    "\n",
    "class UniversityStudent(Student):\n",
    "\n",
    "  def __init__(self, id, name, absence_list, university_name):\n",
    "    self.id = id\n",
    "    self.name = name\n",
    "    self.absence_list = absence_list\n",
    "    self.university_name = university_name"
   ]
  },
  {
   "cell_type": "markdown",
   "metadata": {
    "id": "yF1itgZ6_FAN"
   },
   "source": [
    "If you want to add new attributes to the inherited class and maintain all of the existing properties inherited from the parent, you can use the following syntax."
   ]
  },
  {
   "cell_type": "markdown",
   "id": "26583e90",
   "metadata": {},
   "source": [
    "Nếu bạn muốn thêm thuộc tính mới vào lớp kế thừa và vẫn giữ lại tất cả các thuộc tính hiện có từ lớp cha, bạn có thể sử dụng cú pháp sau."
   ]
  },
  {
   "cell_type": "code",
   "execution_count": null,
   "metadata": {
    "id": "yS85XzoE_fqn"
   },
   "outputs": [],
   "source": [
    "class Student:\n",
    "\n",
    "  def __init__(self, id, name, absence_list):\n",
    "    self.id = id\n",
    "    self.name = name\n",
    "    self.absence_list = absence_list\n",
    "\n",
    "\n",
    "class UniversityStudent(Student):\n",
    "\n",
    "  def __init__(self, id, name, absence_list, university_name):\n",
    "    # The following line initializes the attributes inherited from Student.\n",
    "    Student.__init__(self, id, name, absence_list)\n",
    "    # The following line initiates the new attribute that is not in Student.\n",
    "    self.university_name = university_name"
   ]
  },
  {
   "cell_type": "markdown",
   "metadata": {
    "id": "t9-ZVeMc2Oue"
   },
   "source": [
    "## Question 1 (Câu hỏi 1)"
   ]
  },
  {
   "cell_type": "markdown",
   "metadata": {
    "id": "vfZIklfl2Qbf"
   },
   "source": [
    "In which of the following situations would a class be the most appropriate data structure to use? (Note that this does not preclude using a class alongside another data structure, such as an array of instances of a class.) There may be more than one correct response."
   ]
  },
  {
   "cell_type": "markdown",
   "id": "20135d5e",
   "metadata": {},
   "source": [
    "Trong những tình huống nào sau đây, lớp (class) là cấu trúc dữ liệu phù hợp nhất để sử dụng? (Lưu ý rằng bạn vẫn có thể sử dụng class cùng với các cấu trúc dữ liệu khác, ví dụ như một mảng các đối tượng của class.) Có thể có nhiều hơn một đáp án đúng."
   ]
  },
  {
   "cell_type": "markdown",
   "metadata": {
    "id": "TuIYwKAQDbPe"
   },
   "source": [
    "**a)** Storing and comparing the features of different animals at a zoo\n",
    "\n",
    "**b)** Storing the temperatures of each day of a year\n",
    "\n",
    "**c)** Storing the names of all the different animals you saw one day at the zoo\n",
    "\n",
    "**d)** Storing the key statistics of different basketball players in a league"
   ]
  },
  {
   "cell_type": "markdown",
   "id": "ea8e74dd",
   "metadata": {},
   "source": [
    "**a)** Lưu trữ và so sánh các đặc điểm của các loài động vật khác nhau trong sở thú\n",
    "\n",
    "**b)** Lưu trữ nhiệt độ của từng ngày trong năm\n",
    "\n",
    "**c)** Lưu trữ tên của tất cả các loài động vật bạn đã nhìn thấy trong một ngày ở sở thú\n",
    "\n",
    "**d)** Lưu trữ các thống kê chính của các cầu thủ bóng rổ khác nhau trong một giải đấu"
   ]
  },
  {
   "cell_type": "markdown",
   "metadata": {
    "id": "H3ak5R1hDskc"
   },
   "source": [
    "### Solution (Giải pháp)"
   ]
  },
  {
   "cell_type": "markdown",
   "metadata": {
    "id": "kE6EK0CYDtcN"
   },
   "source": [
    "The correct answers are **a)** and **d)**.\n",
    "\n",
    "**b)** You may be able to use a class, but an array is definitely more appropriate.\n",
    "\n",
    "**c)** Since the stored animals are necessarily unique, these should be stored in a set. Moreover, remember that you are only storing the names of the animals, not any attributes or behaviors that would necessitate the use of a class."
   ]
  },
  {
   "cell_type": "markdown",
   "id": "e44c8529",
   "metadata": {},
   "source": [
    "Các đáp án đúng là **a)** và **d)**.\n",
    "\n",
    "**b)** Bạn có thể sử dụng class, nhưng mảng sẽ phù hợp hơn.\n",
    "\n",
    "**c)** Vì các loài động vật lưu trữ là duy nhất, nên nên dùng tập hợp (set). Hơn nữa, bạn chỉ lưu tên động vật chứ không lưu thuộc tính hay hành vi nào cần đến class."
   ]
  },
  {
   "cell_type": "markdown",
   "metadata": {
    "id": "Erzt5tWKk1yl"
   },
   "source": [
    "## Question 2 (Câu hỏi 2)"
   ]
  },
  {
   "cell_type": "markdown",
   "metadata": {
    "id": "HmqBcBZmOUJD"
   },
   "source": [
    "Consider a class that stores information about an animal. Your friend Eric \"doesn't like\" (is afraid of) animals with more than four legs. Write a method within `Animal` called `check_if_eric_likes_this_animal` that returns `True` if Eric likes a given animal and `False` otherwise."
   ]
  },
  {
   "cell_type": "markdown",
   "id": "3a9ce8f1",
   "metadata": {},
   "source": [
    "Giả sử có một lớp lưu thông tin về động vật. Bạn của bạn là Eric \"không thích\" (sợ) các loài động vật có nhiều hơn bốn chân. Hãy viết một phương thức trong lớp `Animal` tên là `check_if_eric_likes_this_animal` trả về `True` nếu Eric thích loài động vật đó và `False` nếu không."
   ]
  },
  {
   "cell_type": "code",
   "execution_count": null,
   "metadata": {
    "id": "iG5ful_GYJFz"
   },
   "outputs": [],
   "source": [
    "class Animal:\n",
    "\n",
    "  def __init__(self, name, num_legs, num_eyes, noise):\n",
    "    self.name = name\n",
    "    self.num_legs = num_legs\n",
    "    self.num_eyes = num_eyes\n",
    "    self.noise = noise\n",
    "\n",
    "  def check_if_eric_likes_this_animal(self):\n",
    "    # TODO(you): Implement\n",
    "    print(\"This method has not been implemented.\")"
   ]
  },
  {
   "cell_type": "markdown",
   "metadata": {
    "id": "qEHpLWtyrTkT"
   },
   "source": [
    "### Hint (Gợi ý)"
   ]
  },
  {
   "cell_type": "markdown",
   "metadata": {
    "id": "muxyZgqsrU1h"
   },
   "source": [
    "Don't forget that class attributes are accessed via `self`, which is why it's passed in as a parameter (`check_if_eric_likes_this_animal(self)`)."
   ]
  },
  {
   "cell_type": "markdown",
   "id": "100466d9",
   "metadata": {},
   "source": [
    "Đừng quên rằng các thuộc tính của lớp được truy cập thông qua `self`, đó là lý do tại sao nó được truyền vào như một tham số (`check_if_eric_likes_this_animal(self)`)."
   ]
  },
  {
   "cell_type": "markdown",
   "metadata": {
    "id": "G2-9M6U_ehAx"
   },
   "source": [
    "### Unit Tests (Kiểm thử tự động)\n",
    "\n",
    "Chạy ô sau để kiểm tra đáp án của bạn với một số kiểm thử tự động."
   ]
  },
  {
   "cell_type": "code",
   "execution_count": null,
   "metadata": {
    "id": "rR7p_RtNXhLh"
   },
   "outputs": [],
   "source": [
    "spider = Animal(\"spider\", 8, 8, \"\")\n",
    "print(spider.check_if_eric_likes_this_animal())\n",
    "# Should print: False\n",
    "\n",
    "pig = Animal(\"pig\", 4, 2, \"oink\")\n",
    "print(pig.check_if_eric_likes_this_animal())\n",
    "# Should print: True"
   ]
  },
  {
   "cell_type": "markdown",
   "metadata": {
    "id": "6eqyTpFClXNJ"
   },
   "source": [
    "### Solution (Giải pháp)"
   ]
  },
  {
   "cell_type": "markdown",
   "metadata": {
    "id": "eCJ4L-LC9SKn"
   },
   "source": [
    "For this method we need to quickly determine how many legs the animal we're given has. That's not too challenging since we can get its `num_legs` attribute via `self.num_legs`."
   ]
  },
  {
   "cell_type": "markdown",
   "id": "7c27262b",
   "metadata": {},
   "source": [
    "Với phương thức này, chúng mình chỉ cần xác định nhanh số chân của động vật. Điều này khá đơn giản vì bạn có thể lấy thuộc tính `num_legs` thông qua `self.num_legs`."
   ]
  },
  {
   "cell_type": "code",
   "execution_count": null,
   "metadata": {
    "id": "--KycDEm9SKn"
   },
   "outputs": [],
   "source": [
    "class Animal:\n",
    "\n",
    "  def __init__(self, name, num_legs, num_eyes, noise):\n",
    "    self.name = name\n",
    "    self.num_legs = num_legs\n",
    "    self.num_eyes = num_eyes\n",
    "    self.noise = noise\n",
    "\n",
    "  def check_if_eric_likes_this_animal(self):\n",
    "    return self.num_legs <= 4"
   ]
  },
  {
   "cell_type": "markdown",
   "metadata": {
    "id": "sHInT5ywY0dC"
   },
   "source": [
    "Good programming style usually dictates that we make that 4 into a constant, so that it is clear what it means."
   ]
  },
  {
   "cell_type": "markdown",
   "id": "95b252cb",
   "metadata": {},
   "source": [
    "Phong cách lập trình tốt thường yêu cầu chúng mình nên đặt số 4 thành một hằng số, để rõ ý nghĩa hơn."
   ]
  },
  {
   "cell_type": "code",
   "execution_count": null,
   "metadata": {
    "id": "wY0CGDHNY3Xg"
   },
   "outputs": [],
   "source": [
    "MAX_NUM_LEGS_ERIC_WILL_TOLERATE = 4\n",
    "\n",
    "class Animal:\n",
    "\n",
    "  def __init__(self, name, num_legs, num_eyes, noise):\n",
    "    self.name = name\n",
    "    self.num_legs = num_legs\n",
    "    self.num_eyes = num_eyes\n",
    "    self.noise = noise\n",
    "\n",
    "  def check_if_eric_likes_this_animal(animal):\n",
    "    return animal.num_legs <= MAX_NUM_LEGS_ERIC_WILL_TOLERATE"
   ]
  },
  {
   "cell_type": "markdown",
   "metadata": {
    "id": "2y3GkD0XlGeR"
   },
   "source": [
    "## Question 3 (Câu hỏi 3)"
   ]
  },
  {
   "cell_type": "markdown",
   "metadata": {
    "id": "-XwUmT_T9SKo"
   },
   "source": [
    "Python allows you to specify the way you want an instance of your class to be printed by default, via the `__str__` method."
   ]
  },
  {
   "cell_type": "markdown",
   "id": "5840d24e",
   "metadata": {},
   "source": [
    "Python cho phép bạn chỉ định cách một đối tượng của lớp sẽ được in ra mặc định, thông qua phương thức `__str__`."
   ]
  },
  {
   "cell_type": "code",
   "execution_count": null,
   "metadata": {
    "id": "wdVxUvqXTEjF"
   },
   "outputs": [],
   "source": [
    "class Animal:\n",
    "\n",
    "  def __init__(self, name, num_legs, num_eyes, noise):\n",
    "    self.name = name\n",
    "    self.num_legs = num_legs\n",
    "    self.num_eyes = num_eyes\n",
    "    self.noise = noise\n",
    "\n",
    "  def __str__(self):\n",
    "    # Note that that the `__str__` method must `return` the string to be\n",
    "    # printed, not `print` it.\n",
    "    return \"This animal is called a %s.\" % self.name"
   ]
  },
  {
   "cell_type": "code",
   "execution_count": null,
   "metadata": {
    "id": "a9cNw1J6TjkS"
   },
   "outputs": [],
   "source": [
    "snake = Animal(\"snake\", 0, 2, \"ssssssssssss\")\n",
    "print(snake)"
   ]
  },
  {
   "cell_type": "markdown",
   "metadata": {
    "id": "1hLacMuRTvwr"
   },
   "source": [
    "Write a `__str__` method that returns a string containing the animal's name, the number of legs and eyes it has, and the noise it makes."
   ]
  },
  {
   "cell_type": "markdown",
   "id": "44140840",
   "metadata": {},
   "source": [
    "Viết phương thức `__str__` trả về một chuỗi chứa tên động vật, số chân, số mắt và âm thanh mà nó phát ra."
   ]
  },
  {
   "cell_type": "code",
   "execution_count": null,
   "metadata": {
    "id": "O-M96AfBU5Od"
   },
   "outputs": [],
   "source": [
    "class Animal:\n",
    "\n",
    "  def __init__(self, name, num_legs, num_eyes, noise):\n",
    "    self.name = name\n",
    "    self.num_legs = num_legs\n",
    "    self.num_eyes = num_eyes\n",
    "    self.noise = noise\n",
    "\n",
    "  def __str__(self):\n",
    "    # TODO(you): Implement"
   ]
  },
  {
   "cell_type": "markdown",
   "metadata": {
    "id": "xlUMC8Lh-Btg"
   },
   "source": [
    "### Hint (Gợi ý)"
   ]
  },
  {
   "cell_type": "markdown",
   "metadata": {
    "id": "LkQV-HEr-DhU"
   },
   "source": [
    "Use the following function that creates an \"attribute string\" for an animal."
   ]
  },
  {
   "cell_type": "markdown",
   "id": "8897c77b",
   "metadata": {},
   "source": [
    "Sử dụng hàm sau để tạo một \"chuỗi thuộc tính\" cho động vật."
   ]
  },
  {
   "cell_type": "code",
   "execution_count": null,
   "metadata": {
    "id": "GDz5XL3Y-Op5"
   },
   "outputs": [],
   "source": [
    "def create_attribute_string(num_attributes, attribute_name):\n",
    "  result = \"%d \" % num_attributes\n",
    "  result += attribute_name\n",
    "\n",
    "  # This block makes attribute_name plural if the number is not\n",
    "  # 1 so that the sentence is grammatically correct.\n",
    "  if num_attributes != 1:\n",
    "    result += \"s\"\n",
    "  return result\n",
    "\n",
    "print(create_attribute_string(4, 'leg'))\n",
    "print(create_attribute_string(1, 'leg'))"
   ]
  },
  {
   "cell_type": "markdown",
   "metadata": {
    "id": "tSWHIR_hlV1j"
   },
   "source": [
    "### Solution (Giải pháp)"
   ]
  },
  {
   "cell_type": "markdown",
   "metadata": {
    "id": "MbhauGObT5F0"
   },
   "source": [
    "To make life easier, we create a function called `create_attribute_string`, so that we can factorize some of the printing of the legs and eyes."
   ]
  },
  {
   "cell_type": "markdown",
   "id": "f0c62e91",
   "metadata": {},
   "source": [
    "Để thuận tiện hơn, chúng mình tạo một hàm tên là `create_attribute_string` để tái sử dụng khi in số chân và số mắt."
   ]
  },
  {
   "cell_type": "code",
   "execution_count": null,
   "metadata": {
    "id": "3tBzs_2sUm2n"
   },
   "outputs": [],
   "source": [
    "def create_attribute_string(num_attributes, attribute_name):\n",
    "  result = \"%d \" % num_attributes\n",
    "  result += attribute_name\n",
    "\n",
    "  # This block makes attribute_name plural if the number is not\n",
    "  # 1 so that the sentence is grammatically correct.\n",
    "  if num_attributes != 1:\n",
    "    result += \"s\"\n",
    "  return result\n",
    "\n",
    "\n",
    "class Animal:\n",
    "\n",
    "  def __init__(self, name, num_legs, num_eyes, noise):\n",
    "    self.name = name\n",
    "    self.num_legs = num_legs\n",
    "    self.num_eyes = num_eyes\n",
    "    self.noise = noise\n",
    "\n",
    "  def __str__(self):\n",
    "    result = \"The \" + self.name + \" has \"\n",
    "    result += create_attribute_string(self.num_legs, \"leg\")\n",
    "    result += \" and \" + create_attribute_string(self.num_eyes, \"eye\")\n",
    "    noise_string = \"\\\"\" + self.noise + \"\\\"!\"\n",
    "    result += \", and it goes \" + noise_string\n",
    "    return result"
   ]
  },
  {
   "cell_type": "code",
   "execution_count": null,
   "metadata": {
    "id": "V2dEVaFjUS5-"
   },
   "outputs": [],
   "source": [
    "snake = Animal(\"snake\", 0, 2, \"ssssssssssss\")\n",
    "print(snake)"
   ]
  },
  {
   "cell_type": "markdown",
   "metadata": {
    "id": "-L9oHBk7lMbg"
   },
   "source": [
    "## Question 4 (Câu hỏi 4)"
   ]
  },
  {
   "cell_type": "markdown",
   "metadata": {
    "id": "5shMfADZ9SKt"
   },
   "source": [
    "Given the `Animal` class and associated `__str__` method from the previous question, write a `print_animals` function that takes in a list of `Animal` instances and prints them all. The first code block displays the desired outputs, and the code from the previous question is copied below it for convenience."
   ]
  },
  {
   "cell_type": "markdown",
   "id": "2cd7c0d8",
   "metadata": {},
   "source": [
    "Với lớp `Animal` và phương thức `__str__` ở câu trước, hãy viết hàm `print_animals` nhận vào một danh sách các đối tượng `Animal` và in ra tất cả. Khối mã đầu tiên hiển thị kết quả mong muốn, và mã từ câu trước được sao chép bên dưới để tiện tham khảo."
   ]
  },
  {
   "cell_type": "markdown",
   "metadata": {
    "id": "vmDekrXWUrKM"
   },
   "source": [
    "```python\n",
    "snake = Animal(\"snake\", 0, 2, \"ssssssssssss\")\n",
    "human = Animal(\"human\", 2, 2, \"hi\")\n",
    "animal_list = [snake, human]\n",
    "print_animals(animal_list)\n",
    "# The snake has 0 legs and 2 eyes, and it goes \"ssssssssssss\"!\n",
    "# The human has 2 legs and 2 eyes, and it goes \"hi\"!\n",
    "```"
   ]
  },
  {
   "cell_type": "code",
   "execution_count": null,
   "metadata": {
    "id": "HAnJy400lJe3"
   },
   "outputs": [],
   "source": [
    "def create_attribute_string(num_attributes, attribute_name):\n",
    "  result = \"%d \" % num_attributes\n",
    "  result += attribute_name\n",
    "\n",
    "  # This block makes attribute_name plural if the number is not\n",
    "  # 1 so that the sentence is grammatically correct.\n",
    "  if num_attributes != 1:\n",
    "    result += \"s\"\n",
    "  return result\n",
    "\n",
    "class Animal:\n",
    "\n",
    "  def __init__(self, name, num_legs, num_eyes, noise):\n",
    "    self.name = name\n",
    "    self.num_legs = num_legs\n",
    "    self.num_eyes = num_eyes\n",
    "    self.noise = noise\n",
    "\n",
    "  def __str__(self):\n",
    "    result = \"The \" + self.name + \" has \"\n",
    "    result += create_attribute_string(self.num_legs, \"leg\")\n",
    "    result += \" and \" + create_attribute_string(self.num_eyes, \"eye\")\n",
    "    noise_string = \"\\\"\" + self.noise + \"\\\"!\"\n",
    "    result += \", and it goes \" + noise_string\n",
    "    return result"
   ]
  },
  {
   "cell_type": "code",
   "execution_count": null,
   "metadata": {
    "id": "cJwrtANqak1E"
   },
   "outputs": [],
   "source": [
    "def print_animals(animal_list):\n",
    "  # TODO(you): Implement\n",
    "  print(\"This function has not been implemented.\")"
   ]
  },
  {
   "cell_type": "markdown",
   "metadata": {
    "id": "I1hELNlCk1gm"
   },
   "source": [
    "### Unit Tests (Kiểm thử tự động)\n",
    "\n",
    "Chạy ô sau để kiểm tra đáp án của bạn với một số kiểm thử tự động."
   ]
  },
  {
   "cell_type": "code",
   "execution_count": null,
   "metadata": {
    "id": "go5R63ERk3G2"
   },
   "outputs": [],
   "source": [
    "snake = Animal(\"snake\", 0, 2, \"ssssssssssss\")\n",
    "human = Animal(\"human\", 2, 2, \"hi\")\n",
    "animal_list = [snake, human]\n",
    "\n",
    "print_animals(animal_list)\n",
    "# Should print multiline:\n",
    "# 'The snake has 0 legs and 2 eyes, and it goes \"ssssssssssss\"!'\n",
    "# 'The human has 2 legs and 2 eyes, and it goes \"hi\"!'"
   ]
  },
  {
   "cell_type": "markdown",
   "metadata": {
    "id": "avX4cnD-lS51"
   },
   "source": [
    "### Solution (Giải pháp)"
   ]
  },
  {
   "cell_type": "markdown",
   "metadata": {
    "id": "xra64iFK9SKv"
   },
   "source": [
    "To print each animal in the list, we can iteratively apply the `print` method."
   ]
  },
  {
   "cell_type": "markdown",
   "id": "6f7ff4df",
   "metadata": {},
   "source": [
    "Để in từng động vật trong danh sách, chúng mình chỉ cần lặp qua và gọi hàm `print` cho từng phần tử."
   ]
  },
  {
   "cell_type": "code",
   "execution_count": null,
   "metadata": {
    "id": "BtWsTD1Qc5h2"
   },
   "outputs": [],
   "source": [
    "def print_animals(animal_list):\n",
    "  for animal in animal_list:\n",
    "    print(animal)"
   ]
  },
  {
   "cell_type": "markdown",
   "metadata": {
    "id": "1JAnHceo9Bbv"
   },
   "source": [
    "## Question 5 (Câu hỏi 5)"
   ]
  },
  {
   "cell_type": "markdown",
   "metadata": {
    "id": "3AoNX5t29CuJ"
   },
   "source": [
    "One of the most common use cases for class inheritance is when one class is a *subset* of another class. For example, consider the `Animal` class from the previous exercises.\n",
    "\n",
    "There are many sub-categories of animal, such as mammals, birds, and reptiles. Create a `Mammal` class that inherits all of the attributes and methods from the `Animal` class above, and also adds some additional information."
   ]
  },
  {
   "cell_type": "markdown",
   "id": "696be761",
   "metadata": {},
   "source": [
    "Một trong những trường hợp sử dụng phổ biến nhất của kế thừa lớp là khi một lớp là *tập con* của lớp khác. Ví dụ, hãy xem xét lớp `Animal` ở các bài tập trước.\n",
    "\n",
    "Có nhiều phân loại con của động vật, như động vật có vú, chim, bò sát. Hãy tạo một lớp `Mammal` kế thừa tất cả thuộc tính và phương thức từ lớp `Animal` ở trên, đồng thời bổ sung thêm một số thông tin mới."
   ]
  },
  {
   "cell_type": "markdown",
   "metadata": {
    "id": "9uSMA-wEV4F6"
   },
   "source": [
    "Your new `Mammal` class should also include:\n",
    "\n",
    "- `group`, the subclass of mammal under which this animal falls, which must be one of:\n",
    "  - placental\n",
    "  - marsupial\n",
    "  - monotreme\n",
    "- `is_endangered`, a boolean indicating whether the mammal is endangered"
   ]
  },
  {
   "cell_type": "code",
   "execution_count": null,
   "metadata": {
    "id": "W7WJ-Ua39Xql"
   },
   "outputs": [],
   "source": [
    "class Animal:\n",
    "\n",
    "  def __init__(self, name, num_legs, num_eyes, noise):\n",
    "    self.name = name\n",
    "    self.num_legs = num_legs\n",
    "    self.num_eyes = num_eyes\n",
    "    self.noise = noise\n",
    "\n",
    "  def check_if_eric_likes_this_animal(self):\n",
    "    return self.num_legs <= 4\n",
    "\n",
    "class Mammal(Animal):\n",
    "\n",
    "  #TODO(you): Implement"
   ]
  },
  {
   "cell_type": "markdown",
   "metadata": {
    "id": "3fuMmXMze1pV"
   },
   "source": [
    "### Unit Tests (Kiểm thử tự động)\n",
    "\n",
    "Chạy ô sau để kiểm tra đáp án của bạn với một số kiểm thử tự động."
   ]
  },
  {
   "cell_type": "code",
   "execution_count": null,
   "metadata": {
    "id": "UAa70-CseFV_"
   },
   "outputs": [],
   "source": [
    "tasmanian_devil = Mammal('Tasmanian Devil', 4, 2, 'grrrr', 'marsupial', True)\n",
    "\n",
    "print(hasattr(tasmanian_devil, 'group'))\n",
    "# Should print: True\n",
    "\n",
    "print(hasattr(tasmanian_devil, 'is_endangered'))\n",
    "# Should print: True"
   ]
  },
  {
   "cell_type": "markdown",
   "metadata": {
    "id": "U1NkRZVOCfWV"
   },
   "source": [
    "### Solution (Giải pháp)"
   ]
  },
  {
   "cell_type": "code",
   "execution_count": null,
   "metadata": {
    "id": "aCkufOIlAqbx"
   },
   "outputs": [],
   "source": [
    "class Animal:\n",
    "\n",
    "  def __init__(self, name, num_legs, num_eyes, noise):\n",
    "    self.name = name\n",
    "    self.num_legs = num_legs\n",
    "    self.num_eyes = num_eyes\n",
    "    self.noise = noise\n",
    "\n",
    "  def check_if_eric_likes_this_animal(self):\n",
    "    return self.num_legs <= 4\n",
    "\n",
    "\n",
    "class Mammal(Animal):\n",
    "\n",
    "  def __init__(self, name, num_legs, num_eyes, noise, group, is_endangered):\n",
    "    Animal.__init__(self, name, num_legs, num_eyes, noise)\n",
    "    self.group = group\n",
    "    self.is_endangered = is_endangered"
   ]
  },
  {
   "cell_type": "markdown",
   "metadata": {
    "id": "q_6pbT2d0ER0"
   },
   "source": [
    "# Maps / Dictionaries (Bản đồ / Từ điển)"
   ]
  },
  {
   "cell_type": "markdown",
   "metadata": {
    "id": "ZPFKHRrE5soO"
   },
   "source": [
    "## Lesson Overview"
   ]
  },
  {
   "cell_type": "markdown",
   "metadata": {
    "id": "4v0fqi9D5txl"
   },
   "source": [
    "In this lesson, we will learn about a new type of data structure. Instead of storing single pieces of data, maps store *pairs* of data.\n",
    "\n",
    "> A **map** is a data structure that stores (*key*, *value*) pairs, where each **key** has an associated **value**. In the language of maps, it is also common to hear that \"each key gets mapped to a value.\" It is important to note that a given key can appear at most once.\n"
   ]
  },
  {
   "cell_type": "markdown",
   "id": "3e1ba988",
   "metadata": {},
   "source": [
    "Trong bài học này, chúng mình sẽ tìm hiểu về một kiểu cấu trúc dữ liệu mới. Thay vì lưu trữ từng giá trị riêng lẻ, bản đồ (map) lưu trữ *cặp* dữ liệu.\n",
    "\n",
    "> **Map** là một cấu trúc dữ liệu lưu trữ các cặp (*key*, *value*), trong đó mỗi **key** (khóa) có một **value** (giá trị) đi kèm. Trong ngôn ngữ của map, người ta cũng thường nói \"mỗi key được ánh xạ tới một value\". Lưu ý rằng một key chỉ có thể xuất hiện tối đa một lần."
   ]
  },
  {
   "cell_type": "markdown",
   "metadata": {
    "id": "7jJ0YO04-zPV"
   },
   "source": [
    "You can think of a map as an extension of an array. (In fact, maps are also known as **associative arrays**.) The principal difference between a map and an array is that while the indices of an array must be ordered non-negative integers, the indices (or keys) in a map can be any data type."
   ]
  },
  {
   "cell_type": "markdown",
   "id": "6d4b2045",
   "metadata": {},
   "source": [
    "Bạn có thể coi map là một phần mở rộng của mảng. (Thực tế, map còn được gọi là **mảng kết hợp** - associative array.) Sự khác biệt chính giữa map và mảng là chỉ số (index) của mảng phải là các số nguyên không âm có thứ tự, còn chỉ số (key) trong map có thể là bất kỳ kiểu dữ liệu nào."
   ]
  },
  {
   "cell_type": "markdown",
   "metadata": {
    "id": "Z2RadDWuqBq9"
   },
   "source": [
    "### Maps in Python (Bản đồ trong Python)"
   ]
  },
  {
   "cell_type": "markdown",
   "metadata": {
    "id": "dl6ZcpPeqF0O"
   },
   "source": [
    "Maps in Python are known as **dictionaries**, and this is a particularly illustrative name! You can think of the *key* as the word you want to look up, and the *value* as its definition. A given word can only appear once in an English dictionary, in the same way that a key appears at most once in a map."
   ]
  },
  {
   "cell_type": "markdown",
   "id": "75e72876",
   "metadata": {},
   "source": [
    "Bản đồ trong Python được gọi là **dictionary** (từ điển), và đây là một tên gọi rất dễ hình dung! Bạn có thể coi *key* là từ bạn muốn tra cứu, còn *value* là định nghĩa của từ đó. Một từ chỉ xuất hiện một lần trong từ điển tiếng Anh, cũng giống như một key chỉ xuất hiện tối đa một lần trong map."
   ]
  },
  {
   "cell_type": "markdown",
   "metadata": {
    "id": "00ryvA9WqH1T"
   },
   "source": [
    "Since maps in Python are implemented as dictionaries, throughout this lesson the terms \"map\" and \"dictionary\" are used interchangeably."
   ]
  },
  {
   "cell_type": "markdown",
   "id": "c051b651",
   "metadata": {},
   "source": [
    "Vì map trong Python được triển khai dưới dạng dictionary, nên trong suốt bài học này, các thuật ngữ \"map\" và \"dictionary\" sẽ được sử dụng thay thế cho nhau."
   ]
  },
  {
   "cell_type": "markdown",
   "metadata": {
    "id": "W_1VMFGdaWb9"
   },
   "source": [
    "### Creating a map (Tạo một bản đồ)"
   ]
  },
  {
   "cell_type": "markdown",
   "metadata": {
    "id": "2v4gvkPHyhEW"
   },
   "source": [
    "The following map stores the population of the seven continents of Earth, in millions ([source](https://en.wikipedia.org/wiki/Continent))."
   ]
  },
  {
   "cell_type": "markdown",
   "id": "e6b684c9",
   "metadata": {},
   "source": [
    "Bản đồ sau lưu trữ dân số của bảy châu lục trên Trái Đất, tính bằng triệu người ([nguồn](https://vi.wikipedia.org/wiki/Ch%C3%A2u_l%E1%BB%A5c))."
   ]
  },
  {
   "cell_type": "code",
   "execution_count": null,
   "metadata": {
    "id": "VtDblzALCtNK"
   },
   "outputs": [],
   "source": [
    "population_map = {\n",
    "    \"Africa\": 1276,\n",
    "    \"Asia\": 4561,\n",
    "    \"Australia\": 39,\n",
    "    \"Europe\": 746,\n",
    "    \"North America\": 579,\n",
    "    \"South America\": 424,\n",
    "}\n",
    "\n",
    "population_map"
   ]
  },
  {
   "cell_type": "markdown",
   "metadata": {
    "id": "VyKOgfz7aaBU"
   },
   "source": [
    "### Adding items to a map (Thêm phần tử vào bản đồ)"
   ]
  },
  {
   "cell_type": "markdown",
   "metadata": {
    "id": "Y9o3Phu3zdnS"
   },
   "source": [
    "You can add items to a map as follows."
   ]
  },
  {
   "cell_type": "markdown",
   "id": "5728c642",
   "metadata": {},
   "source": [
    "Bạn có thể thêm phần tử vào bản đồ như sau."
   ]
  },
  {
   "cell_type": "code",
   "execution_count": null,
   "metadata": {
    "id": "On3e4coczrDP"
   },
   "outputs": [],
   "source": [
    "population_map = {\n",
    "    \"Africa\": 1276,\n",
    "    \"Asia\": 4561,\n",
    "    \"Australia\": 39,\n",
    "    \"Europe\": 746,\n",
    "    \"North America\": 579,\n",
    "    \"South America\": 424,\n",
    "}\n",
    "\n",
    "population_map[\"Antarctica\"] = 0\n",
    "\n",
    "population_map"
   ]
  },
  {
   "cell_type": "markdown",
   "metadata": {
    "id": "pbujas-NqlAW"
   },
   "source": [
    "### Accessing items in a map (Truy cập phần tử trong bản đồ)"
   ]
  },
  {
   "cell_type": "markdown",
   "metadata": {
    "id": "34OQbVMcqnzz"
   },
   "source": [
    "You can access an item in a map by referencing the item's key. This is similar to accessing items in an array by reference the index."
   ]
  },
  {
   "cell_type": "markdown",
   "id": "dedc77f3",
   "metadata": {},
   "source": [
    "Bạn có thể truy cập một phần tử trong bản đồ bằng cách tham chiếu đến key của phần tử đó. Điều này tương tự như truy cập phần tử trong mảng bằng chỉ số."
   ]
  },
  {
   "cell_type": "code",
   "execution_count": null,
   "metadata": {
    "id": "aBxa0K3Lqq0T"
   },
   "outputs": [],
   "source": [
    "population_map = {\n",
    "    \"Africa\": 1276,\n",
    "    \"Asia\": 4561,\n",
    "    \"Australia\": 39,\n",
    "    \"Europe\": 746,\n",
    "    \"North America\": 579,\n",
    "    \"South America\": 424,\n",
    "}\n",
    "\n",
    "population_map[\"North America\"]"
   ]
  },
  {
   "cell_type": "markdown",
   "metadata": {
    "id": "JU9EGwKJaeS3"
   },
   "source": [
    "### Deleting an item from a map (Xóa phần tử khỏi bản đồ)"
   ]
  },
  {
   "cell_type": "markdown",
   "metadata": {
    "id": "nlZ8Uy9vfyzy"
   },
   "source": [
    "You can delete an item from a map as follows."
   ]
  },
  {
   "cell_type": "markdown",
   "id": "5c55b1b8",
   "metadata": {},
   "source": [
    "Bạn có thể xóa một phần tử khỏi bản đồ như sau."
   ]
  },
  {
   "cell_type": "code",
   "execution_count": null,
   "metadata": {
    "id": "cBPttRGKf3JT"
   },
   "outputs": [],
   "source": [
    "population_map = {\n",
    "    \"Africa\": 1276,\n",
    "    \"Asia\": 4561,\n",
    "    \"Australia\": 39,\n",
    "    \"Europe\": 746,\n",
    "    \"North America\": 579,\n",
    "    \"South America\": 424,\n",
    "}\n",
    "\n",
    "del population_map[\"Australia\"]"
   ]
  },
  {
   "cell_type": "markdown",
   "metadata": {
    "id": "AiVl8nZxgdMn"
   },
   "source": [
    "If you try to delete a key that does not exist, Python will raise an error."
   ]
  },
  {
   "cell_type": "markdown",
   "id": "957a06c6",
   "metadata": {},
   "source": [
    "Nếu bạn cố gắng xóa một key không tồn tại, Python sẽ báo lỗi."
   ]
  },
  {
   "cell_type": "code",
   "execution_count": null,
   "metadata": {
    "id": "C9xX2vVrgic3"
   },
   "outputs": [],
   "source": [
    "population_map = {\n",
    "    \"Africa\": 1276,\n",
    "    \"Asia\": 4561,\n",
    "    \"Australia\": 39,\n",
    "    \"Europe\": 746,\n",
    "    \"North America\": 579,\n",
    "    \"South America\": 424,\n",
    "}\n",
    "\n",
    "del population_map[\"Gondwanaland\"] # raises an error"
   ]
  },
  {
   "cell_type": "markdown",
   "metadata": {
    "id": "ez1azvqJakyw"
   },
   "source": [
    "### Iterating through a map (Lặp qua bản đồ)"
   ]
  },
  {
   "cell_type": "markdown",
   "metadata": {
    "id": "d0jNKGZYDsd5"
   },
   "source": [
    "You can iterate through the `items` in a dictionary as follows."
   ]
  },
  {
   "cell_type": "markdown",
   "id": "d83de30d",
   "metadata": {},
   "source": [
    "Bạn có thể lặp qua các `items` trong dictionary như sau."
   ]
  },
  {
   "cell_type": "code",
   "execution_count": null,
   "metadata": {
    "id": "r5_JIXJBC-8n"
   },
   "outputs": [],
   "source": [
    "population_map = {\n",
    "    \"Africa\": 1276,\n",
    "    \"Asia\": 4561,\n",
    "    \"Australia\": 39,\n",
    "    \"Europe\": 746,\n",
    "    \"North America\": 579,\n",
    "    \"South America\": 424,\n",
    "}\n",
    "\n",
    "for c, p in population_map.items():\n",
    "  print(\"%s: population (millions) = %d\" % (c, p))"
   ]
  },
  {
   "cell_type": "markdown",
   "metadata": {
    "id": "koLiyXCPTVws"
   },
   "source": [
    "One of the most important things to remember about maps is that in most languages, a map has no canonical ordering. When you iterate through a map, the order at which the keys are chosen is not necessarily the same each time.\n",
    "\n",
    "Therefore in some languages, the order at which the continents would be printed in may vary each time you iterate.\n",
    "\n",
    "For example, in a language other than Python, you may see this...\n",
    "\n",
    "```python\n",
    "Antarctica: population (millions) = 0\n",
    "Europe: population (millions) = 746\n",
    "Africa: population (millions) = 1276\n",
    "South America: population (millions) = 424\n",
    "Australia: population (millions) = 39\n",
    "Asia: population (millions) = 4561\n",
    "North America: population (millions) = 579\n",
    "```\n",
    "\n",
    "...but you are equally likely to see this, or any other possible ordering.\n",
    "\n",
    "```python\n",
    "Europe: population(millions) = 746\n",
    "Antarctica: population(millions) = 0\n",
    "North America: population(millions) = 579\n",
    "South America: population(millions) = 424\n",
    "Asia: population(millions) = 4561\n",
    "Australia: population(millions) = 39\n",
    "Africa: population(millions) = 1276\n",
    "```\n",
    "\n",
    "In Python, if you run the same iteration over and over again, you *will* get the same order. This is an implementation specificity that is unique to Python, and most lower-level languages like C and Java do not preserve an order.\n",
    "\n",
    "Depending on which *version* of Python you are using, this ordering does not necessarily stay the same when new items are added or existing items are deleted. See [this StackOverflow post and the comments](https://stackoverflow.com/questions/39980323/are-dictionaries-ordered-in-python-3-6) for more information."
   ]
  },
  {
   "cell_type": "markdown",
   "id": "12044e9f",
   "metadata": {},
   "source": [
    "Một điều quan trọng cần nhớ về map là trong hầu hết các ngôn ngữ, map không có thứ tự chuẩn. Khi bạn lặp qua map, thứ tự các key được chọn không nhất thiết giống nhau mỗi lần.\n",
    "\n",
    "Vì vậy, trong một số ngôn ngữ, thứ tự các châu lục được in ra có thể thay đổi mỗi lần lặp.\n",
    "\n",
    "Ví dụ, trong một ngôn ngữ khác Python, bạn có thể thấy:\n",
    "\n",
    "```python\n",
    "Antarctica: population (millions) = 0\n",
    "Europe: population (millions) = 746\n",
    "Africa: population (millions) = 1276\n",
    "South America: population (millions) = 424\n",
    "Australia: population (millions) = 39\n",
    "Asia: population (millions) = 4561\n",
    "North America: population (millions) = 579\n",
    "```\n",
    "\n",
    "...nhưng bạn cũng có thể thấy thứ tự khác, hoặc bất kỳ thứ tự nào khác.\n",
    "\n",
    "```python\n",
    "Europe: population(millions) = 746\n",
    "Antarctica: population(millions) = 0\n",
    "North America: population(millions) = 579\n",
    "South America: population(millions) = 424\n",
    "Asia: population(millions) = 4561\n",
    "Australia: population(millions) = 39\n",
    "Africa: population(millions) = 1276\n",
    "```\n",
    "\n",
    "Trong Python, nếu bạn lặp lại thao tác này nhiều lần, bạn *sẽ* nhận được cùng một thứ tự. Đây là một đặc điểm riêng của Python, còn hầu hết các ngôn ngữ cấp thấp như C và Java thì không giữ thứ tự này.\n",
    "\n",
    "Tùy vào *phiên bản* Python bạn dùng, thứ tự này có thể thay đổi khi thêm hoặc xóa phần tử. Xem thêm [bài viết StackOverflow này và các bình luận](https://stackoverflow.com/questions/39980323/are-dictionaries-ordered-in-python-3-6) để biết thêm chi tiết."
   ]
  },
  {
   "cell_type": "markdown",
   "metadata": {
    "id": "nFIG4FRIasb6"
   },
   "source": [
    "### Accessing keys or values (Truy cập key hoặc value)"
   ]
  },
  {
   "cell_type": "markdown",
   "metadata": {
    "id": "CinOLSV3F3GE"
   },
   "source": [
    "If you need only to access the keys or values of the dictionary, you can use the `keys()` or `values()` methods, respectively."
   ]
  },
  {
   "cell_type": "markdown",
   "id": "85b6865c",
   "metadata": {},
   "source": [
    "Nếu bạn chỉ cần truy cập key hoặc value của dictionary, bạn có thể dùng các phương thức `keys()` hoặc `values()` tương ứng."
   ]
  },
  {
   "cell_type": "code",
   "execution_count": null,
   "metadata": {
    "id": "c_96YZ6WD7Q2"
   },
   "outputs": [],
   "source": [
    "population_map = {\n",
    "    \"Africa\": 1276,\n",
    "    \"Asia\": 4561,\n",
    "    \"Australia\": 39,\n",
    "    \"Europe\": 746,\n",
    "    \"North America\": 579,\n",
    "    \"South America\": 424,\n",
    "}\n",
    "\n",
    "for c in population_map.keys():\n",
    "  print(c)\n",
    "\n",
    "for p in population_map.values():\n",
    "  print(p)"
   ]
  },
  {
   "cell_type": "markdown",
   "metadata": {
    "id": "i50BJztTPEDO"
   },
   "source": [
    "## Question 1 (Câu hỏi 1)"
   ]
  },
  {
   "cell_type": "markdown",
   "metadata": {
    "id": "9jpfn-bXPGef"
   },
   "source": [
    "Which of the following statements about maps are true?"
   ]
  },
  {
   "cell_type": "markdown",
   "id": "85a57384",
   "metadata": {},
   "source": [
    "Những phát biểu nào sau đây về map là đúng?"
   ]
  },
  {
   "cell_type": "markdown",
   "metadata": {
    "id": "iq32-0AgJOif"
   },
   "source": [
    "**a)** A map is also known as a dictionary in Python.\n",
    "\n",
    "**b)** You can find a key in a map by looking up that key's value.\n",
    "\n",
    "**c)** The ordering of a map is constant in all languages.\n",
    "\n",
    "**d)** The keys in a map are always unique.\n",
    "\n",
    "**e)** The values in a map are always unique.\n",
    "\n",
    "**f)** The best choice for keys in a map is either integers or strings."
   ]
  },
  {
   "cell_type": "markdown",
   "id": "010c7d6a",
   "metadata": {},
   "source": [
    "**a)** Map còn được gọi là dictionary trong Python.\n",
    "\n",
    "**b)** Bạn có thể tìm một key trong map bằng cách tra giá trị của key đó.\n",
    "\n",
    "**c)** Thứ tự của map là cố định trong mọi ngôn ngữ.\n",
    "\n",
    "**d)** Các key trong map luôn là duy nhất.\n",
    "\n",
    "**e)** Các value trong map luôn là duy nhất.\n",
    "\n",
    "**f)** Lựa chọn tốt nhất cho key trong map là số nguyên hoặc chuỗi."
   ]
  },
  {
   "cell_type": "markdown",
   "metadata": {
    "id": "JS014EHEJPBa"
   },
   "source": [
    "### Solution (Giải pháp)"
   ]
  },
  {
   "cell_type": "markdown",
   "metadata": {
    "id": "mkxfo0feJQHo"
   },
   "source": [
    "The correct answers are **a)**, **d)**, and **f)**.\n",
    "\n",
    "**b)** Be careful, this definition swaps the key and the value.\n",
    "\n",
    "**c)** Maps are generally unordered collections of key-value pairs. Python, however, implements dictionaries such that ordering is maintained.\n",
    "\n",
    "**e)** The values in a map can be anything."
   ]
  },
  {
   "cell_type": "markdown",
   "id": "613cde88",
   "metadata": {},
   "source": [
    "Các đáp án đúng là **a)**, **d)** và **f)**.\n",
    "\n",
    "**b)** Cẩn thận, định nghĩa này bị đảo ngược key và value.\n",
    "\n",
    "**c)** Map thường là tập hợp không có thứ tự của các cặp key-value. Tuy nhiên, Python triển khai dictionary có thứ tự.\n",
    "\n",
    "**e)** Value trong map có thể là bất kỳ kiểu dữ liệu nào."
   ]
  },
  {
   "cell_type": "markdown",
   "metadata": {
    "id": "ZBls4weKW62B"
   },
   "source": [
    "## Question 2 (Câu hỏi 2)"
   ]
  },
  {
   "cell_type": "markdown",
   "metadata": {
    "id": "EDurFHMQW9is"
   },
   "source": [
    "Write a function that initializes a map with two given key-value pairs."
   ]
  },
  {
   "cell_type": "markdown",
   "id": "3ec6ce66",
   "metadata": {},
   "source": [
    "Viết một hàm khởi tạo một map với hai cặp key-value được truyền vào."
   ]
  },
  {
   "cell_type": "code",
   "execution_count": null,
   "metadata": {
    "id": "LRjCs2r6XOgd"
   },
   "outputs": [],
   "source": [
    "def create_map(k1, v1, k2, v2):\n",
    "  \"\"\"Returns a map containing the k1-v1 pair and the k2-v2 pair.\"\"\"\n",
    "  # TODO(you): Implement"
   ]
  },
  {
   "cell_type": "markdown",
   "metadata": {
    "id": "kJTb2E2mfJdx"
   },
   "source": [
    "### Unit Tests (Kiểm thử tự động)\n",
    "\n",
    "Chạy ô sau để kiểm tra đáp án của bạn với một số kiểm thử tự động."
   ]
  },
  {
   "cell_type": "code",
   "execution_count": null,
   "metadata": {
    "id": "2uzJSGRWfL_M"
   },
   "outputs": [],
   "source": [
    "print(create_map(1, 2, 3, 4))\n",
    "# Should print: {1: 2, 3: 4}"
   ]
  },
  {
   "cell_type": "markdown",
   "metadata": {
    "id": "n_ox8OmmXYcf"
   },
   "source": [
    "### Solution (Giải pháp)"
   ]
  },
  {
   "cell_type": "code",
   "execution_count": null,
   "metadata": {
    "id": "1I1Mdgq-Xam_"
   },
   "outputs": [],
   "source": [
    "def create_map(k1, v1, k2, v2):\n",
    "  \"\"\"Returns a map containing the k1-v1 pair and k2-v2 pair.\"\"\"\n",
    "  return {\n",
    "      k1: v1,\n",
    "      k2: v2,\n",
    "  }"
   ]
  },
  {
   "cell_type": "markdown",
   "metadata": {
    "id": "nH5q4WQx0s3N"
   },
   "source": [
    "## Question 4 (Câu hỏi 4)"
   ]
  },
  {
   "cell_type": "markdown",
   "metadata": {
    "id": "eVy0XuxSRw7A"
   },
   "source": [
    "You are the head of a high school, and are building out your online reporting and grading system. You have two lists:\n",
    "\n",
    "- `ids` contains integer-valued student identification numbers of all the students in the school.\n",
    "- `names` contains string-valued student names of all the students in the school.\n",
    "\n",
    "You want to create a map that can look up a student's name based on a student ID. You may assume that:\n",
    "\n",
    "- The lists are aligned (so the student with ID `ids[i]` is named `names[i]`).\n",
    "- The two lists have the same length.\n",
    "- All elements in each list are unique."
   ]
  },
  {
   "cell_type": "markdown",
   "id": "c0d0750d",
   "metadata": {},
   "source": [
    "Bạn là hiệu trưởng một trường trung học và đang xây dựng hệ thống báo cáo, chấm điểm trực tuyến. Bạn có hai danh sách:\n",
    "\n",
    "- `ids` chứa các số nguyên là mã số học sinh của tất cả học sinh trong trường.\n",
    "- `names` chứa các chuỗi là tên học sinh của tất cả học sinh trong trường.\n",
    "\n",
    "Bạn muốn tạo một map để tra cứu tên học sinh dựa trên mã số học sinh. Bạn có thể giả định rằng:\n",
    "\n",
    "- Hai danh sách này được căn chỉnh (học sinh có ID `ids[i]` sẽ có tên là `names[i]`).\n",
    "- Hai danh sách có cùng độ dài.\n",
    "- Tất cả phần tử trong mỗi danh sách là duy nhất."
   ]
  },
  {
   "cell_type": "markdown",
   "metadata": {
    "id": "s1VfOZiIbCvy"
   },
   "source": [
    "For example, you may have the following lists for `ids` and `names`."
   ]
  },
  {
   "cell_type": "markdown",
   "id": "61f7332d",
   "metadata": {},
   "source": [
    "Ví dụ, bạn có thể có các danh sách sau cho `ids` và `names`."
   ]
  },
  {
   "cell_type": "code",
   "execution_count": null,
   "metadata": {
    "id": "nwf4UL8ywvxf"
   },
   "outputs": [],
   "source": [
    "ids = [56091, 97823, 34549, 12235, 72527, 28458]\n",
    "names = [\"Romeo Montague\",\n",
    "         \"Juliet Capulet\",\n",
    "         \"Hamlet, Prince of Denmark\",\n",
    "         \"Lord Macbeth\",\n",
    "         \"King Lear\",\n",
    "         \"Antonio, the Merchant of Venice\"]"
   ]
  },
  {
   "cell_type": "markdown",
   "metadata": {
    "id": "ba02Vc-VxeAF"
   },
   "source": [
    "Defining a map in Python should look as follows."
   ]
  },
  {
   "cell_type": "markdown",
   "id": "fc905d69",
   "metadata": {},
   "source": [
    "Định nghĩa một map trong Python sẽ như sau."
   ]
  },
  {
   "cell_type": "code",
   "execution_count": null,
   "metadata": {
    "id": "_bYAOyjjxgJi"
   },
   "outputs": [],
   "source": [
    "id_map = {\n",
    "    56091: \"Romeo Montague\",\n",
    "    97823: \"Juliet Capulet\",\n",
    "    34549: \"Hamlet, Prince of Denmark\",\n",
    "    12235: \"Lord Macbeth\",\n",
    "    72527: \"King Lear\",\n",
    "    28458: \"Antonio, the Merchant of Venice\",\n",
    "}\n",
    "\n",
    "id_map"
   ]
  },
  {
   "cell_type": "markdown",
   "metadata": {
    "id": "10S4TfKHxQ3E"
   },
   "source": [
    "Write a function called `lists_to_map` that uses iteration to place a list of `ids` and a list of `names` into a map, as above."
   ]
  },
  {
   "cell_type": "markdown",
   "id": "bdeee034",
   "metadata": {},
   "source": [
    "Viết một hàm tên là `lists_to_map` sử dụng vòng lặp để đưa một danh sách `ids` và một danh sách `names` vào map như trên."
   ]
  },
  {
   "cell_type": "code",
   "execution_count": null,
   "metadata": {
    "id": "AyJumnhZx5g2"
   },
   "outputs": [],
   "source": [
    "def lists_to_map(ids, names):\n",
    "  \"\"\"Creates a map from two lists.\n",
    "\n",
    "  Args:\n",
    "    ids: A list containing numeric student IDs.\n",
    "    names: A list containing student names.\n",
    "\n",
    "  Returns:\n",
    "    A map from student ID to student name.\n",
    "  \"\"\"\n",
    "  # TODO(you): Implement\n",
    "  print(\"This function has not been implemented.\")"
   ]
  },
  {
   "cell_type": "markdown",
   "metadata": {
    "id": "cFbRORcA1av9"
   },
   "source": [
    "### Unit Tests (Kiểm thử tự động)\n",
    "\n",
    "Chạy ô sau để kiểm tra đáp án của bạn với một số kiểm thử tự động."
   ]
  },
  {
   "cell_type": "code",
   "execution_count": null,
   "metadata": {
    "id": "e_maEV_r1b_B"
   },
   "outputs": [],
   "source": [
    "ids = [56091, 97823, 34549, 12235, 72527, 28458]\n",
    "names = ['Romeo Montague',\n",
    "         'Juliet Capulet',\n",
    "         'Hamlet, Prince of Denmark',\n",
    "         'Lord Macbeth',\n",
    "         'King Lear',\n",
    "         'Antonio, the Merchant of Venice']\n",
    "\n",
    "print(lists_to_map(ids, names))\n",
    "# Should print: {56091: 'Romeo Montague', 97823: 'Juliet Capulet', 34549: 'Hamlet, Prince of Denmark', 12235: 'Lord Macbeth', 72527: 'King Lear', 28458: 'Antonio, the Merchant of Venice'}"
   ]
  },
  {
   "cell_type": "markdown",
   "metadata": {
    "id": "MRq-mv3w8ruT"
   },
   "source": [
    "### Solution (Giải pháp)"
   ]
  },
  {
   "cell_type": "markdown",
   "metadata": {
    "id": "1Ly2qzeeU9Me"
   },
   "source": [
    "Loop through the length of the lists, and add a new element to the map for each element."
   ]
  },
  {
   "cell_type": "markdown",
   "metadata": {},
   "source": [
    "Lặp qua độ dài của danh sách và thêm một phần tử mới vào bản đồ cho mỗi phần tử."
   ]
  },
  {
   "cell_type": "code",
   "execution_count": null,
   "metadata": {
    "id": "qK-q1FfqqaQ8"
   },
   "outputs": [],
   "source": [
    "def lists_to_map(ids, names):\n",
    "  \"\"\"Creates a map from two lists.\n",
    "\n",
    "  Args:\n",
    "    ids: A list containing numeric student IDs.\n",
    "    names: A list containing student names.\n",
    "\n",
    "  Returns:\n",
    "    A map from student ID to student name.\n",
    "  \"\"\"\n",
    "  id_map = {}\n",
    "\n",
    "  for i in range(len(ids)):\n",
    "    id_map[ids[i]] = names[i]\n",
    "\n",
    "  return id_map"
   ]
  }
 ],
 "metadata": {
  "colab": {
   "collapsed_sections": [
    "owssHQMS46_e",
    "Rd7QQEzAzWvt",
    "Pic8r3n4AWWu",
    "FkNJ2Wghi6v0",
    "ehqluUn62Eew",
    "yEGI7v2v2Ee9",
    "2qIy2BsrMor8",
    "bnnfwX1WlmuV",
    "qXuM0xeF2EfC",
    "i3Ze5jvM2rGW",
    "Z8huvQ0P3bip",
    "m5rqzqaZ3bit",
    "iol9VnVXvJ55",
    "AdDqbgAcvKd0",
    "0FOGNqME3zHh",
    "D7lNaqGY3zHq",
    "puvDex_GYl1e",
    "vGNYtiwaZJNO",
    "XAnVLqZceoAx",
    "zAK0KxW25_Z-",
    "3FVIHSGuJBMK",
    "ayZnJ9srrGcK",
    "o2LRJT9o9SKR",
    "q_6pbT2d0ER0"
   ],
   "provenance": [],
   "toc_visible": true
  },
  "kernelspec": {
   "display_name": "Python 3",
   "name": "python3"
  },
  "language_info": {
   "name": "python"
  }
 },
 "nbformat": 4,
 "nbformat_minor": 0
}
